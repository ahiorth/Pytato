{
 "cells": [
  {
   "cell_type": "markdown",
   "id": "c16a6523",
   "metadata": {
    "editable": true
   },
   "source": [
    "<!-- dom:TITLE: E-MOD321 Project in Basic Python coding for subsurface applications  -->\n",
    "# E-MOD321 Project in Basic Python coding for subsurface applications \n",
    "**Aksel Hiorth**\n",
    "\n",
    "Date: **Jan 15, 2024**"
   ]
  },
  {
   "cell_type": "code",
   "execution_count": 1,
   "id": "6c4f966b",
   "metadata": {
    "collapsed": false,
    "editable": true
   },
   "outputs": [],
   "source": [
    "%matplotlib inline\n",
    "\n",
    "import numpy as np\n",
    "import scipy as sp\n",
    "import pandas as pd\n",
    "import matplotlib.pyplot as plt\n",
    "import pathlib as pt"
   ]
  },
  {
   "cell_type": "markdown",
   "id": "370229d4",
   "metadata": {
    "editable": true
   },
   "source": [
    "**Learning objectives.**\n",
    "* Create simple plots using [`matplotlib`](https://matplotlib.org).\n",
    "\n",
    "* Loop over, group and filter data.\n",
    "\n",
    "* Use vanilla Python, Numpy and Pandas to achieve similar results.\n",
    "\n",
    "* Wrap code in functions to reuse code.\n",
    "\n",
    "* Wrap data and functions into classes to create good interfaces."
   ]
  },
  {
   "cell_type": "markdown",
   "id": "c575216d",
   "metadata": {
    "editable": true
   },
   "source": [
    "# Exercise 1: Matplotlib visualization\n",
    "In `jotun_data.py` in the `data` folder \"official production data\":\" <https://factpages.sodir.no/en/field/PageView/All/43604>\" are available as lists. You can import them as"
   ]
  },
  {
   "cell_type": "code",
   "execution_count": 2,
   "id": "40415b3a",
   "metadata": {
    "collapsed": false,
    "editable": true
   },
   "outputs": [],
   "source": [
    "import sys\n",
    "sys.path.append('../data/')# alternatively put jotun_data.py in your folder\n",
    "from jotun_data import years, months, oil_gross, gas_gross, oe_gross, wat_prod"
   ]
  },
  {
   "cell_type": "markdown",
   "id": "f372f8eb",
   "metadata": {
    "editable": true
   },
   "source": [
    "**Question:**\n",
    "* Use matplotlib to plot oil equivalents, `oe_gross` vs the `years` data. Try to make the plot as similar as possible to [figure 1](#p1:jotun).\n",
    "\n",
    "<!-- dom:FIGURE: [fig-project1/jotun.png, width=400 frac=1.0] Jotun production data. <div id=\"p1:jotun\"></div> -->\n",
    "<!-- begin figure -->\n",
    "<div id=\"p1:jotun\"></div>\n",
    "\n",
    "<img src=\"fig-project1/jotun.png\" width=400><p style=\"font-size: 0.9em\"><i>Figure 1: Jotun production data.</i></p>\n",
    "<!-- end figure -->"
   ]
  },
  {
   "cell_type": "code",
   "execution_count": 3,
   "id": "8eb8b4cb",
   "metadata": {
    "collapsed": false,
    "editable": true
   },
   "outputs": [],
   "source": [
    "#answer"
   ]
  },
  {
   "cell_type": "markdown",
   "id": "ac354a64",
   "metadata": {
    "editable": true
   },
   "source": [
    "# Exercise 2: Loop over data\n",
    "Oil equivalents are simply the sum of oil volumes and gas volumes. (Or to be more specific: The convention used when comparing gas volumes with oil volumes is to divide the gas volumes by 1000, see [conversion factors](https://www.sodir.no/en/about-us/use-of-content/conversion-table/). However, we do not need to do anything here because the unit of the gas volumes in `jotun_data.py` is $10^9$ Sm$^3$ and the oil volumes in $10^6$ Sm$^3$.)\n",
    "\n",
    "Thus, to calculate oil equivalents from our lists that contain oil and gas volumes you just have to add them together.\n",
    "\n",
    "**Question 1:** Use vanilla Python to loop over `oil_gross` and `gas_gross`, create a new *list*, which holds your calculated oil equivalents volumes. Note: You can compare with `oe_gross` to check if your calculations are correct.\n",
    "\n",
    "**Question 2:** Convert your lists to `numpy.arrays`, by doing e.g. `np.array(oil_gross)`. Perform the same calculation as in Question 1, but this time using Numpy (and no loop)."
   ]
  },
  {
   "cell_type": "code",
   "execution_count": 4,
   "id": "44325d14",
   "metadata": {
    "collapsed": false,
    "editable": true
   },
   "outputs": [],
   "source": [
    "#answer"
   ]
  },
  {
   "cell_type": "markdown",
   "id": "fcb9f5de",
   "metadata": {
    "editable": true
   },
   "source": [
    "# Exercise 3: Boolean masking\n",
    "\n",
    "**Question 1:** Use vanilla Python to create a loop and sum up all oil equivalents that was produced for the year 2000. (If you did everything correct you should get 7.529206 10$^6$Sm$^3$ for the year 2000.)\n",
    "\n",
    "**Question 2:**\n",
    "Create to new `numpy.arrays`, by"
   ]
  },
  {
   "cell_type": "code",
   "execution_count": 5,
   "id": "572e5826",
   "metadata": {
    "collapsed": false,
    "editable": true
   },
   "outputs": [],
   "source": [
    "years_np=np.array(years)\n",
    "oe_np=np.array(oe_gross)"
   ]
  },
  {
   "cell_type": "markdown",
   "id": "8679aca3",
   "metadata": {
    "editable": true
   },
   "source": [
    "Show how you can use Boolean masking to pick out only produced oil equivalents for the year 2000, without using a loop. Use `np.sum()` to sum all the volumes. \n",
    "\n",
    "**Question 3:** Use `np.unique()` to create a unique `np.array()` of years. Loop over this array and use Boolean masking to create a new list (or `np.array()`) that holds the total produced oil equivalents for that year.\n",
    "\n",
    "**Question 4:** Use the results in the previous question to create a bar plot and compare with [figure 2](#p1:jotun2)\n",
    "\n",
    "<!-- dom:FIGURE: [fig-project1/jotun_oe.png, width=400 frac=1.0] Jotun production data. <div id=\"p1:jotun2\"></div> -->\n",
    "<!-- begin figure -->\n",
    "<div id=\"p1:jotun2\"></div>\n",
    "\n",
    "<img src=\"fig-project1/jotun_oe.png\" width=400><p style=\"font-size: 0.9em\"><i>Figure 2: Jotun production data.</i></p>\n",
    "<!-- end figure -->\n",
    "\n",
    "# Exercise 4: Dictionaries and Pandas DataFrame\n",
    "\n",
    "**Question 1:** Create a dictionary that holds all the Jotun data (i.e. `years, months, oil_gross, gas_gross, oe_gross, wat_prod`) you imported in Exercise 1. Choose suitable key names to use in the dictionary."
   ]
  },
  {
   "cell_type": "code",
   "execution_count": 6,
   "id": "3347b51c",
   "metadata": {
    "collapsed": false,
    "editable": true
   },
   "outputs": [],
   "source": [
    "data_dict={# fill inn}"
   ]
  },
  {
   "cell_type": "markdown",
   "id": "2479c0d8",
   "metadata": {
    "editable": true
   },
   "source": [
    "**Question 2:** Create a loop over all the keys in `data_dict` and show how you can print out the keys and the values in the dictionary.\n",
    "\n",
    "**Question 3:** Create a DataFrame from your dictionary. Show how we can use `DataFrame.groupby().sum()` to find production of oil, gas, water, and oil equivalents per year. \n",
    "\n",
    "# Exercise 5: Extract data using a function\n",
    "\n",
    "**Question:** Create a function from the following code. The function should take as argument the field name and return a DataFrame with field data. Include a docstring in the function."
   ]
  },
  {
   "cell_type": "code",
   "execution_count": 7,
   "id": "556d52ae",
   "metadata": {
    "collapsed": false,
    "editable": true
   },
   "outputs": [],
   "source": [
    "df_prod=pd.read_excel('../data/field_production_gross_monthly.xlsx')\n",
    "df=df_prod[df_prod['Field (Discovery)'] == 'JOTUN']"
   ]
  },
  {
   "cell_type": "code",
   "execution_count": 8,
   "id": "20603289",
   "metadata": {
    "collapsed": false,
    "editable": true
   },
   "outputs": [],
   "source": [
    "def get_data(field):\n",
    "    # write code here ..\n",
    "    return #..."
   ]
  },
  {
   "cell_type": "markdown",
   "id": "22da7523",
   "metadata": {
    "editable": true
   },
   "source": [
    "**Optional:** Make the function more robust, by allowing for case insensitive names and/or give a warning if no data was extracted for the field."
   ]
  },
  {
   "cell_type": "code",
   "execution_count": 9,
   "id": "f7501941",
   "metadata": {
    "collapsed": false,
    "editable": true
   },
   "outputs": [],
   "source": [
    "#answer"
   ]
  },
  {
   "cell_type": "markdown",
   "id": "6ab85360",
   "metadata": {
    "editable": true
   },
   "source": [
    "# Exercise 6: Create a function for plotting data\n",
    "\n",
    "**Question 1:** Create a function that takes as argument the name of a field, and plots oil equivalent production vs time. (Hint: you should use the function you wrote in the previous exercise to extract the data.)"
   ]
  },
  {
   "cell_type": "code",
   "execution_count": 10,
   "id": "47f832dc",
   "metadata": {
    "collapsed": false,
    "editable": true
   },
   "outputs": [],
   "source": [
    "def plot_field(field):\n",
    "    # create plot ..."
   ]
  },
  {
   "cell_type": "markdown",
   "id": "1d5190bd",
   "metadata": {
    "editable": true
   },
   "source": [
    "**Question 2:** Extend the function such that if no data is extracted from the field, write a warning and do not make the plot. (Note: you can use `DataFrame.empty()` to check if the DataFrame contains data.) \n",
    "\n",
    "**Optional:** Extend the function such that it can take in a list of values (e.g. gas, oil, etc.) that should be plotted in the same plot."
   ]
  },
  {
   "cell_type": "code",
   "execution_count": 11,
   "id": "24388bbd",
   "metadata": {
    "collapsed": false,
    "editable": true
   },
   "outputs": [],
   "source": [
    "#answer"
   ]
  },
  {
   "cell_type": "markdown",
   "id": "5c302939",
   "metadata": {
    "editable": true
   },
   "source": [
    "# Exercise 7: Write data to files\n",
    "\n",
    "**Question 1:** Explain what the following code does. By adding comment lines to each line of the following code."
   ]
  },
  {
   "cell_type": "code",
   "execution_count": 12,
   "id": "9923e06b",
   "metadata": {
    "collapsed": false,
    "editable": true
   },
   "outputs": [],
   "source": [
    "field='JOTUN' # com1\n",
    "#--------- start --------\n",
    "df=get_data(field) # com2\n",
    "data_folder=pt.Path('tmp_data') # com3 \n",
    "data_folder.mkdir(exist_ok=True)# etc.\n",
    "new_name=str.replace(field,'/','')\n",
    "new_path=data_folder / new_name\n",
    "new_path.mkdir(exist_ok=True)\n",
    "df2=df[df[df.columns[0]]==field]\n",
    "df2.to_excel(new_path/'production_data.xlsx',index=False)\n",
    "#-------- stop ----------"
   ]
  },
  {
   "cell_type": "markdown",
   "id": "29d2b9da",
   "metadata": {
    "editable": true
   },
   "source": [
    "**Question 2:** Create a function from the code between `-- start --` and `-- stop --`. It should take as argument the field name."
   ]
  },
  {
   "cell_type": "code",
   "execution_count": 13,
   "id": "10089211",
   "metadata": {
    "collapsed": false,
    "editable": true
   },
   "outputs": [],
   "source": [
    "def write_data(field):\n",
    "    # ....\n",
    "    return #optional"
   ]
  },
  {
   "cell_type": "markdown",
   "id": "349d87aa",
   "metadata": {
    "editable": true
   },
   "source": [
    "**Question 3:** If your Excel file is open in another program, the command `df2.to_excel(new_path/'production_data.xlsx',index=False)`, will fail. Use the `try:` and `except:` commands to try and write the Excel file, and if this fails, give the user a warning.\n",
    "\n",
    "**Optional:** Extend the previous function and introduce a default argument, representing `tmp_data` so that the user can specify the directory name."
   ]
  },
  {
   "cell_type": "code",
   "execution_count": 14,
   "id": "cdd598ef",
   "metadata": {
    "collapsed": false,
    "editable": true
   },
   "outputs": [],
   "source": [
    "#answer"
   ]
  },
  {
   "cell_type": "markdown",
   "id": "1651ed4f",
   "metadata": {
    "editable": true
   },
   "source": [
    "# Exercise 8: Loop over all fields\n",
    "The following code writes all field data to separate Excel files."
   ]
  },
  {
   "cell_type": "code",
   "execution_count": 15,
   "id": "03fcab48",
   "metadata": {
    "collapsed": false,
    "editable": true
   },
   "outputs": [],
   "source": [
    "df=pd.read_excel('../data/field_production_gross_monthly.xlsx')\n",
    "fields=df[df.columns[0]].unique() #skip duplicates\n",
    "data_folder=pt.Path('tmp_data')\n",
    "data_folder.mkdir(exist_ok=True)\n",
    "for field in fields:\n",
    "    new_name=str.replace(field,'/','')\n",
    "    new_path=data_folder / new_name\n",
    "    new_path.mkdir(exist_ok=True)\n",
    "    df2=df[df[df.columns[0]]==field]\n",
    "    df2.to_excel(new_path/'production_data.xlsx',index=False)"
   ]
  },
  {
   "cell_type": "markdown",
   "id": "297f907b",
   "metadata": {
    "editable": true
   },
   "source": [
    "**Question:** Use one or several functions to achieve the same as the block of code above does. Comment on your choice."
   ]
  },
  {
   "cell_type": "code",
   "execution_count": 16,
   "id": "5064dd8e",
   "metadata": {
    "collapsed": false,
    "editable": true
   },
   "outputs": [],
   "source": [
    "#answer"
   ]
  },
  {
   "cell_type": "markdown",
   "id": "4a21211d",
   "metadata": {
    "editable": true
   },
   "source": [
    "# Exercise 9: lambda functions\n",
    "Rewrite the following functions, using Pythons `lambda` function"
   ]
  },
  {
   "cell_type": "code",
   "execution_count": 17,
   "id": "d5ec2bc6",
   "metadata": {
    "collapsed": false,
    "editable": true
   },
   "outputs": [],
   "source": [
    "def remove_space(x):\n",
    "    return x.strip()"
   ]
  },
  {
   "cell_type": "code",
   "execution_count": 18,
   "id": "fdada046",
   "metadata": {
    "collapsed": false,
    "editable": true
   },
   "outputs": [],
   "source": [
    "def upper_case(x):\n",
    "    return x.upper()"
   ]
  },
  {
   "cell_type": "code",
   "execution_count": 19,
   "id": "d5b1eed9",
   "metadata": {
    "collapsed": false,
    "editable": true
   },
   "outputs": [],
   "source": [
    "#answer"
   ]
  },
  {
   "cell_type": "markdown",
   "id": "9658cb2d",
   "metadata": {
    "editable": true
   },
   "source": [
    "# Exercise 10: Assert your code\n",
    "Create two assert tests for `remove_space` and `upper_case` defined in the previous exercise."
   ]
  },
  {
   "cell_type": "code",
   "execution_count": 20,
   "id": "8b50e289",
   "metadata": {
    "collapsed": false,
    "editable": true
   },
   "outputs": [],
   "source": [
    "#answer"
   ]
  },
  {
   "cell_type": "markdown",
   "id": "cb436527",
   "metadata": {
    "editable": true
   },
   "source": [
    "# Exercise 11: A simple class\n",
    "\n",
    "**Question1:** Take a look at the following class, and explain what each line does, by adding comments behind each line."
   ]
  },
  {
   "cell_type": "code",
   "execution_count": 21,
   "id": "3df16393",
   "metadata": {
    "collapsed": false,
    "editable": true
   },
   "outputs": [],
   "source": [
    "\n",
    "class DeclineCurve:\n",
    "    def __init__(self,q,tau):\n",
    "        self.q=q \n",
    "        self.tau=tau\n",
    "    \n",
    "    def f(self,t):\n",
    "        return self.q*np.exp(-t/self.tau)"
   ]
  },
  {
   "cell_type": "markdown",
   "id": "47b36865",
   "metadata": {
    "editable": true
   },
   "source": [
    "**Question2:** Add a function to the class, named `plot()`, such that the following code produce the output in [figure 3](#fig:p1:dec). (To create a suitable list of `t` values you can do `t=np.linspace(0,10,1000)`, or more general `t=np.linspace(0,10*self.tau,1000)`)"
   ]
  },
  {
   "cell_type": "code",
   "execution_count": 22,
   "id": "42ecc611",
   "metadata": {
    "collapsed": false,
    "editable": true
   },
   "outputs": [],
   "source": [
    "A=DeclineCurve(1,1)\n",
    "A.plot()"
   ]
  },
  {
   "cell_type": "markdown",
   "id": "de8f1090",
   "metadata": {
    "editable": true
   },
   "source": [
    "<!-- dom:FIGURE: [fig-project1/decline.png, width=400 frac=1.0] An exponential decline curve. <div id=\"fig:p1:dec\"></div> -->\n",
    "<!-- begin figure -->\n",
    "<div id=\"fig:p1:dec\"></div>\n",
    "\n",
    "<img src=\"fig-project1/decline.png\" width=400><p style=\"font-size: 0.9em\"><i>Figure 3: An exponential decline curve.</i></p>\n",
    "<!-- end figure -->\n",
    "\n",
    "# Exercise 12: A more comprehensive class\n",
    "Inspect the following class"
   ]
  },
  {
   "cell_type": "code",
   "execution_count": 23,
   "id": "d6d8efb8",
   "metadata": {
    "collapsed": false,
    "editable": true
   },
   "outputs": [],
   "source": [
    "class ProdData:\n",
    "    \"\"\"\n",
    "    A class to extract production data from FactPages\n",
    "    \"\"\"\n",
    "    def __init__(self):\n",
    "        self.df_prod=pd.read_excel('../data/field_production_gross_monthly.xlsx')\n",
    "    \n",
    "    def get_data(self,field):\n",
    "        \"\"\"\n",
    "        Extracts data for a specific field\n",
    "        \"\"\"\n",
    "        df= self.df_prod[(self.df_prod['Field (Discovery)'] == field)]\n",
    "        return df"
   ]
  },
  {
   "cell_type": "markdown",
   "id": "64ac04fc",
   "metadata": {
    "editable": true
   },
   "source": [
    "Add the following functions to the class:\n",
    "1. `write_data(field)` write data for a single field to an Excel file\n",
    "\n",
    "2. `write_all_data()` write an Excel file for each field\n",
    "\n",
    "3. A function to plot production data for a field\n",
    "\n",
    "**The following is optional:**\n",
    "1. Add some checking to the functions, this could be a sensible error message if e.g. the file `../data/field_production_gross_monthly.xlsx` does not exists or that it is not possible to write data to file.\n",
    "\n",
    "2. Add some unit tests using assert, this could be to check that the oil produced for a certain year (and month) for a specific field is equal to a specific value.\n",
    "\n",
    "# (OPTIONAL) Exercise 13: The Dash library\n",
    "[The Dash library](https://dash.plotly.com/) is one of the most popular libraries. Install it by doing"
   ]
  },
  {
   "cell_type": "markdown",
   "id": "c4f42e15",
   "metadata": {
    "editable": true
   },
   "source": [
    "        conda install dash\n"
   ]
  },
  {
   "cell_type": "markdown",
   "id": "125a1403",
   "metadata": {
    "editable": true
   },
   "source": [
    "(If this fails, run `pip install dash`). Run the following code, which is copied from [a minimal dash app](https://dash.plotly.com/minimal-app)."
   ]
  },
  {
   "cell_type": "code",
   "execution_count": 24,
   "id": "e302db38",
   "metadata": {
    "collapsed": false,
    "editable": true
   },
   "outputs": [],
   "source": [
    "from dash import Dash, html, dcc, callback, Output, Input\n",
    "import plotly.express as px\n",
    "import pandas as pd\n",
    "\n",
    "df = pd.read_csv('https://raw.githubusercontent.com/plotly/datasets/master/gapminder_unfiltered.csv')\n",
    "\n",
    "app = Dash(__name__)\n",
    "\n",
    "app.layout = html.Div([\n",
    "    html.H1(children='Title of Dash App', style={'textAlign':'center'}),\n",
    "    dcc.Dropdown(df.country.unique(), 'Canada', id='dropdown-selection'),\n",
    "    dcc.Graph(id='graph-content')\n",
    "])\n",
    "\n",
    "@callback(\n",
    "    Output('graph-content', 'figure'),\n",
    "    Input('dropdown-selection', 'value')\n",
    ")\n",
    "def update_graph(value):\n",
    "    dff = df[df.country==value]\n",
    "    return px.line(dff, x='year', y='pop')\n",
    "\n",
    "if __name__ == '__main__':\n",
    "    app.run(debug=True)"
   ]
  },
  {
   "cell_type": "markdown",
   "id": "07356d71",
   "metadata": {
    "editable": true
   },
   "source": [
    "**Question:** Can you modify the code above to read and plot our data in `../data/field_production_gross_monthly.xlsx`? (Note: you can also download the production data directly by copying the correct address, by right-clicking on the Excel (or csv) tab [here](https://factpages.sodir.no/en/field/TableView/Production/SumWellbores/Monthly).)"
   ]
  }
 ],
 "metadata": {},
 "nbformat": 4,
 "nbformat_minor": 5
}
