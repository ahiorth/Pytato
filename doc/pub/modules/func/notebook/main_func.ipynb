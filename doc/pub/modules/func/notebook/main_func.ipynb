{
 "cells": [
  {
   "cell_type": "markdown",
   "id": "2fa7830a",
   "metadata": {
    "editable": true
   },
   "source": [
    "<!-- dom:TITLE: Create your own functions -->\n",
    "# Create your own functions\n",
    "**Aksel Hiorth**\n",
    "University of Stavanger\n",
    "\n",
    "Date: **Jan 6, 2024**\n",
    "\n",
    "<!-- Common Mako variables and functions -->\n",
    "\n",
    "<!-- Here goes the main text. -->\n",
    "<!-- The text may be split into several files and included here -->\n",
    "<!-- via preprocess: # #include \"file1.do.txt\" etc -->\n",
    "\n",
    "# What is a function?\n",
    "As explained in the introduction, a function is several lines of code that perform a specific task. In many ways you can think of a function as a recipe, e.g. a cake recipe. To make a cake we need a certain input, eggs, flour, sugar, chocolate, then we follow a specific set of operations to produce the cake. A function in Python operates in the same way, it takes something as input (different variables), follow certain steps and returns a product (the cake).\n",
    "\n",
    "You have already used a lot built in functions in Python, such as `print()`, `pandas.DataFrame()`, etc.\n",
    "\n",
    "# When to define a function?\n",
    "\n",
    "When to use functions? There is no particular rule, *but whenever you\n",
    "start to copy and paste code from one place to another, you should\n",
    "consider to use a function*. Functions makes the code easier to read.\n",
    "It is not easy to identify which part of a program is a good candidate\n",
    "for a function, it requires skill and experience. Most likely you will\n",
    "end up changing the function definitions as your program develops.\n",
    "\n",
    "**Use short functions.**\n",
    "\n",
    "Short functions makes the code easier to read. Each function has a particular task, and it does only one thing. If functions do too many tasks there is a chance that you will have several functions doing some of the same operations. Whenever you want to extend the program, you may have to make changes several places in the code. The chance then is that you will forget to do the change in some of the functions and introduce a bug.\n",
    "\n",
    "\n",
    "\n",
    "## Exercise:\n",
    "\n",
    "# Bibliography"
   ]
  }
 ],
 "metadata": {},
 "nbformat": 4,
 "nbformat_minor": 5
}
