{
 "cells": [
  {
   "cell_type": "markdown",
   "id": "0196cac1",
   "metadata": {
    "editable": true
   },
   "source": [
    "<!-- File automatically generated using DocOnce (https://github.com/doconce/doconce/):\n",
    "doconce format ipynb main_exercises-2.do.txt  -->\n",
    "\n",
    "# Exercises II\n",
    "**Aksel Hiorth**\n",
    "University of Stavanger\n",
    "\n",
    "Date: **Jan 17, 2024**\n",
    "\n",
    "<h1 id=\"table_of_contents\">Table of contents</h1>\n",
    "\n",
    "<div class='toc'>\n",
    "<p><a href=\"#Exercise-1-Create-a-function-for-extracting-data\"> Exercise 1: Create a function for extracting data </a></p>\n",
    "<p><a href=\"#Exercise-2-Improve-the-previous-function\"> Exercise 2: Improve the previous function </a></p>\n",
    "<p><a href=\"#Exercise-3-More-improvements\"> Exercise 3: More improvements </a></p>\n",
    "<p><a href=\"#Exercise-4-Increase-speed\"> Exercise 4: Increase speed  </a></p>\n",
    "<p><a href=\"#Exercise-5-Encapsulate-in-a-class\"> Exercise 5: Encapsulate in a class  </a></p>\n",
    "<p><a href=\"#Bibliography\"> Bibliography </a></p>\n",
    "</div>\n",
    "<br>\n",
    "\n",
    "<!-- Common Mako variables and functions -->\n",
    "\n",
    "<!-- Here goes the main text. -->\n",
    "<!-- The text may be split into several files and included here -->\n",
    "<!-- via preprocess: # #include \"file1.do.txt\" etc -->"
   ]
  },
  {
   "cell_type": "markdown",
   "id": "e06cca7c",
   "metadata": {
    "editable": true
   },
   "source": [
    "# Exercise 1: Create a function for extracting data\n",
    "\n",
    "**Question:** Create a function from the following code. The function should take as argument the field name and return a DataFrame with field data. Include a docstring in the function."
   ]
  },
  {
   "cell_type": "code",
   "execution_count": 1,
   "id": "18755173",
   "metadata": {
    "collapsed": false,
    "editable": true
   },
   "outputs": [],
   "source": [
    "import pandas as pd\n",
    "df_prod=pd.read_excel('../data/field_production_gross_monthly.xlsx')\n",
    "df=df_prod[df_prod['Field (Discovery)'] == 'DRAUGEN']"
   ]
  },
  {
   "cell_type": "markdown",
   "id": "429d68e7",
   "metadata": {
    "editable": true
   },
   "source": [
    "**Solution:**"
   ]
  },
  {
   "cell_type": "code",
   "execution_count": 2,
   "id": "1fa42a17",
   "metadata": {
    "collapsed": false,
    "editable": true
   },
   "outputs": [],
   "source": [
    "def get_data(field):\n",
    "        \"\"\"\n",
    "        Extracts data for a specific field\n",
    "        \"\"\"\n",
    "\tdf_prod=pd.read_excel('../data/field_production_gross_monthly.xlsx')\n",
    "        df= df_prod[df_prod['Field (Discovery)'] == field]\n",
    "        return df\n",
    "\n",
    "# example of use\n",
    "df=get_data('DRAUGEN')"
   ]
  },
  {
   "cell_type": "markdown",
   "id": "d5159de1",
   "metadata": {
    "editable": true
   },
   "source": [
    "# Exercise 2: Improve the previous function\n",
    "To check if a DataFrame, `df`,  contains any data, we can use `df.empty`. If `df.empty` is `True`, there are no data in the DataFrame.\n",
    "\n",
    "**Question:** Extend the previous function, by using `df.empty` to give a message if no data are available for a field."
   ]
  },
  {
   "cell_type": "markdown",
   "id": "429d68e7_1",
   "metadata": {
    "editable": true
   },
   "source": [
    "**Solution:**"
   ]
  },
  {
   "cell_type": "code",
   "execution_count": 3,
   "id": "79454e82",
   "metadata": {
    "collapsed": false,
    "editable": true
   },
   "outputs": [],
   "source": [
    "def get_data(field):\n",
    "        \"\"\"\n",
    "        Extracts data for a specific field\n",
    "        \"\"\"\n",
    "\tdf_prod=pd.read_excel('../data/field_production_gross_monthly.xlsx')\n",
    "        df= df_prod[df_prod['Field (Discovery)'] == field]\n",
    "\tif df.empty:\n",
    "\t   print('No data for ', field)\n",
    "        return df\n",
    "\n",
    "# example of use\n",
    "df=get_data('draugen')"
   ]
  },
  {
   "cell_type": "markdown",
   "id": "2efc41e8",
   "metadata": {
    "editable": true
   },
   "source": [
    "# Exercise 3: More improvements\n",
    "\n",
    "**Question:** Extend the previous function such that it is case insensitive, i.e. that `get_data('draugen')` would actually return data."
   ]
  },
  {
   "cell_type": "markdown",
   "id": "429d68e7_2",
   "metadata": {
    "editable": true
   },
   "source": [
    "**Solution:**"
   ]
  },
  {
   "cell_type": "code",
   "execution_count": 4,
   "id": "06f2f1f6",
   "metadata": {
    "collapsed": false,
    "editable": true
   },
   "outputs": [],
   "source": [
    "def get_data(field):\n",
    "        \"\"\"\n",
    "        Extracts data for a specific field\n",
    "        \"\"\"\n",
    "\tdf_prod=pd.read_excel('../data/field_production_gross_monthly.xlsx')\n",
    "\tfield = field.upper()\n",
    "        df= df_prod[df_prod['Field (Discovery)'] == field]\n",
    "\tif df.empty:\n",
    "\t   print('No data for ', field)\n",
    "        return df\n",
    "\n",
    "# example of use\n",
    "df=get_data('draugen')"
   ]
  },
  {
   "cell_type": "markdown",
   "id": "bf467c52",
   "metadata": {
    "editable": true
   },
   "source": [
    "# Exercise 4: Increase speed\n",
    "\n",
    "The previous function is a bit slow, because for each field we read the big Excel file `field_production_gross_monthly.xlsx` each time. It is much better to read it only once.\n",
    "\n",
    "**Question:** Read the data outside the function and pass the production DataFrame, using a default argument."
   ]
  },
  {
   "cell_type": "markdown",
   "id": "2c0b61e3",
   "metadata": {
    "editable": true
   },
   "source": [
    "**Solution:**\n",
    "\n",
    "Variables defined outside a function in Python is considered as global, thus you do not send them as argument, but it is generally considered bad coding practice to use global variables, hence"
   ]
  },
  {
   "cell_type": "code",
   "execution_count": 5,
   "id": "c55d418f",
   "metadata": {
    "collapsed": false,
    "editable": true
   },
   "outputs": [],
   "source": [
    "df_prod=pd.read_excel('../data/field_production_gross_monthly.xlsx')\n",
    "\n",
    "def get_data(field,df_prod=df_prod):\n",
    "        \"\"\"\n",
    "        Extracts data for a specific field\n",
    "        \"\"\"\n",
    "\tfield = field.upper()\n",
    "        df= df_prod[df_prod['Field (Discovery)'] == field]\n",
    "\tif df.empty:\n",
    "\t   print('No data for ', field)\n",
    "        return df"
   ]
  },
  {
   "cell_type": "code",
   "execution_count": 6,
   "id": "e0e785ba",
   "metadata": {
    "collapsed": false,
    "editable": true
   },
   "outputs": [],
   "source": [
    "# example of use\n",
    "df=get_data('draugen')\n",
    "df2=get_data('ekofisk')"
   ]
  },
  {
   "cell_type": "markdown",
   "id": "4c545820",
   "metadata": {
    "editable": true
   },
   "source": [
    "# Exercise 5: Encapsulate in a class\n",
    "In the previous exercise we had to use a global variable `df_prod` and then pass it to our function. In many cases it might be much easier to use a class.\n",
    "\n",
    "**Question:** Create a class:\n",
    "1. where the `__init__` function reads in the data\n",
    "\n",
    "2. and add a class function that returns data for a given field"
   ]
  },
  {
   "cell_type": "markdown",
   "id": "429d68e7_3",
   "metadata": {
    "editable": true
   },
   "source": [
    "**Solution:**"
   ]
  },
  {
   "cell_type": "code",
   "execution_count": 7,
   "id": "bae875f3",
   "metadata": {
    "collapsed": false,
    "editable": true
   },
   "outputs": [],
   "source": [
    "class ProdData:\n",
    "    \"\"\"\n",
    "    A class to extract production data from FactPages\n",
    "    \"\"\"\n",
    "    def __init__(self):\n",
    "    \tself.df_prod=pd.read_excel('../data/field_production_gross_monthly.xlsx')\n",
    "    \n",
    "       def get_data(self,field):\n",
    "        \"\"\"\n",
    "        Extracts data for a specific field\n",
    "        \"\"\"\n",
    "        field=field.upper()\n",
    "        df= self.df_prod[(self.df_prod['Field (Discovery)'] == field)]\n",
    "        if df.empty:\n",
    "             print('No data for ', field)\n",
    "        return df\n",
    "ff=ProdData()"
   ]
  },
  {
   "cell_type": "markdown",
   "id": "ff2bbbb5",
   "metadata": {
    "editable": true
   },
   "source": [
    "Note that the class contains all the data, we do not have to use a global variable"
   ]
  },
  {
   "cell_type": "code",
   "execution_count": 8,
   "id": "59d9ba93",
   "metadata": {
    "collapsed": false,
    "editable": true
   },
   "outputs": [],
   "source": [
    "#example of use\n",
    "df=ff.get_data('draugen')\n",
    "df2=ff.get_data('ekofisk')"
   ]
  },
  {
   "cell_type": "markdown",
   "id": "5243f565",
   "metadata": {
    "editable": true
   },
   "source": [
    "# Bibliography"
   ]
  }
 ],
 "metadata": {},
 "nbformat": 4,
 "nbformat_minor": 5
}
