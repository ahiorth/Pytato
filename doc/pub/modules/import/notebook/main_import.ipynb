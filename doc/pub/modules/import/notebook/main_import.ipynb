{
 "cells": [
  {
   "cell_type": "markdown",
   "id": "4603e38f",
   "metadata": {
    "editable": true
   },
   "source": [
    "<!-- dom:TITLE: Introduction to Practical Applications -->\n",
    "# Introduction to Practical Applications\n",
    "**Aksel Hiorth**\n",
    "University of Stavanger\n",
    "\n",
    "Date: **Dec 14, 2023**\n",
    "\n",
    "<!-- Common Mako variables and functions -->\n",
    "\n",
    "<!-- Here goes the main text. -->\n",
    "<!-- The text may be split into several files and included here -->\n",
    "<!-- via preprocess: # #include \"file1.do.txt\" etc -->\n",
    "# Why Python is so popular: The import statement\n",
    "It is always hard decide which coding language to learn, it usually depends on what you want to do. If you want to do very fast numerical calculations Fortan or C used to be the most popular languages, and for web or application programming Java. However, in recent years Python has become more and more popular, one of the reasons is its large amount of libraries and communities. If you have an idea of what you want to do, you can almost be certain that there exist a Python library written for that purpose. In the next chapters we will cover some advanced operations in Python and use them to motivate to learn more about the basic operations.\n",
    "\n",
    "**Which library to use?**\n",
    "\n",
    "This is not easy to answer, but here we will introduce you to the most popular libraries. We will suggest to stick to as few libraries as possible and try to achieve what you want with these.\n",
    "\n",
    "\n",
    "\n",
    "# Matplotlib: Basic plotting in Python\n",
    "Visualizing data is a must, the code for plotting two arrays of data is"
   ]
  },
  {
   "cell_type": "code",
   "execution_count": 1,
   "id": "3f3c13bf",
   "metadata": {
    "collapsed": false,
    "editable": true
   },
   "outputs": [],
   "source": [
    "%matplotlib inline\n",
    "\n",
    "import matplotlib.pyplot as plt\n",
    "x=[1,2,3,4]\n",
    "y=[2,4,9,16] # y=x*x\n",
    "plt.plot(x,y,label='y=x^2')\n",
    "plt.legend() # try to remove and see what happens\n",
    "plt.grid()   # try to remove and see what happens"
   ]
  },
  {
   "cell_type": "markdown",
   "id": "113449b9",
   "metadata": {
    "editable": true
   },
   "source": [
    "Let us go through each line\n",
    "1. `import matplotlib.pyplot as plt` this line tells Python to import the [matplotlib.pyplot](https://matplotlib.org/3.5.3/api/_as_gen/matplotlib.pyplot.html) library. This library contains a lot of functions that other people have made. We use the `as` statement to indicate that we will name the `matplotlib.pyplot` library as `plt`. Thus we do not need to write `matplotlib.pyplot` every time we want to use a function in this library. We access functions in the library by simply placing a `.` after `plt`.\n",
    "\n",
    "2. Next, we define two lists `x` and `y`, these lists have to be of equal length\n",
    "\n",
    "3. The `plt.plot` commands plots `y` vs `x`\n",
    "\n",
    "4. `plt.legend()` display the legend given inside the `plt.plot` command\n",
    "\n",
    "5. `plt.grid()` adds grid lines which makes it easier to read the plot\n",
    "\n",
    "By visiting the official documentation, and view the [Matplotlib gallery](https://matplotlib.org/stable/gallery/index.html), you will see a lot of examples on how to visualize your data.\n",
    "\n",
    "# Data structures  (Basic)\n",
    "The data we want to e.g. visualize has to be stored or passed around in the code somehow. Data structures provide an interface to your data, that makes it efficient to access them. Below we give a short explanation of the most used data structures, which you should be familiar with\n",
    "\n",
    "## Lists\n",
    " Lists are defined using the square bracket `[]` symbol, e.g."
   ]
  },
  {
   "cell_type": "code",
   "execution_count": 2,
   "id": "e3fed03f",
   "metadata": {
    "collapsed": false,
    "editable": true
   },
   "outputs": [],
   "source": [
    "my_list = []      # an empty list\n",
    "my_list = []*10   # still an empty list ...\n",
    "my_list = [0]*10  # a list with 10 zeros\n",
    "my_list = ['one', 'two','three'] # a list of strings\n",
    "my_list = ['one']*10 # a list with 10 equal string elements"
   ]
  },
  {
   "cell_type": "markdown",
   "id": "6cb4d37a",
   "metadata": {
    "editable": true
   },
   "source": [
    "**Notice.**\n",
    "\n",
    "To get the first element in a list, we do e.g. `my_list[0]`. Notice that the counter start at 0 and not 1. In a list with 10 elements the last element would be `my_list[9]`, the length of a list can be found by using the `len()` function, i.e. `len(my_list)` would give =10. Thus, the last element can also be found by doing `my_list[len(my_list)-1]`. However, in Python you can always get the last element by doing `my_list[-1]`, the second last element would be `my_list[-2]` and so on.\n",
    "\n",
    "\n",
    "\n",
    "To add stuff to a list, we use the `append` function"
   ]
  },
  {
   "cell_type": "code",
   "execution_count": 3,
   "id": "23e25d5f",
   "metadata": {
    "collapsed": false,
    "editable": true
   },
   "outputs": [],
   "source": [
    "my_list = []      # an empty list\n",
    "my_list.append(2) # [2]\n",
    "my_list.append('dog') # [2, 'dog']"
   ]
  },
  {
   "cell_type": "markdown",
   "id": "117785b3",
   "metadata": {
    "editable": true
   },
   "source": [
    "You can also remove stuff, using the `pop` function, then you also have to give the index"
   ]
  },
  {
   "cell_type": "code",
   "execution_count": 4,
   "id": "35952265",
   "metadata": {
    "collapsed": false,
    "editable": true
   },
   "outputs": [],
   "source": [
    "my_list.pop(0) # my_list=['dog']"
   ]
  },
  {
   "cell_type": "markdown",
   "id": "9aa8e66c",
   "metadata": {
    "editable": true
   },
   "source": [
    "**print statement.**\n",
    "\n",
    "As default python will usually write to screen your last statement. But at any time you can use the `print` statement to force python to print out any variable, e.g."
   ]
  },
  {
   "cell_type": "code",
   "execution_count": 5,
   "id": "a85e6779",
   "metadata": {
    "collapsed": false,
    "editable": true
   },
   "outputs": [],
   "source": [
    "print(my_list[0]) # first element\n",
    "print(my_list[0],my_list[1]) # first and second element\n",
    "print(my_list) # the whole list"
   ]
  },
  {
   "cell_type": "markdown",
   "id": "cd78509b",
   "metadata": {
    "editable": true
   },
   "source": [
    "### List comprehension\n",
    "\n",
    "Sometimes you do not want to initialize the list with everything equal, and it can be tiresome to write everything out yourself. If that is the case you can use *list comprehension*"
   ]
  },
  {
   "cell_type": "code",
   "execution_count": 6,
   "id": "c98c0080",
   "metadata": {
    "collapsed": false,
    "editable": true
   },
   "outputs": [],
   "source": [
    "x = [i for i in range(10)] # a list from 0,1,2,..,9\n",
    "y = [i**2 for i in range(10)] # a list with elements 0,1,4, ..,81"
   ]
  },
  {
   "cell_type": "markdown",
   "id": "9341933c",
   "metadata": {
    "editable": true
   },
   "source": [
    "We will cover the for loop later, but basically what is done is that the statement `i in range(10)`, gives `i` the value 0, 1, $\\ldots$, 9 and the first `i` inside the list tells python to use that value as the element in the list. Using this syntax, there are plenty of opportunities to initialize.\n",
    "\n",
    "### Example: use list comprehension to make a plot of $y=x^3$\n",
    "\n",
    "* Create one list of $x\\in[-3,3]$ and the corresponding $y$ values\n",
    "\n",
    "* Use `matplotlib.pyplot` to create a plot.\n",
    "\n",
    "### Solution"
   ]
  },
  {
   "cell_type": "code",
   "execution_count": 7,
   "id": "b29fac0e",
   "metadata": {
    "collapsed": false,
    "editable": true
   },
   "outputs": [],
   "source": [
    "#first we create the x-values\n",
    "N=100 # 100 points\n",
    "dx=6/N\n",
    "x=[-3+i*dx for i in range(N)]\n",
    "y=[i**3 for i in x]\n",
    "plt.plot(x,y) # if you want you can add legend and grid lines"
   ]
  },
  {
   "cell_type": "markdown",
   "id": "dedad409",
   "metadata": {
    "editable": true
   },
   "source": [
    "## Dictionaries\n",
    "\n",
    "Dictionaries is useful if your data fits the template of key:value pairs. A very good mental image to have is an excel sheet where data are organized in columns. Each column has a header name, or a *key*. Assume we have the following table\n",
    "\n",
    "<table class=\"table\" border=\"1\">\n",
    "<thead>\n",
    "<tr><th align=\"center\"> x </th> <th align=\"center\"> y  </th> <th align=\"center\"> z </th> </tr>\n",
    "</thead>\n",
    "<tbody>\n",
    "<tr><td align=\"center\">   1.0    </td> <td align=\"center\">   1.0     </td> <td align=\"center\">   3.0    </td> </tr>\n",
    "<tr><td align=\"center\">   2.0    </td> <td align=\"center\">   4.0     </td> <td align=\"center\">          </td> </tr>\n",
    "<tr><td align=\"center\">   3.0    </td> <td align=\"center\">   9.0     </td> <td align=\"center\">          </td> </tr>\n",
    "<tr><td align=\"center\">   4.0    </td> <td align=\"center\">   16.0    </td> <td align=\"center\">          </td> </tr>\n",
    "</tbody>\n",
    "</table>\n",
    "\n",
    "This could be represented as a dictionary as"
   ]
  },
  {
   "cell_type": "code",
   "execution_count": 8,
   "id": "0ec50ac2",
   "metadata": {
    "collapsed": false,
    "editable": true
   },
   "outputs": [],
   "source": [
    "my_dict={'x':[1.,2.,3.,4.],'y':[1.,4.,9.,16.],'z':[3.]}"
   ]
  },
  {
   "cell_type": "markdown",
   "id": "df8fc0f9",
   "metadata": {
    "editable": true
   },
   "source": [
    "The syntax is `{key1:values, key2:values2, ...}`. We access the values in the dictionary by the key i.e. `print(my_dict['x'])` would print `[1.,2.,3.,4.]`.\n",
    "\n",
    "### Example: Add numbers to dictionary and plot\n",
    "\n",
    "* Add two numbers to `x` and `y` in `my_dict` and plot `y` vs `x`\n",
    "\n",
    "### Solution"
   ]
  },
  {
   "cell_type": "code",
   "execution_count": 9,
   "id": "36b07aab",
   "metadata": {
    "collapsed": false,
    "editable": true
   },
   "outputs": [],
   "source": [
    "import matplotlib.pyplot as plt\n",
    "my_dict={'x':[1.,2.,3.,4.],'y':[1.,4.,9.,16.],'z':[3.]}\n",
    "# add two numbers\n",
    "my_dict['x'].append(-3)\n",
    "my_dict['y'].append(-10)\n",
    "plt.plot(my_dict['x'],my_dict['y'])\n",
    "#alternatively only points\n",
    "plt.plot(my_dict['x'],my_dict['y'],'*')"
   ]
  },
  {
   "cell_type": "markdown",
   "id": "ad256409",
   "metadata": {
    "editable": true
   },
   "source": [
    "## Tuples\n",
    "A tuple is a data structure that in many respects is equal to a list. It can contain various Python objects, *but the elements cannot be changed after the tuple has been created*. It is created by using round parenthesis, `()` as opposed to the square parenthesis, `[]`, used in list creation."
   ]
  },
  {
   "cell_type": "code",
   "execution_count": 10,
   "id": "25b75c0b",
   "metadata": {
    "collapsed": false,
    "editable": true
   },
   "outputs": [],
   "source": [
    "my_tuple=(1,2,3,4)\n",
    "print(my_tuple[0]) # would give 1\n",
    "print(my_tuple[-1]) # would give 4\n",
    "my_tuple[0]=2 # would give an error message"
   ]
  },
  {
   "cell_type": "markdown",
   "id": "21fe1130",
   "metadata": {
    "editable": true
   },
   "source": [
    "**Tuples vs Lists.**\n",
    "\n",
    "The obvious difference between tuples and lists is that you cannot change tuples after they have been created, in Python an object where you cannot change the state after it has been created is called *immutable* as opposed to *mutable*. Since tuples are immutable, you can also use them as keys in dictionaries. This can be useful if you need a lookup value that contains more information, e.g."
   ]
  },
  {
   "cell_type": "code",
   "execution_count": 11,
   "id": "dadf537b",
   "metadata": {
    "collapsed": false,
    "editable": true
   },
   "outputs": [],
   "source": [
    "my_dict={}\n",
    "my_dict[('perm','mD')]=[50,100,250]"
   ]
  },
  {
   "cell_type": "markdown",
   "id": "69ae6346",
   "metadata": {
    "editable": true
   },
   "source": [
    "# Numpy: Working with numerical arrays in Python\n",
    "\n",
    "In the above example we used lists to store values that we wanted to plot. Lists are one of the basic data structures in Python, but since they are so flexible they are not well suited for mathematical operations. If you are only working with arrays that contain numbers you should use the [Numpy](https://numpy.org/) library. The above example in Numpy would be"
   ]
  },
  {
   "cell_type": "code",
   "execution_count": 12,
   "id": "2192b770",
   "metadata": {
    "collapsed": false,
    "editable": true
   },
   "outputs": [],
   "source": [
    "import numpy as np\n",
    "x=np.linspace(-3,3,100) # vector of 100 points from -3 to 3\n",
    "y=x*x # multiply each number in x by itself\n",
    "plt.plot(x,y)"
   ]
  },
  {
   "cell_type": "markdown",
   "id": "544caeca",
   "metadata": {
    "editable": true
   },
   "source": [
    "Numpy has built in functions that allows you to calculate e.g. the logarithm, sine, exponential of arrays"
   ]
  },
  {
   "cell_type": "markdown",
   "id": "a10eb59e",
   "metadata": {
    "editable": true
   },
   "source": [
    "        np.log(x) # log of all elements in x\n",
    "        np.exp(x) # exp of all elements in x\n",
    "        np.sin(x) # sin of all elements in x\n"
   ]
  },
  {
   "cell_type": "markdown",
   "id": "5e387a64",
   "metadata": {
    "editable": true
   },
   "source": [
    "If you have a list, it can easily be converted to a Numpy array"
   ]
  },
  {
   "cell_type": "code",
   "execution_count": 13,
   "id": "74146576",
   "metadata": {
    "collapsed": false,
    "editable": true
   },
   "outputs": [],
   "source": [
    "x=[1,4,7] # x is a list\n",
    "x+x # x+x would give [1,4,7,1,4,7]\n",
    "x*x # would give an error message\n",
    "x=np.array([1,4,7]) # now x is a Numpy array\n",
    "x+x # would give [2,8,14]\n",
    "x*x # would give [1,16,49]\n",
    "x/x # would give [1.,1.,1.]"
   ]
  },
  {
   "cell_type": "markdown",
   "id": "1da5dbe6",
   "metadata": {
    "editable": true
   },
   "source": [
    "# Boolean masking\n",
    "In Python we also have a Boolean type, which is `True` or `False` (note the big letters), it takes up the smallest amount of memory (one byte). It is a subclass of integer, `int`, and if you add or subtract them, `True` and `False` will be given the value of 1 and 0 respectively.  In many applications you would like to pick out only a part of the elements of an array. If we work with Numpy arrays, it is extremely easy achieve this using Boolean masking or Boolean indexing. We use the word ''mask'' to indicate which bits we want to keep, and which we want to remove. It is best demonstrated on some examples (remember: it will not work on lists)"
   ]
  },
  {
   "cell_type": "code",
   "execution_count": 14,
   "id": "ad7d611a",
   "metadata": {
    "collapsed": false,
    "editable": true
   },
   "outputs": [],
   "source": [
    "x=np.array([4,5,7,8,9]) #create numpy array from a list\n",
    "print(x>5) # [False, False, True, True, True]\n",
    "print(np.sum(x>5)) # 3\n",
    "x[x>5] # [7,8,9]"
   ]
  },
  {
   "cell_type": "markdown",
   "id": "cbd997da",
   "metadata": {
    "editable": true
   },
   "source": [
    "# Pathlib: Working with files and folders in Python\n",
    "\n",
    "When you want to open a file in a Python script, you first have to locate it. If you have downloaded all the files, there will be a `data` folder in which there are several data sets, we look at some well data from [GeoProvider](http://geoprovider.no/). \n",
    "Usually we have files and folder located at different places on the computer. This could be Excel files containing different types of information, and you might want to combine data from them. You could of course open them separately, copy and paste data manually. However, it is so much easier to use Python. Let us start with the following code that will list all sub directories and files in a folder"
   ]
  },
  {
   "cell_type": "code",
   "execution_count": 15,
   "id": "d1bc1d95",
   "metadata": {
    "collapsed": false,
    "editable": true
   },
   "outputs": [],
   "source": [
    "import pathlib as pt\n",
    "p=pt.Path('.') # the directory where this python file is located\n",
    "for x in p.iterdir():\n",
    "    if x.is_dir():\n",
    "        print('Found dir: ', x)\n",
    "    elif x.is_file():\n",
    "        print('Found file: ', x)"
   ]
  },
  {
   "cell_type": "markdown",
   "id": "01d76771",
   "metadata": {
    "editable": true
   },
   "source": [
    "Let us go through each line\n",
    "1. `import pathlib as pt` as before, imports a useful library, in this case Pathlib which we name `pt`. Functions in Pathlib is accessed with the `.` syntax.\n",
    "\n",
    "2. `p=pt.Path('.')` we create a Path object and name it `p`. We will return to objects and classes later, for now you can think of it as a variable that may contain data and functions that can be used to manipulate \n",
    "\n",
    "# Bibliography"
   ]
  }
 ],
 "metadata": {},
 "nbformat": 4,
 "nbformat_minor": 5
}
