{
 "cells": [
  {
   "cell_type": "markdown",
   "id": "a4207a43",
   "metadata": {
    "editable": true
   },
   "source": [
    "<!-- File automatically generated using DocOnce (https://github.com/doconce/doconce/):\n",
    "doconce format ipynb main_import.do.txt  -->\n",
    "\n",
    "# Introduction to Practical Applications\n",
    "**Aksel Hiorth**\n",
    "University of Stavanger\n",
    "\n",
    "Date: **Dec 12, 2023**\n",
    "\n",
    "<h1 id=\"table_of_contents\">Table of contents</h1>\n",
    "\n",
    "<div class='toc'>\n",
    "<p><a href=\"#Why-Python-is-so-popular-The-import-statement\"> Why Python is so popular: The import statement </a></p>\n",
    "<p><a href=\"#Matplotlib-Basic-plotting-in-Python\"> Matplotlib: Basic plotting in Python </a></p>\n",
    "<p><a href=\"#Data-structures-Basic\"> Data structures  (Basic) </a></p>\n",
    "<p><span class=\"tab\"> <a href=\"#Lists\"> Lists </a></p>\n",
    "<p><a href=\"#Numpy-Working-with-numerical-arrays-in-Python\"> Numpy: Working with numerical arrays in Python </a></p>\n",
    "<p><a href=\"#Pathlib-Working-with-files-and-folders-in-Python\"> Pathlib: Working with files and folders in Python </a></p>\n",
    "<p><a href=\"#Bibliography\"> Bibliography </a></p>\n",
    "</div>\n",
    "<br>\n",
    "\n",
    "<!-- Common Mako variables and functions -->\n",
    "\n",
    "<!-- Here goes the main text. -->\n",
    "<!-- The text may be split into several files and included here -->\n",
    "<!-- via preprocess: # #include \"file1.do.txt\" etc -->"
   ]
  },
  {
   "cell_type": "markdown",
   "id": "10fb7b2e",
   "metadata": {
    "editable": true
   },
   "source": [
    "# Why Python is so popular: The import statement\n",
    "It is always hard decide which coding language to learn, it usually depends on what you want to do. If you want to do very fast numerical calculations Fortan or C used to be the most popular languages, and for web or application programming Java. However, in recent years Python has become more and more popular, one of the reasons is its large amount of libraries and communities. If you have an idea of what you want to do, you can almost be certain that there exist a Python library written for that purpose. In the next chapters we will cover some advanced operations in Python and use them to motivate to learn more about the basic operations.\n",
    "\n",
    "**Which library to use?**\n",
    "\n",
    "This is not easy to answer, but here we will introduce you to the most popular libraries. We will suggest to stick to as few libraries as possible and try to achieve what you want with these."
   ]
  },
  {
   "cell_type": "markdown",
   "id": "a20ac82e",
   "metadata": {
    "editable": true
   },
   "source": [
    "# Matplotlib: Basic plotting in Python\n",
    "Visualizing data is a must, the code for plotting two arrays of data is"
   ]
  },
  {
   "cell_type": "code",
   "execution_count": 1,
   "id": "4df13a96",
   "metadata": {
    "collapsed": false,
    "editable": true
   },
   "outputs": [],
   "source": [
    "%matplotlib inline\n",
    "\n",
    "import matplotlib.pyplot as plt\n",
    "x=[1,2,3,4]\n",
    "y=[2,4,9,16] # y=x*x\n",
    "plt.plot(x,y,label='y=x^2')\n",
    "plt.legend() # try to remove and see what happens\n",
    "plt.grid()   # try to remove and see what happens"
   ]
  },
  {
   "cell_type": "markdown",
   "id": "db3705b3",
   "metadata": {
    "editable": true
   },
   "source": [
    "Let us go through each line\n",
    "1. `import matplotlib.pyplot as plt` this line tells Python to import the [matplotlib.pyplot](https://matplotlib.org/3.5.3/api/_as_gen/matplotlib.pyplot.html) library. This library contains a lot of functions that other people have made. We use the `as` statement to indicate that we will name the `matplotlib.pyplot` library as `plt`. Thus we do not need to write `matplotlib.pyplot` every time we want to use a function in this library. We access functions in the library by simply placing a `.` after `plt`.\n",
    "\n",
    "2. Next, we define two lists `x` and `y`, these lists have to be of equal length\n",
    "\n",
    "3. The `plt.plot` commands plots `y` vs `x`\n",
    "\n",
    "4. `plt.legend()` display the legend given inside the `plt.plot` command\n",
    "\n",
    "5. `plt.grid()` adds grid lines which makes it easier to read the plot\n",
    "\n",
    "By visiting the official documentation, and view the [Matplotlib gallery](https://matplotlib.org/stable/gallery/index.html), you will see a lot of examples on how to visualize your data."
   ]
  },
  {
   "cell_type": "markdown",
   "id": "cfa5ea6f",
   "metadata": {
    "editable": true
   },
   "source": [
    "# Data structures  (Basic)\n",
    "The data we want to e.g. visualize has to be stored or passed around in the code somehow. Data structures provide an interface to your data, that makes it efficient to access them. One of the most basic way to  In the example above we stored the date in lists `x=[1,2,3,4]`."
   ]
  },
  {
   "cell_type": "markdown",
   "id": "439f7bc3",
   "metadata": {
    "editable": true
   },
   "source": [
    "## Lists\n",
    " Lists are defined using the square bracket `[]` symbol, e.g."
   ]
  },
  {
   "cell_type": "code",
   "execution_count": 2,
   "id": "5d2b6dc1",
   "metadata": {
    "collapsed": false,
    "editable": true
   },
   "outputs": [],
   "source": [
    "my_list = []      # an empty list\n",
    "my_list = []*10   # still an empty list ...\n",
    "my_list = [0]*10  # a list with 10 zeros\n",
    "my_list = ['one', 'two','three'] # a list of strings\n",
    "my_list = ['one']*10 # a list with 10 equal string elements"
   ]
  },
  {
   "cell_type": "markdown",
   "id": "8f0be6c0",
   "metadata": {
    "editable": true
   },
   "source": [
    "**Notice.**\n",
    "\n",
    "To get the first element in a list, we do e.g. `my_list[0]`. Notice that the counter start at 0 and not 1. In a list with 10 elements the last element would be `my_list[9]`, the length of a list can be found by using the `len()` function, i.e. `len(my_list)` would give =10. Thus, the last element can also be found by doing `my_list[len(my_list)-1]`. However, in Python you can always get the last element by doing `my_list[-1]`, the second last element would be `my_list[-2]` and so on.\n",
    "\n",
    "To add stuff to a list, we use the `append` function"
   ]
  },
  {
   "cell_type": "code",
   "execution_count": 3,
   "id": "8fd8eef2",
   "metadata": {
    "collapsed": false,
    "editable": true
   },
   "outputs": [],
   "source": [
    "my_list = []      # an empty list\n",
    "my_list.append(2) # [2]\n",
    "my_list.append('dog') # [2, 'dog']"
   ]
  },
  {
   "cell_type": "markdown",
   "id": "8c0e7a16",
   "metadata": {
    "editable": true
   },
   "source": [
    "You can also remove stuff, using the `pop` function, then you also have to give the index"
   ]
  },
  {
   "cell_type": "code",
   "execution_count": 4,
   "id": "30f31e92",
   "metadata": {
    "collapsed": false,
    "editable": true
   },
   "outputs": [],
   "source": [
    "my_list.pop(0) # my_list=['dog']"
   ]
  },
  {
   "cell_type": "markdown",
   "id": "46d16823",
   "metadata": {
    "editable": true
   },
   "source": [
    "### List comprehension\n",
    "\n",
    "Sometimes you do not want to initialize the list with everything equal, and it can be tiresome to write everything out yourself. If that is the case you can use *list comprehension*"
   ]
  },
  {
   "cell_type": "code",
   "execution_count": 5,
   "id": "aacada57",
   "metadata": {
    "collapsed": false,
    "editable": true
   },
   "outputs": [],
   "source": [
    "x = [i for i in range(10)] # a list from 0,1,2,..,9\n",
    "y = [i**2 for i in range(10)] # a list with elements 0,1,4, ..,81"
   ]
  },
  {
   "cell_type": "markdown",
   "id": "f31f27cc",
   "metadata": {
    "editable": true
   },
   "source": [
    "We will cover the for loop later, but basically what is done is that the statement `i in range(10)`, gives `i` the value 0, 1, $\\ldots$, 9 and the first `i` inside the list tells python to use that value as the element in the list. Using this syntax, there are plenty of opportunities to initialize."
   ]
  },
  {
   "cell_type": "markdown",
   "id": "e8347aa6",
   "metadata": {
    "editable": true
   },
   "source": [
    "### Example: use list comprehension to make a plot of $y=x^3$\n",
    "\n",
    "* Create one list of $x\\in[-3,3]$ and the corresponding $y$ values\n",
    "\n",
    "* Use `matplotlib.pyplot` to create a plot."
   ]
  },
  {
   "cell_type": "markdown",
   "id": "4570a153",
   "metadata": {
    "editable": true
   },
   "source": [
    "### Solution"
   ]
  },
  {
   "cell_type": "code",
   "execution_count": 6,
   "id": "02356375",
   "metadata": {
    "collapsed": false,
    "editable": true
   },
   "outputs": [],
   "source": [
    "#first we create the x-values\n",
    "N=100 # 100 points\n",
    "dx=6/N\n",
    "x=[-3+i*dx for i in range(N)]\n",
    "y=[i**2 for i in x]\n",
    "plt.plot(x,y) # if you want you can add legend and grid lines"
   ]
  },
  {
   "cell_type": "markdown",
   "id": "cbacea47",
   "metadata": {
    "editable": true
   },
   "source": [
    "# Numpy: Working with numerical arrays in Python\n",
    "In the above example we used lists to store values that we wanted to plot. Lists are one of the basic data structures in Python, but since they are so flexible they are not well suited for mathematical operations. If you are only working with arrays that contain numbers you should use the [Numpy](https://numpy.org/) library. The above example in Numpy would be"
   ]
  },
  {
   "cell_type": "code",
   "execution_count": 7,
   "id": "c27a203f",
   "metadata": {
    "collapsed": false,
    "editable": true
   },
   "outputs": [],
   "source": [
    "import numpy as np\n",
    "x=np.linspace(-3,3,100) # vector of 100 points from -3 to 3\n",
    "y=x*x # multiply each number in x by itself\n",
    "plt.plot(x,y)"
   ]
  },
  {
   "cell_type": "markdown",
   "id": "d7ec9bd9",
   "metadata": {
    "editable": true
   },
   "source": [
    "Numpy has built in functions that allows you to calculate e.g. the logarithm, sine, exponential of arrays"
   ]
  },
  {
   "cell_type": "markdown",
   "id": "b90267bf",
   "metadata": {
    "editable": true
   },
   "source": [
    "        np.log(x) # log of all elements in x\n",
    "        np.exp(x) # exp of all elements in x\n",
    "        np.sin(x) # sin of all elements in x\n"
   ]
  },
  {
   "cell_type": "markdown",
   "id": "6e6f0aa2",
   "metadata": {
    "editable": true
   },
   "source": [
    "If you have a list, it can easily be converted to a Numpy array"
   ]
  },
  {
   "cell_type": "code",
   "execution_count": 8,
   "id": "7a8c331f",
   "metadata": {
    "collapsed": false,
    "editable": true
   },
   "outputs": [],
   "source": [
    "x=[1,4,7] # x is a list\n",
    "x+x # x+x would give [1,4,7,1,4,7]\n",
    "x*x # would give an error message\n",
    "x=np.array([1,4,7]) # now x is a Numpy array\n",
    "x+x # would give [2,8,14]\n",
    "x*x # would give [1,16,49]\n",
    "x/x # would give [1.,1.,1.]"
   ]
  },
  {
   "cell_type": "markdown",
   "id": "58948b01",
   "metadata": {
    "editable": true
   },
   "source": [
    "# Pathlib: Working with files and folders in Python\n",
    "\n",
    "Usually we have files and folder located at different places on the computer. This could be excel files containing different types of information, and you might want to combine data from them. You could of course open them separately, copy and paste data manually. However, it is so much easier to use Python. Let us start with the following code that will list all sub directories and files in a folder"
   ]
  },
  {
   "cell_type": "code",
   "execution_count": 9,
   "id": "88f5f0ef",
   "metadata": {
    "collapsed": false,
    "editable": true
   },
   "outputs": [],
   "source": [
    "import pathlib as pt\n",
    "p=pt.Path('.') # the directory where this python file is located\n",
    "for x in p.iterdir():\n",
    "    if x.is_dir():\n",
    "        print('Found dir: ', x)\n",
    "    elif x.is_file():\n",
    "        print('Found file: ', x)"
   ]
  },
  {
   "cell_type": "markdown",
   "id": "9957c23c",
   "metadata": {
    "editable": true
   },
   "source": [
    "Let us go through each line\n",
    "1. `import pathlib as pt` as before, imports a useful library, in this case Pathlib which we name `pt`. Functions in Pathlib is accessed with the `.` syntax.\n",
    "\n",
    "2. `p=pt.Path('.')` we create a Path object and name it `p`. We will return to objects and classes later, for now you can think of it as a variable that may contain data and functions that can be used to manipulate"
   ]
  },
  {
   "cell_type": "markdown",
   "id": "5243f565",
   "metadata": {
    "editable": true
   },
   "source": [
    "# Bibliography"
   ]
  }
 ],
 "metadata": {},
 "nbformat": 4,
 "nbformat_minor": 5
}
