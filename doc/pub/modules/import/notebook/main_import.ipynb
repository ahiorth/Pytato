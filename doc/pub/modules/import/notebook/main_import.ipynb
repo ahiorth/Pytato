{
 "cells": [
  {
   "cell_type": "markdown",
   "id": "f8a333e1",
   "metadata": {
    "editable": true
   },
   "source": [
    "<!-- dom:TITLE: Introduction to Practical Applications -->\n",
    "# Introduction to Practical Applications\n",
    "**Aksel Hiorth**\n",
    "University of Stavanger\n",
    "\n",
    "Date: **Jan 6, 2024**\n",
    "\n",
    "<!-- Common Mako variables and functions -->\n",
    "\n",
    "<!-- Here goes the main text. -->\n",
    "<!-- The text may be split into several files and included here -->\n",
    "<!-- via preprocess: # #include \"file1.do.txt\" etc -->"
   ]
  },
  {
   "cell_type": "markdown",
   "id": "c5b52904",
   "metadata": {
    "editable": true
   },
   "source": [
    "# One reason Python is so popular: The import statement\n",
    "It is always hard decide which coding language to learn, it usually depends on what you want to do. If you want to do very fast numerical calculations Fortan or C used to be the most popular languages, and for web or application programming Java. However, in recent years Python has become more and more popular, one of the reasons is its large amount of libraries and communities. If you have an idea of what you want to do, you can almost be certain that there exist a Python library written for that purpose. In the next chapters we will cover some advanced operations in Python and use them to motivate to learn more about the basic operations.\n",
    "\n",
    "**Which library to use?**\n",
    "\n",
    "This is not easy to answer, but here we will introduce you to the most popular libraries. We will suggest to stick to as few libraries as possible and try to achieve what you want with these."
   ]
  },
  {
   "cell_type": "markdown",
   "id": "d70b32ab",
   "metadata": {
    "editable": true
   },
   "source": [
    "# Matplotlib: Basic plotting in Python\n",
    "Visualizing data is a must, the code for plotting two arrays of data is"
   ]
  },
  {
   "cell_type": "code",
   "execution_count": 1,
   "id": "bd2a9663",
   "metadata": {
    "collapsed": false,
    "editable": true
   },
   "outputs": [],
   "source": [
    "%matplotlib inline\n",
    "\n",
    "import matplotlib.pyplot as plt\n",
    "x=[1,2,3,4]\n",
    "y=[2,4,9,16] # y=x*x\n",
    "plt.plot(x,y,label='y=x^2')\n",
    "plt.legend() # try to remove and see what happens\n",
    "plt.grid()   # try to remove and see what happens"
   ]
  },
  {
   "cell_type": "markdown",
   "id": "6bc115c6",
   "metadata": {
    "editable": true
   },
   "source": [
    "Let us go through each line\n",
    "1. `import matplotlib.pyplot as plt` this line tells Python to import the [matplotlib.pyplot](https://matplotlib.org/3.5.3/api/_as_gen/matplotlib.pyplot.html) library. This library contains a lot of functions that other people have made. We use the `as` statement to indicate that we will name the `matplotlib.pyplot` library as `plt`. Thus we do not need to write `matplotlib.pyplot` every time we want to use a function in this library. We access functions in the library by simply placing a `.` after `plt`.\n",
    "\n",
    "2. Next, we define two lists `x` and `y`, these lists have to be of equal length\n",
    "\n",
    "3. The `plt.plot` commands plots `y` vs `x`\n",
    "\n",
    "4. `plt.legend()` display the legend given inside the `plt.plot` command\n",
    "\n",
    "5. `plt.grid()` adds grid lines which makes it easier to read the plot\n",
    "\n",
    "By visiting the official documentation, and view the [Matplotlib gallery](https://matplotlib.org/stable/gallery/index.html), you will see a lot of examples on how to visualize your data."
   ]
  },
  {
   "cell_type": "markdown",
   "id": "59838153",
   "metadata": {
    "editable": true
   },
   "source": [
    "# Exercise 1: Reproduce a plot\n",
    "\n",
    "* Reproduce [figure 1](#fig:imp:ex1) as closely as possible\n",
    "\n",
    "<!-- dom:FIGURE: [fig-import/ex1.png, width=800 frac=1.0] A plot of a linear function. <div id=\"fig:imp:ex1\"></div> -->\n",
    "<!-- begin figure -->\n",
    "<div id=\"fig:imp:ex1\"></div>\n",
    "\n",
    "<img src=\"fig-import/ex1.png\" width=800><p style=\"font-size: 0.9em\"><i>Figure 1: A plot of a linear function.</i></p>\n",
    "<!-- end figure -->"
   ]
  },
  {
   "cell_type": "markdown",
   "id": "8a4f70fc",
   "metadata": {
    "editable": true
   },
   "source": [
    "## Solution:"
   ]
  },
  {
   "cell_type": "code",
   "execution_count": 2,
   "id": "db0b3fc0",
   "metadata": {
    "collapsed": false,
    "editable": true
   },
   "outputs": [],
   "source": [
    "import matplotlib.pyplot as plt\n",
    "x=[1,2,3,4]\n",
    "y=[1,2,3,4]\n",
    "plt.title('A linear function')\n",
    "plt.plot(x,y,'-o',label='y=x')\n",
    "plt.xlabel('x-values')\n",
    "plt.ylabel('y-values')\n",
    "plt.grid() #minor grid lines for readability\n",
    "plt.legend()"
   ]
  },
  {
   "cell_type": "markdown",
   "id": "3a487c89",
   "metadata": {
    "editable": true
   },
   "source": [
    "# Data structures  (Basic)\n",
    "The data we want to e.g. visualize has to be stored or passed around in the code somehow. Data structures provide an interface to your data, that makes it efficient to access them. In the next subsections we give a short overview of the most used data structures, which you should be familiar with."
   ]
  },
  {
   "cell_type": "markdown",
   "id": "23868350",
   "metadata": {
    "editable": true
   },
   "source": [
    "## Lists\n",
    " Lists are defined using the square bracket `[]` symbol, e.g."
   ]
  },
  {
   "cell_type": "code",
   "execution_count": 3,
   "id": "66e03feb",
   "metadata": {
    "collapsed": false,
    "editable": true
   },
   "outputs": [],
   "source": [
    "my_list = []      # an empty list\n",
    "my_list = []*10   # still an empty list ...\n",
    "my_list = [0]*10  # a list with 10 zeros\n",
    "my_list = ['one', 'two','three'] # a list of strings\n",
    "my_list = ['one']*10 # a list with 10 equal string elements"
   ]
  },
  {
   "cell_type": "markdown",
   "id": "6e83c15a",
   "metadata": {
    "editable": true
   },
   "source": [
    "**Notice.**\n",
    "\n",
    "To get the first element in a list, we do e.g. `my_list[0]`. Notice that the counter start at 0 and not 1. In a list with 10 elements the last element would be `my_list[9]`, the length of a list can be found by using the `len()` function, i.e. `len(my_list)` would give =10. Thus, the last element can also be found by doing `my_list[len(my_list)-1]`. However, in Python you can always get the last element by doing `my_list[-1]`, the second last element would be `my_list[-2]` and so on.\n",
    "\n",
    "\n",
    "\n",
    "To add stuff to a list, we use the `append` function"
   ]
  },
  {
   "cell_type": "code",
   "execution_count": 4,
   "id": "4428b8d2",
   "metadata": {
    "collapsed": false,
    "editable": true
   },
   "outputs": [],
   "source": [
    "my_list = []      # an empty list\n",
    "my_list.append(2) # [2]\n",
    "my_list.append('dog') # [2, 'dog']"
   ]
  },
  {
   "cell_type": "markdown",
   "id": "7d0ed3e1",
   "metadata": {
    "editable": true
   },
   "source": [
    "You can also remove stuff, using the `pop` function, then you also have to give the index"
   ]
  },
  {
   "cell_type": "code",
   "execution_count": 5,
   "id": "72646854",
   "metadata": {
    "collapsed": false,
    "editable": true
   },
   "outputs": [],
   "source": [
    "my_list.pop(0) # my_list=['dog']"
   ]
  },
  {
   "cell_type": "markdown",
   "id": "5d0a996a",
   "metadata": {
    "editable": true
   },
   "source": [
    "**print statement.**\n",
    "\n",
    "As default python will usually write to screen your last statement. But at any time you can use the `print` statement to force python to print out any variable, e.g."
   ]
  },
  {
   "cell_type": "code",
   "execution_count": 6,
   "id": "2e9e2ca2",
   "metadata": {
    "collapsed": false,
    "editable": true
   },
   "outputs": [],
   "source": [
    "my_list=['dog','cat',2]\n",
    "print(my_list[0]) # first element\n",
    "print(my_list[0],my_list[1]) # first and second element\n",
    "print(my_list) # the whole list"
   ]
  },
  {
   "cell_type": "markdown",
   "id": "e01580fd",
   "metadata": {
    "editable": true
   },
   "source": [
    "### List comprehension\n",
    "\n",
    "Sometimes you do not want to initialize the list with everything equal, and it can be tiresome to write everything out yourself. If that is the case you can use *list comprehension*"
   ]
  },
  {
   "cell_type": "code",
   "execution_count": 7,
   "id": "190afecd",
   "metadata": {
    "collapsed": false,
    "editable": true
   },
   "outputs": [],
   "source": [
    "x = [i for i in range(10)] # a list from 0,1,2,..,9\n",
    "y = [i**2 for i in range(10)] # a list with elements 0,1,4, ..,81"
   ]
  },
  {
   "cell_type": "markdown",
   "id": "6aa43142",
   "metadata": {
    "editable": true
   },
   "source": [
    "We will cover for loops later, but basically what is done is that the statement `i in range(10)`, gives `i` the value 0, 1, $\\ldots$, 9 and the first `i` inside the list tells python to use that value as the element in the list. Using this syntax, there are plenty of opportunities to initialize."
   ]
  },
  {
   "cell_type": "markdown",
   "id": "0a8285c6",
   "metadata": {
    "editable": true
   },
   "source": [
    "# Exercise 2: Make a plot of $y=x^3$\n",
    "\n",
    "* Use $x\\in[-3,3]$ and make a plot of $y=x^3$, similar to the one in [figure 2](#fig:imp:ex2)\n",
    "\n",
    "<!-- dom:FIGURE: [fig-import/ex2.png, width=800 frac=1.0] A plot of a non linear function. <div id=\"fig:imp:ex2\"></div> -->\n",
    "<!-- begin figure -->\n",
    "<div id=\"fig:imp:ex2\"></div>\n",
    "\n",
    "<img src=\"fig-import/ex2.png\" width=800><p style=\"font-size: 0.9em\"><i>Figure 2: A plot of a non linear function.</i></p>\n",
    "<!-- end figure -->"
   ]
  },
  {
   "cell_type": "markdown",
   "id": "1d2799bf",
   "metadata": {
    "editable": true
   },
   "source": [
    "## Solution"
   ]
  },
  {
   "cell_type": "code",
   "execution_count": 8,
   "id": "7d4f5059",
   "metadata": {
    "collapsed": false,
    "editable": true
   },
   "outputs": [],
   "source": [
    "#first we create the x-values\n",
    "N=100 # 100 points\n",
    "dx=6/(N-1) #N-1 to include end-points\n",
    "x=[-3+i*dx for i in range(N)] #List comprehension\n",
    "y=[i**3 for i in x]\n",
    "plt.title('A non linear function')\n",
    "plt.plot(x,y,label='$y=x^3$') # if you want you can add legend and grid lines\n",
    "plt.xlabel('x-values')\n",
    "plt.ylabel('y-values')\n",
    "plt.grid() #minor grid lines for readability\n",
    "plt.legend()"
   ]
  },
  {
   "cell_type": "markdown",
   "id": "9bb23010",
   "metadata": {
    "editable": true
   },
   "source": [
    "## Dictionaries\n",
    "\n",
    "Dictionaries is useful if your data fits the template of key:value pairs. A very good mental image to have is an excel sheet where data are organized in columns. Each column has a header name, or a *key*. Assume we have the following table\n",
    "\n",
    "<table class=\"table\" border=\"1\">\n",
    "<thead>\n",
    "<tr><th align=\"center\"> x </th> <th align=\"center\"> y  </th> <th align=\"center\"> z </th> </tr>\n",
    "</thead>\n",
    "<tbody>\n",
    "<tr><td align=\"center\">   1.0    </td> <td align=\"center\">   1.0     </td> <td align=\"center\">   3.0    </td> </tr>\n",
    "<tr><td align=\"center\">   2.0    </td> <td align=\"center\">   4.0     </td> <td align=\"center\">          </td> </tr>\n",
    "<tr><td align=\"center\">   3.0    </td> <td align=\"center\">   9.0     </td> <td align=\"center\">          </td> </tr>\n",
    "<tr><td align=\"center\">   4.0    </td> <td align=\"center\">   16.0    </td> <td align=\"center\">          </td> </tr>\n",
    "</tbody>\n",
    "</table>\n",
    "\n",
    "This could be represented as a dictionary as"
   ]
  },
  {
   "cell_type": "code",
   "execution_count": 9,
   "id": "2527dd7a",
   "metadata": {
    "collapsed": false,
    "editable": true
   },
   "outputs": [],
   "source": [
    "my_dict={'x':[1.,2.,3.,4.],'y':[1.,4.,9.,16.],'z':[3.]}"
   ]
  },
  {
   "cell_type": "markdown",
   "id": "eb83aa08",
   "metadata": {
    "editable": true
   },
   "source": [
    "The syntax is `{key1:values, key2:values2, ...}`. We access the values in the dictionary by the key i.e. `print(my_dict['x'])` would print `[1.,2.,3.,4.]`."
   ]
  },
  {
   "cell_type": "markdown",
   "id": "1d95491d",
   "metadata": {
    "editable": true
   },
   "source": [
    "### Example: Add numbers to dictionary and plot\n",
    "\n",
    "* Add two numbers to the list of `x` and `y` in `my_dict` and plot `y` vs `x`\n",
    "\n",
    "### Solution"
   ]
  },
  {
   "cell_type": "code",
   "execution_count": 10,
   "id": "088423e5",
   "metadata": {
    "collapsed": false,
    "editable": true
   },
   "outputs": [],
   "source": [
    "import matplotlib.pyplot as plt\n",
    "my_dict={'x':[1.,2.,3.,4.],'y':[1.,4.,9.,16.],'z':[3.]}\n",
    "# add two numbers\n",
    "my_dict['x'].append(-3)\n",
    "my_dict['y'].append(-10)\n",
    "plt.plot(my_dict['x'],my_dict['y'])\n",
    "#alternatively only points\n",
    "plt.plot(my_dict['x'],my_dict['y'],'*')"
   ]
  },
  {
   "cell_type": "markdown",
   "id": "109da735",
   "metadata": {
    "editable": true
   },
   "source": [
    "## Tuples\n",
    "A tuple is a data structure that in many respects is equal to a list. It can contain various Python objects, *but the elements cannot be changed after the tuple has been created*. It is created by using round parenthesis, `()` as opposed to the square parenthesis, `[]`, used in list creation."
   ]
  },
  {
   "cell_type": "code",
   "execution_count": 11,
   "id": "958f484e",
   "metadata": {
    "collapsed": false,
    "editable": true
   },
   "outputs": [],
   "source": [
    "my_tuple=(1,2,3,4)\n",
    "print(my_tuple[0]) # would give 1\n",
    "print(my_tuple[-1]) # would give 4\n",
    "my_tuple[0]=2 # would give an error message"
   ]
  },
  {
   "cell_type": "markdown",
   "id": "99551b08",
   "metadata": {
    "editable": true
   },
   "source": [
    "**Tuples vs Lists.**\n",
    "\n",
    "The obvious difference between tuples and lists is that you cannot change tuples after they have been created, in Python an object where you cannot change the state after it has been created is called *immutable* as opposed to *mutable*. Since tuples are immutable, you can also use them as keys in dictionaries. This can be useful if you need a lookup value that contains more information, e.g."
   ]
  },
  {
   "cell_type": "code",
   "execution_count": 12,
   "id": "30b0a776",
   "metadata": {
    "collapsed": false,
    "editable": true
   },
   "outputs": [],
   "source": [
    "my_dict={}\n",
    "my_dict[('perm','mD')]=[50,100,250]"
   ]
  },
  {
   "cell_type": "markdown",
   "id": "38d1eb78",
   "metadata": {
    "editable": true
   },
   "source": [
    "# Numpy: Working with numerical arrays in Python\n",
    "\n",
    "In the above example we used lists to store values that we wanted to plot. Lists are one of the basic data structures in Python, but since they are so flexible they are not well suited for mathematical operations. If you are only working with arrays that contain numbers you should use the [Numpy](https://numpy.org/) library. The above example in Numpy would be"
   ]
  },
  {
   "cell_type": "code",
   "execution_count": 13,
   "id": "b225edf5",
   "metadata": {
    "collapsed": false,
    "editable": true
   },
   "outputs": [],
   "source": [
    "import numpy as np\n",
    "x=np.linspace(-3,3,100) # vector of 100 points from -3 to 3\n",
    "y=x*x # multiply each number in x by itself\n",
    "plt.plot(x,y)"
   ]
  },
  {
   "cell_type": "markdown",
   "id": "5db3bf8d",
   "metadata": {
    "editable": true
   },
   "source": [
    "Numpy has built in functions that allows you to calculate e.g. the logarithm, sine, exponential of arrays"
   ]
  },
  {
   "cell_type": "markdown",
   "id": "a10b0e91",
   "metadata": {
    "editable": true
   },
   "source": [
    "        np.log(x) # log of all elements in x\n",
    "        np.exp(x) # exp of all elements in x\n",
    "        np.sin(x) # sin of all elements in x\n"
   ]
  },
  {
   "cell_type": "markdown",
   "id": "88c6ce58",
   "metadata": {
    "editable": true
   },
   "source": [
    "If you have a list, it can easily be converted to a Numpy array"
   ]
  },
  {
   "cell_type": "markdown",
   "id": "5b4d00fa",
   "metadata": {
    "editable": true
   },
   "source": [
    "1\n",
    "4\n",
    " \n",
    "<\n",
    "<\n",
    "<\n",
    "!\n",
    "!\n",
    "C\n",
    "O\n",
    "D\n",
    "E\n",
    "_\n",
    "B\n",
    "L\n",
    "O\n",
    "C\n",
    "K\n",
    " \n",
    " \n",
    "p\n",
    "y\n",
    "c\n",
    "o\n",
    "d"
   ]
  },
  {
   "cell_type": "code",
   "execution_count": 14,
   "id": "2faba5d7",
   "metadata": {
    "collapsed": false,
    "editable": true
   },
   "outputs": [],
   "source": [
    "x=np.array([1,4,7]) # now x is a Numpy array\n",
    "x+x # would give [2,8,14]\n",
    "x*x # would give [1,16,49]\n",
    "x/x # would give [1.,1.,1.]"
   ]
  },
  {
   "cell_type": "markdown",
   "id": "42f17d36",
   "metadata": {
    "editable": true
   },
   "source": [
    "# Boolean masking\n",
    "In Python we also have a Boolean type, which is `True` or `False` (note the big letters), it takes up the smallest amount of memory (one byte). It is a subclass of integer, `int`, and if you add or subtract them, `True` and `False` will be given the value of 1 and 0 respectively.  In many applications you would like to pick out only a part of the elements of an array. If we work with Numpy arrays, it is extremely easy achieve this using Boolean masking or Boolean indexing. We use the word ''mask'' to indicate which bits we want to keep, and which we want to remove. It is best demonstrated on some examples (remember: it will not work on lists)"
   ]
  },
  {
   "cell_type": "code",
   "execution_count": 15,
   "id": "5d8bbeec",
   "metadata": {
    "collapsed": false,
    "editable": true
   },
   "outputs": [],
   "source": [
    "x=np.array([4,5,7,8,9]) #create numpy array from a list\n",
    "print(x>5) # [False, False, True, True, True]\n",
    "print(np.sum(x>5)) # 3\n",
    "x[x>5] # [7,8,9]"
   ]
  },
  {
   "cell_type": "markdown",
   "id": "b7275ddf",
   "metadata": {
    "editable": true
   },
   "source": [
    "# Exercise 3: Make a plot of $y=x^3$ using Numpy\n",
    "\n",
    "* Use $x\\in[-3,3]$ and make a plot of $y=x^3$, similar to the one in [figure 2](#fig:imp:ex2) as you did before, but this time use Numpy."
   ]
  },
  {
   "cell_type": "markdown",
   "id": "07d769dd",
   "metadata": {
    "editable": true
   },
   "source": [
    "## Solution"
   ]
  },
  {
   "cell_type": "code",
   "execution_count": 16,
   "id": "97473fd4",
   "metadata": {
    "collapsed": false,
    "editable": true
   },
   "outputs": [],
   "source": [
    "import numpy as np\n",
    "N=100\n",
    "x=np.linspace(-3,3,N)\n",
    "y=x**3 #element wise operation \n",
    "#Done, rest is just to make the plot\n",
    "plt.title('A non linear function')\n",
    "plt.plot(x,y,label='$y=x^3$') # if you want you can add legend and grid lines\n",
    "plt.xlabel('x-values')\n",
    "plt.ylabel('y-values')\n",
    "plt.grid()\n",
    "plt.legend()"
   ]
  },
  {
   "cell_type": "markdown",
   "id": "8153dca8",
   "metadata": {
    "editable": true
   },
   "source": [
    "# Pathlib: Working with files and folders in Python\n",
    "\n",
    "When you want to open a file in a Python script, you first have to locate it. If you have downloaded all the files, there will be a `data` folder in which there are several data sets. Sometimes we would like to list all files in a folder, or files of a certain type, and maybe create a unique file name that does not already exists. \n",
    "\n",
    "To access files one can use strings, but in practice this can be very tiresome, especially as a path in Windows has a different syntax than e.g. Linux. In Windows directories and sub directories are indicated with a backslash, `\\`, whereas in Linux it is a forward slash `/`.\n",
    "\n",
    "It is much better to use the Pathlib library and work with *Path objects*, then your code would work regardless of operating system."
   ]
  },
  {
   "cell_type": "markdown",
   "id": "c016ab34",
   "metadata": {
    "editable": true
   },
   "source": [
    "## Pathlib cwd(): Current working directory\n",
    "\n",
    "How can you know which directory your are currently in? Using Pathlib we can do"
   ]
  },
  {
   "cell_type": "code",
   "execution_count": 17,
   "id": "e5571511",
   "metadata": {
    "collapsed": false,
    "editable": true
   },
   "outputs": [],
   "source": [
    "import pathlib as pt\n",
    "p=pt.Path('.') # we create a Path object\n",
    "print(p.cwd())"
   ]
  },
  {
   "cell_type": "markdown",
   "id": "6b07e628",
   "metadata": {
    "editable": true
   },
   "source": [
    "What happens here?\n",
    "1. `import pathlib as pt` imports Pathlib which we name `pt`. Functions in Pathlib is accessed with the `.` syntax.\n",
    "\n",
    "2. We create a Path object, by `p=pt.Path('.')` and store it in the variable `p`. The `'.'` argument is the current directory.\n",
    "\n",
    "3. Now we have access to build-in functions int the Path object by using the `.` syntax, and we can print current working directory `print(p.cwd())`"
   ]
  },
  {
   "cell_type": "markdown",
   "id": "81bd869e",
   "metadata": {
    "editable": true
   },
   "source": [
    "## List all files and folder in current directory\n",
    "As mentioned before a for-loop is a way to tell the computer to do something until a certain condition has been met. The code for listing all files and directories in a folder is then"
   ]
  },
  {
   "cell_type": "code",
   "execution_count": 18,
   "id": "e54bc6e3",
   "metadata": {
    "collapsed": false,
    "editable": true
   },
   "outputs": [],
   "source": [
    "import pathlib as pt\n",
    "p=pt.Path('.') # the directory where this python file is located\n",
    "for x in p.iterdir():\n",
    "    if x.is_dir():#NB Indentation, all below belongs to p.iterdir()\n",
    "        print('Found dir: ', x) #NB Indentation, belongs to if x.is_dir()\n",
    "    elif x.is_file():\n",
    "        print('Found file: ', x) #NB Indentation, belongs to if x.is_file()"
   ]
  },
  {
   "cell_type": "markdown",
   "id": "3a4494da",
   "metadata": {
    "editable": true
   },
   "source": [
    "`p.iterdir()` is a *generator*, and you can simply think of it as generating a list of all files and folders in the `'.'` (current) directory. To view the elements in `p.iterdir()`, you can do"
   ]
  },
  {
   "cell_type": "code",
   "execution_count": 19,
   "id": "e243a31c",
   "metadata": {
    "collapsed": false,
    "editable": true
   },
   "outputs": [],
   "source": [
    "print(list(p.iterdir()))"
   ]
  },
  {
   "cell_type": "markdown",
   "id": "3910c8f3",
   "metadata": {
    "editable": true
   },
   "source": [
    "Let us go through each line\n",
    "1. `p=pt.Path('.')` we create a Path object and name it `p`.\n",
    "\n",
    "2. The next part is the for-loop, the variable `x` takes on the value of each element in the list generated by `p.iter_dir()`.\n",
    "\n",
    "3. `x.is_dir()`, gives True if `x` is a directory and False if not.\n",
    "\n",
    "4. `x.is_file()`, gives True if `x` is a file and False if not."
   ]
  },
  {
   "cell_type": "markdown",
   "id": "ed45d0ca",
   "metadata": {
    "editable": true
   },
   "source": [
    "**List all files of a type:**\n",
    "Below we use `p.rglob()`, and not `p.iterdir()`, the difference is that `rglob()` also lists recursively the sub directories, and files within."
   ]
  },
  {
   "cell_type": "code",
   "execution_count": 20,
   "id": "26f38fc6",
   "metadata": {
    "collapsed": false,
    "editable": true
   },
   "outputs": [],
   "source": [
    "p=pt.Path('.')\n",
    "for p in p.rglob(\"*.xlsx\"):# rglob means recursively, searches sub directories\n",
    "    print(p.name)"
   ]
  },
  {
   "cell_type": "markdown",
   "id": "11a98287",
   "metadata": {
    "editable": true
   },
   "source": [
    "If you want to print the full path do `print(p.absolute())`."
   ]
  },
  {
   "cell_type": "markdown",
   "id": "043aea5e",
   "metadata": {
    "editable": true
   },
   "source": [
    "**Create a directory, files and joining paths:**"
   ]
  },
  {
   "cell_type": "code",
   "execution_count": 21,
   "id": "f0296863",
   "metadata": {
    "collapsed": false,
    "editable": true
   },
   "outputs": [],
   "source": [
    "pt.Path('tmp_dir').mkdir()"
   ]
  },
  {
   "cell_type": "markdown",
   "id": "871a0d2f",
   "metadata": {
    "editable": true
   },
   "source": [
    "If you run the code twice it will produce an error, because the directory exists, then we can simply do `Path('tmp_dir').mkdir(exist_ok=True)`.\n",
    "\n",
    "Furthermore, the forward slash, `/`, can be used combine paths"
   ]
  },
  {
   "cell_type": "code",
   "execution_count": 22,
   "id": "1826a7c1",
   "metadata": {
    "collapsed": false,
    "editable": true
   },
   "outputs": [],
   "source": [
    "p=pt.Path('.')\n",
    "new_path = p / 'tmp_dir' / 'my_file.txt'\n",
    "print(new_path.absolute())\n",
    "print(p.exists()) # gives False, because my_file.txt does not exists\n",
    "new_path.touch() # touch creates file, tmp_dir must exists\n",
    "print(p.exists()) # gives True"
   ]
  },
  {
   "cell_type": "markdown",
   "id": "e46a5de3",
   "metadata": {
    "editable": true
   },
   "source": [
    "# Pandas: Working with tabulated data (Excel files)\n",
    "Pandas is a Python package that among many things are used to handle data, and perform operations on groups of data. It is built on top of Numpy, which makes it easy to perform vectorized operations. Pandas is written by Wes McKinney, and one of it objectives is according to the official website [ '' providing fast, flexible, and expressive data structures designed to make working with ''relational'' or ''labeled'' data both easy and intuitive. It aims to be the fundamental high-level building block for doing practical, real-world data analysis in Python''](https://pandas.pydata.org/). Pandas also has excellent functions for reading and writing excel and csv files.  An excel file is read directly into memory in what is called a `DataFrame` in Pandas. A DataFrame is a two dimensional object where data are typically stored in column or row format.\n",
    "\n",
    "**Pandas has a lot of functionality.**\n",
    "\n",
    "Pandas has so much functionality that it is almost like a programming language. Here we will only use it to read and write excel files, and do some basic filtering of data. However, there is a high probability that whatever you would like to do with your data, e.g. clean, filter, mathematical operations, there is already a Pandas command to achieve your goal."
   ]
  },
  {
   "cell_type": "markdown",
   "id": "21e53f28",
   "metadata": {
    "editable": true
   },
   "source": [
    "## DataFrame: The basic object in Pandas\n",
    "\n",
    "**What is a DataFrame?**\n",
    "\n",
    "You should think of a DataFrame as a single sheet in Excel with tabulated data. A DataFrame will typically have data stored with a header name and data in an array associated with that header, as illustrated in [fig:file](#fig:file).\n",
    "\n",
    "\n",
    "\n",
    "<!-- dom:FIGURE: [fig-import/covid_comb.png, width=800 frac=1.0] Official Covid-19 data, and example of files (left) tab separated (right) excel file. <div id=\"fig:file\"></div> -->\n",
    "<!-- begin figure -->\n",
    "<div id=\"fig:file\"></div>\n",
    "\n",
    "<img src=\"fig-import/covid_comb.png\" width=800><p style=\"font-size: 0.9em\"><i>Figure 3: Official Covid-19 data, and example of files (left) tab separated (right) excel file.</i></p>\n",
    "<!-- end figure -->\n",
    "\n",
    "If we have file in the `data` directory, we can import them into a DataFrame as follows"
   ]
  },
  {
   "cell_type": "code",
   "execution_count": 23,
   "id": "ec2548b3",
   "metadata": {
    "collapsed": false,
    "editable": true
   },
   "outputs": [],
   "source": [
    "import pandas as pd\n",
    "df=pd.read_excel('../data/corona_data.xlsx') # excel file\n",
    "df2=pd.read_csv('../data/corona_data.dat',sep='\\t') # csv tab separated file"
   ]
  },
  {
   "cell_type": "markdown",
   "id": "f8021ae4",
   "metadata": {
    "editable": true
   },
   "source": [
    "If the excel file has several sheets, you can give the sheet name directly, e.g. `df=pd.read_excel('file.xlsx',sheet_name=\"Sheet1\")`, for more information see the [documentation](https://pandas.pydata.org/docs/reference/api/pandas.read_excel.html). \n",
    "\n",
    "We can easily save the data frame to excel format and open it in excel"
   ]
  },
  {
   "cell_type": "code",
   "execution_count": 24,
   "id": "bf53cc03",
   "metadata": {
    "collapsed": false,
    "editable": true
   },
   "outputs": [],
   "source": [
    "df.to_excel('covid19.xlsx', index=False) # what happens if you put index=True?"
   ]
  },
  {
   "cell_type": "markdown",
   "id": "82b28ec4",
   "metadata": {
    "editable": true
   },
   "source": [
    "**Index column.**\n",
    "\n",
    "Whenever you create a DataFrame Pandas by default create an index column, it contains an integer for each row starting at zero. It can be accessed by `df.index`, and it is also possible to define another column as index column."
   ]
  },
  {
   "cell_type": "markdown",
   "id": "da468af3",
   "metadata": {
    "editable": true
   },
   "source": [
    "## Create DataFrame from dictionary\n",
    "A DataFrame can be quite easily be generated from a dictionary. A dictionary is a special data structure, where an unique key is associated with a data type (key:value pair). In this case, the key would be the title of the column, and the value would be the data in the columns."
   ]
  },
  {
   "cell_type": "code",
   "execution_count": 25,
   "id": "a1b948e1",
   "metadata": {
    "collapsed": false,
    "editable": true
   },
   "outputs": [],
   "source": [
    "my_dict={'ints':[0,1,2,3], 'floats':[4.,5.,6.,7.],\n",
    "'tools':['hammer','saw','rock','nail']\n",
    "}\n",
    "my_df=pd.DataFrame(my_dict)\n",
    "print(my_df) # to view"
   ]
  },
  {
   "cell_type": "markdown",
   "id": "1ade6502",
   "metadata": {
    "editable": true
   },
   "source": [
    "## Accessing data in  DataFrames\n",
    "\n",
    "### Selecting columns\n",
    "\n",
    "If we want to pick out a specific column we can access it in the following ways"
   ]
  },
  {
   "cell_type": "code",
   "execution_count": 26,
   "id": "6ba9f81c",
   "metadata": {
    "collapsed": false,
    "editable": true
   },
   "outputs": [],
   "source": [
    "# following two are equivalent\n",
    "df=pd.read_excel('../data/corona_data.xlsx')\n",
    "time=df['TIME'] # by the name, alternatively\n",
    "time=df[df.columns[1]]\n",
    "# following two are equivalent\n",
    "time=df.loc[:,['TIME']] # by loc[] if we use name\n",
    "time=df.iloc[:,1] # by iloc, pick column number 1"
   ]
  },
  {
   "cell_type": "markdown",
   "id": "a43ef641",
   "metadata": {
    "editable": true
   },
   "source": [
    "The `loc[]` and `iloc[]` functions also allows for list slicing, one can then pick e.g. every second element in the column by `time=df.iloc[::2,1]` etc. The difference is that `loc[]` uses the name, and `iloc[]` the index (usually an integer). \n",
    "\n",
    "Why several ways of doing the same operation? It turns out that although we are able to extract what we want with these operations, they are of different type"
   ]
  },
  {
   "cell_type": "code",
   "execution_count": 27,
   "id": "5877371f",
   "metadata": {
    "collapsed": false,
    "editable": true
   },
   "outputs": [],
   "source": [
    "print(type(df['TIME']))\n",
    "print(type(df.loc[:,['TIME']]))"
   ]
  },
  {
   "cell_type": "markdown",
   "id": "d2c01c52",
   "metadata": {
    "editable": true
   },
   "source": [
    "### Selecting rows\n",
    "\n",
    "When selecting rows in a DataFrame, we can use the `loc[]` and `iloc[]` functions"
   ]
  },
  {
   "cell_type": "code",
   "execution_count": 28,
   "id": "42760e73",
   "metadata": {
    "collapsed": false,
    "editable": true
   },
   "outputs": [],
   "source": [
    "# pick column number 0 and 1\n",
    "time=df.loc[0:1,:] # by loc[] \n",
    "time=df.iloc[0:2,:] # by iloc"
   ]
  },
  {
   "cell_type": "markdown",
   "id": "190cacfa",
   "metadata": {
    "editable": true
   },
   "source": [
    "**`pandas.DataFrame.loc` vs `pandas.DataFrame.iloc`.**\n",
    "\n",
    "When selecting rows `loc` and `iloc` they behave differently, `loc` includes the endpoints (in the example above both row 0 and 1), whereas `iloc` includes the starting point and up to 1 minus the endpoint.\n",
    "\n",
    "\n",
    "\n",
    "### Challenges when accessing columns or rows\n",
    "\n",
    "**Special characters.**\n",
    "\n",
    "Sometimes when reading files from excel, headers may contains invisible characters like newline `\\n` or tab `\\t` or maybe Norwegian special letters that have not been read in properly. If you have problem accessing a column by name do `print(df.columns)` and check if the name matches what you would expect.\n",
    "\n",
    "\n",
    "\n",
    "If the header names has unwanted white space, one can do"
   ]
  },
  {
   "cell_type": "code",
   "execution_count": 29,
   "id": "8f013c8e",
   "metadata": {
    "collapsed": false,
    "editable": true
   },
   "outputs": [],
   "source": [
    "df.columns = df.columns.str.replace(' ', '') # all white spaces\n",
    "df.columns = df.columns.str.lstrip() # the beginning of string\n",
    "df.columns = df.columns.str.rstrip() # end of string\n",
    "df.columns = df.columns.str.strip()  # both ends"
   ]
  },
  {
   "cell_type": "markdown",
   "id": "d9ac4618",
   "metadata": {
    "editable": true
   },
   "source": [
    "Similarly for unwanted tabs"
   ]
  },
  {
   "cell_type": "code",
   "execution_count": 30,
   "id": "543d2772",
   "metadata": {
    "collapsed": false,
    "editable": true
   },
   "outputs": [],
   "source": [
    "df.columns = df.columns.str.replace('\\t', '') # remove tab"
   ]
  },
  {
   "cell_type": "markdown",
   "id": "ba696b54",
   "metadata": {
    "editable": true
   },
   "source": [
    "If you want to make sure that the columns does not contain any white spaces, one can use [`pandas.Series.str.strip()`](https://pandas.pydata.org/pandas-docs/version/1.2.4/reference/api/pandas.Series.str.strip.html)"
   ]
  },
  {
   "cell_type": "code",
   "execution_count": 31,
   "id": "d2515c12",
   "metadata": {
    "collapsed": false,
    "editable": true
   },
   "outputs": [],
   "source": [
    "df['LOCATION']=df['LOCATION'].str.strip()"
   ]
  },
  {
   "cell_type": "markdown",
   "id": "22883991",
   "metadata": {
    "editable": true
   },
   "source": [
    "## Datetime: Time columns not parsed properly\n",
    "\n",
    "If you have dates in the file (as in our case for the `TIME` column), you should check if they are in the `datetime` format and not read as `str`.\n",
    "\n",
    "**`datetime`.**\n",
    "\n",
    "The `datetime` library is very useful for working with dates. Data types of the type `datetime` (or equivalently `timestamp` used by Pandas) contains both date and time in the format `YYYY-MM-DD hh:mm:ss`. We can initialize a variable, `a`, by `a=datetime.datetime(2022,8,30,10,14,1)`, to access the hour we do `a.hour`, the year by `a.year` etc. It also easy to increase e.g. the day by one by doing `a+datetime.timedelta(days=1)`."
   ]
  },
  {
   "cell_type": "code",
   "execution_count": 32,
   "id": "797b189f",
   "metadata": {
    "collapsed": false,
    "editable": true
   },
   "outputs": [],
   "source": [
    "import datetime as dt\n",
    "df=pd.read_excel('../data/corona_data.xlsx')\n",
    "time=df['TIME']\n",
    "# what happens if you set\n",
    "# df2=pd.read_csv('../data/corona_data.dat',sep='\\t') # csv tab separated file\n",
    "# time=df2['TIME'] #i.e df2 is from pd.read_csv ?\n",
    "print(time[0])\n",
    "print(time[0]+dt.timedelta(days=1))"
   ]
  },
  {
   "cell_type": "markdown",
   "id": "01ceb087",
   "metadata": {
    "editable": true
   },
   "source": [
    "The code above might work fine or in some cases a date is parsed as a string by Pandas, then we need to convert that column to the correct format. If not, we get into problems if you want to plot data vs the time column.\n",
    "\n",
    "Below are two ways of converting the `TIME` column"
   ]
  },
  {
   "cell_type": "code",
   "execution_count": 33,
   "id": "72fea10b",
   "metadata": {
    "collapsed": false,
    "editable": true
   },
   "outputs": [],
   "source": [
    "df2['TIME']=pd.to_datetime(df2['TIME'])\n",
    "# just for testing that everything went ok\n",
    "time=df2['TIME']\n",
    "print(time[0])\n",
    "print(time[0]+dt.timedelta(days=1))"
   ]
  },
  {
   "cell_type": "markdown",
   "id": "454c79b0",
   "metadata": {
    "editable": true
   },
   "source": [
    "Another possibility is to do the conversion when reading the data:"
   ]
  },
  {
   "cell_type": "code",
   "execution_count": 34,
   "id": "9263b877",
   "metadata": {
    "collapsed": false,
    "editable": true
   },
   "outputs": [],
   "source": [
    "df2=pd.read_csv('../data/corona_data.dat',sep='\\t',parse_dates=['TIME'])"
   ]
  },
  {
   "cell_type": "markdown",
   "id": "15561192",
   "metadata": {
    "editable": true
   },
   "source": [
    "If you have a need to specify all data types, to avoid potential problems down the line this can also be done. First create a dictionary, with column names and data types"
   ]
  },
  {
   "cell_type": "code",
   "execution_count": 35,
   "id": "7cb84da8",
   "metadata": {
    "collapsed": false,
    "editable": true
   },
   "outputs": [],
   "source": [
    "types_dict={\"LOCATION\":str,\"TIME\":str,\"ELAPSED_TIME_SINCE_OUTBREAK\":int,\"CONFIRMED\":int,\"DEATHS\":int,\"RECOVERED\":int}\n",
    "df2=pd.read_csv('../data/corona_data.dat',sep='\\t',dtype=types_dict,parse_dates=['TIME']) # set data types explicit"
   ]
  },
  {
   "cell_type": "markdown",
   "id": "8967f56e",
   "metadata": {
    "editable": true
   },
   "source": [
    "Note that the time data type is `str`, but we explicitly tell Pandas to convert those to `datetime`."
   ]
  },
  {
   "cell_type": "markdown",
   "id": "4325b7e1",
   "metadata": {
    "editable": true
   },
   "source": [
    "## Pandas: Filtering and visualizing data\n",
    "### Boolean masking\n",
    "\n",
    "Typically you would select rows based on a criterion, the syntax in Pandas is that you enter a series containing `True` and `False` for the rows you want to pick out, e.g. to pick out all entries with Afghanistan we can do"
   ]
  },
  {
   "cell_type": "code",
   "execution_count": 36,
   "id": "ec1b0595",
   "metadata": {
    "collapsed": false,
    "editable": true
   },
   "outputs": [],
   "source": [
    "df[df['LOCATION'] == 'Afghanistan']"
   ]
  },
  {
   "cell_type": "markdown",
   "id": "930731a1",
   "metadata": {
    "editable": true
   },
   "source": [
    "The innermost statement `df['LOCATION'] == 'Afghanistan'` gives a logical vector with the value `True` for the five last elements and `False` for the rest. Then we pass this to the DataFrame, and in one go the unwanted elements are removed. It is also possible to use several criteria, e.g. only extracting data after a specific time"
   ]
  },
  {
   "cell_type": "code",
   "execution_count": 37,
   "id": "b8f600e2",
   "metadata": {
    "collapsed": false,
    "editable": true
   },
   "outputs": [],
   "source": [
    "df[(df['LOCATION'] == 'Afghanistan') & (df['ELAPSED_TIME_SINCE_OUTBREAK'] > 2)]"
   ]
  },
  {
   "cell_type": "markdown",
   "id": "afd75bad",
   "metadata": {
    "editable": true
   },
   "source": [
    "Note that the parenthesis are necessary, otherwise the logical operation would fail.\n",
    "\n",
    "### Plotting a DataFrame\n",
    "\n",
    "Pandas has built in plotting, by calling [`pandas.DataFrame.plot`](https://pandas.pydata.org/docs/reference/api/pandas.DataFrame.plot.html)."
   ]
  },
  {
   "cell_type": "code",
   "execution_count": 38,
   "id": "0a770b23",
   "metadata": {
    "collapsed": false,
    "editable": true
   },
   "outputs": [],
   "source": [
    "df2=df[(df['LOCATION'] == 'Afghanistan')]\n",
    "df2.plot()\n",
    "#try \n",
    "#df2=df2.set_index('TIME')\n",
    "#df2.plot() # what is the difference?\n",
    "#df2.plot(y=['CONFIRMED','DEATHS'])"
   ]
  },
  {
   "cell_type": "markdown",
   "id": "3d77fa97",
   "metadata": {
    "editable": true
   },
   "source": [
    "## Performing mathematical operations on DataFrames\n",
    "When performing mathematical operations on DataFrames there are at least two strategies\n",
    "* Extract columns from the DataFrame and perform mathematical operations on the columns using Numpy, leaving the original DataFrame intact\n",
    "\n",
    "* To operate directly on the data in the DataFrame using the Pandas library\n",
    "\n",
    "**Speed and performance.**\n",
    "\n",
    "Using Pandas or Numpy should in principle be equally fast. The advice is to not worry about performance before it is necessary. Use the methods you are confident with, and try to be consistent. By consistent, we mean that if you have found one way of doing a certain operation stick to that one and try not to implement many different ways of doing the same thing.\n",
    "\n",
    "\n",
    "\n",
    "We can always access the individual columns in a DataFrame by the syntax `df['column_name']`. \n",
    "### Example: mathematical operations on DataFrames\n",
    "\n",
    "1. Create a DataFrame with one column (`a`) containing ten thousand random uniformly distributed numbers between 0 and 1 (checkout [`np.random.uniform`](https://numpy.org/doc/stable/reference/random/generated/numpy.random.uniform.html))\n",
    "\n",
    "2. Add two new columns: one which all elements of `a` is squared and one where the sine function is applied to column `a`\n",
    "\n",
    "3. Calculate the inverse of all the numbers in the DataFrame\n",
    "\n",
    "4. Make a plot of the results (i.e. `a` vs `a*a`, and `a` vs `sin(a)`)\n",
    "\n",
    "### Solution\n",
    "\n",
    "1. First we make the DataFrame"
   ]
  },
  {
   "cell_type": "code",
   "execution_count": 39,
   "id": "d3ae8bc7",
   "metadata": {
    "collapsed": false,
    "editable": true
   },
   "outputs": [],
   "source": [
    "import numpy as np\n",
    "import pandas as pd\n",
    "N=10000\n",
    "a=np.random.uniform(0,1,size=N)\n",
    "df=pd.DataFrame() # empty DataFrame\n",
    "df['a']=a"
   ]
  },
  {
   "cell_type": "markdown",
   "id": "4f2b0ccc",
   "metadata": {
    "editable": true
   },
   "source": [
    "If you like you could also try to use a dictionary. Next, we add the new columns"
   ]
  },
  {
   "cell_type": "code",
   "execution_count": 40,
   "id": "603469b3",
   "metadata": {
    "collapsed": false,
    "editable": true
   },
   "outputs": [],
   "source": [
    "df['b']=df['a']*df['a'] # alternatively np.square(df['a'])\n",
    "df['c']=np.sin(df['a'])"
   ]
  },
  {
   "cell_type": "markdown",
   "id": "cbd7900a",
   "metadata": {
    "editable": true
   },
   "source": [
    "1. The inverse of all the numbers in the DataFrame can be calculated by simply doing"
   ]
  },
  {
   "cell_type": "code",
   "execution_count": 41,
   "id": "a73c332b",
   "metadata": {
    "collapsed": false,
    "editable": true
   },
   "outputs": [],
   "source": [
    "1/df"
   ]
  },
  {
   "cell_type": "markdown",
   "id": "e39c7dc1",
   "metadata": {
    "editable": true
   },
   "source": [
    "Note: you can also do `df+df` and many other operations on the whole DataFrame.\n",
    "\n",
    "1. To make plots there are several possibilities. Personally, I tend most of the time to use the  [`matplotlib`](https://matplotlib.org/) library, simply because I know it quite well, but Pandas has a great deal of very simple methods you can use to generate nice plots with very few commands.\n",
    "\n",
    "**Matplotlib:**"
   ]
  },
  {
   "cell_type": "code",
   "execution_count": 42,
   "id": "81ad8460",
   "metadata": {
    "collapsed": false,
    "editable": true
   },
   "outputs": [],
   "source": [
    "import matplotlib.pyplot as plt\n",
    "plt.plot(df['a'],df['b'], '*', label='$a^2$')\n",
    "plt.plot(df['a'],df['c'], '^', label='$\\sin(a)$')\n",
    "plt.legend() \n",
    "plt.grid() # make small grid lines\n",
    "plt.show()"
   ]
  },
  {
   "cell_type": "markdown",
   "id": "d0b175a3",
   "metadata": {
    "editable": true
   },
   "source": [
    "**Pandas plotting:**\n",
    "First, let us try the built in plot command in Pandas"
   ]
  },
  {
   "cell_type": "code",
   "execution_count": 43,
   "id": "f8034a42",
   "metadata": {
    "collapsed": false,
    "editable": true
   },
   "outputs": [],
   "source": [
    "df.plot()"
   ]
  },
  {
   "cell_type": "markdown",
   "id": "a7fe3f43",
   "metadata": {
    "editable": true
   },
   "source": [
    "If you compare this plot with the previous plot, you will see that Pandas plots all columns versus the index columns, which is not what we want. But, we can set `a` to be the index column"
   ]
  },
  {
   "cell_type": "code",
   "execution_count": 44,
   "id": "e7b64593",
   "metadata": {
    "collapsed": false,
    "editable": true
   },
   "outputs": [],
   "source": [
    "df=df.set_index('a')\n",
    "df.plot()"
   ]
  },
  {
   "cell_type": "markdown",
   "id": "68a2dded",
   "metadata": {
    "editable": true
   },
   "source": [
    "We can also make separate plots"
   ]
  },
  {
   "cell_type": "code",
   "execution_count": 45,
   "id": "6dde6236",
   "metadata": {
    "collapsed": false,
    "editable": true
   },
   "outputs": [],
   "source": [
    "df.plot(subplots=True)"
   ]
  },
  {
   "cell_type": "markdown",
   "id": "1b6f4da9",
   "metadata": {
    "editable": true
   },
   "source": [
    "or scatter plots"
   ]
  },
  {
   "cell_type": "code",
   "execution_count": 46,
   "id": "3b1c230b",
   "metadata": {
    "collapsed": false,
    "editable": true
   },
   "outputs": [],
   "source": [
    "df=df.reset_index()\n",
    "df.plot.scatter(x='a',y='b')\n",
    "df.plot.scatter(x='a',y='c')"
   ]
  },
  {
   "cell_type": "markdown",
   "id": "c7443c1f",
   "metadata": {
    "editable": true
   },
   "source": [
    "Note that we have to reset the index, otherwise there are no column named `a`."
   ]
  },
  {
   "cell_type": "markdown",
   "id": "6d88e99b",
   "metadata": {
    "editable": true
   },
   "source": [
    "## Grouping, filtering and aggregating data\n",
    "Whenever you have a data set, you would like to do some exploratory analysis. That typically means that you would like to group, filter or aggregate data. Perhaps, we would like to plot the covid data not per country, but the data as a function of dates. Then you first must sort the data according to date, and then sum all the occurrences on that particular date. For all of these purposes we can use the [`pd.DataFrame.groupby()`](https://pandas.pydata.org/docs/reference/api/pandas.DataFrame.groupby.html ) function. To sort our DataFrame on dates and sum the occurrences we can do"
   ]
  },
  {
   "cell_type": "code",
   "execution_count": 47,
   "id": "e4cbf2c5",
   "metadata": {
    "collapsed": false,
    "editable": true
   },
   "outputs": [],
   "source": [
    "df.groupby('TIME').sum()"
   ]
  },
  {
   "cell_type": "markdown",
   "id": "7723e9d1",
   "metadata": {
    "editable": true
   },
   "source": [
    "Another case could be that we wanted to find the total number of confirmed, deaths and recovered cases in the full database. As always in Python it can be done in different ways, by e.g. splitting the database into individual countries and do  `df[['CONFIRMED','DEATHS','RECOVERED']].sum()` or accessing each column individually and sum each of them e.g. `np.sum(df['CONFIRMED'])`.  However, with the `groupby()` function"
   ]
  },
  {
   "cell_type": "code",
   "execution_count": 48,
   "id": "d89bcfd6",
   "metadata": {
    "collapsed": false,
    "editable": true
   },
   "outputs": [],
   "source": [
    "df.groupby('LOCATION').sum()"
   ]
  },
  {
   "cell_type": "markdown",
   "id": "96b144e6",
   "metadata": {
    "editable": true
   },
   "source": [
    "Here Pandas sum all columns with the same location, and drop columns that cannot be summed. By doing `df.groupby('LOCATION').mean()` or `df.groupby('LOCATION').std()` we can find the mean or standard deviation (per day).\n",
    "\n",
    "## Simple statistics in Pandas\n",
    "At the end it is worth mentioning the built in methods `pd.DataFrame.mean`, `pd.DataFrame.median`, `pd.DataFrame.std` which calculates the mean, median and standard deviation on the columns in the DataFrame where it make sense (i.e. avoid strings and dates). To get all these values in one go (and a few more) on can also use `pd.DataFrame.describe()`"
   ]
  },
  {
   "cell_type": "code",
   "execution_count": 49,
   "id": "13bbd6df",
   "metadata": {
    "collapsed": false,
    "editable": true
   },
   "outputs": [],
   "source": [
    "df.describe()"
   ]
  },
  {
   "cell_type": "markdown",
   "id": "423068f0",
   "metadata": {
    "editable": true
   },
   "source": [
    "## Joining two DataFrames\n",
    "### Appending DataFrames\n",
    "\n",
    "The DataFrame with the Covid-19 data in the previous section could have been created from two separate DataFrames, using [`concat()`](https://pandas.pydata.org/docs/reference/api/pandas.concat.html). First, create two DataFrames"
   ]
  },
  {
   "cell_type": "code",
   "execution_count": 50,
   "id": "091d9f4c",
   "metadata": {
    "collapsed": false,
    "editable": true
   },
   "outputs": [],
   "source": [
    "import datetime as dt\n",
    "a=dt.datetime(2020,2,24,23,59)\n",
    "b=dt.datetime(2020,2,7,23,59)\n",
    "my_dict1={'LOCATION':7*['Afghanistan'], \n",
    "'TIME':[a+dt.timedelta(days=i) for i in range(7)],\n",
    "'ELAPSED_TIME_SINCE_OUTBREAK':[0, 1, 2, 3, 4, 5, 6],\n",
    "'CONFIRMED':7*[1],\n",
    "'DEATHS':7*[0],\n",
    "'RECOVERED': 7*[0]}\n",
    "my_dict2={'LOCATION':6*['Diamond Princess'], \n",
    "'TIME':[b+dt.timedelta(days=i) for i in range(6)],\n",
    "'ELAPSED_TIME_SINCE_OUTBREAK':[0, 1, 2, 3, 4, 5],\n",
    "'CONFIRMED':[61, 61, 64, 135, 135, 175],\n",
    "'DEATHS':6*[0],\n",
    "'RECOVERED': 6*[0]}\n",
    "df1=pd.DataFrame(my_dict1)\n",
    "df2=pd.DataFrame(my_dict2)"
   ]
  },
  {
   "cell_type": "code",
   "execution_count": 51,
   "id": "67d44e1d",
   "metadata": {
    "collapsed": false,
    "editable": true
   },
   "outputs": [],
   "source": [
    "df=pd.concat([df1,df2])\n",
    "print(df) # to view"
   ]
  },
  {
   "cell_type": "markdown",
   "id": "a55df02c",
   "metadata": {
    "editable": true
   },
   "source": [
    "If you compare this DataFrame with the previous one, you will see that the index column is different. This is because when joining two DataFrames Pandas does not reset the index by default, doing `df=pd.concat([df1,df2],ignore_index=True)` resets the index. It is also possible to join DataFrames column vise"
   ]
  },
  {
   "cell_type": "code",
   "execution_count": 52,
   "id": "a6b88807",
   "metadata": {
    "collapsed": false,
    "editable": true
   },
   "outputs": [],
   "source": [
    "pd.concat([df1,df2],axis=1)"
   ]
  },
  {
   "cell_type": "markdown",
   "id": "29a1af59",
   "metadata": {
    "editable": true
   },
   "source": [
    "### Merging DataFrames\n",
    "\n",
    "In the previous example we had two non overlapping DataFrames (separate countries and times). It could also be the case that some of the data was overlapping e.g. continuing with the Covid-19 data, one could assume that there was one data set from one region and one from another region in the same country"
   ]
  },
  {
   "cell_type": "code",
   "execution_count": 53,
   "id": "f4c639ee",
   "metadata": {
    "collapsed": false,
    "editable": true
   },
   "outputs": [],
   "source": [
    "my_dict1={'LOCATION':7*['Diamond Princess'], \n",
    "'TIME':[b+dt.timedelta(days=i) for i in range(7)],\n",
    "'ELAPSED_TIME_SINCE_OUTBREAK':[0, 1, 2, 3, 4, 5, 6],\n",
    "'CONFIRMED':7*[1],\n",
    "'DEATHS':7*[0],\n",
    "'RECOVERED': 7*[0]}\n",
    "my_dict2={'LOCATION':2*['Diamond Princess'], \n",
    "'TIME':[b+dt.timedelta(days=i) for i in range(2)],\n",
    "'ELAPSED_TIME_SINCE_OUTBREAK':[0, 1],\n",
    "'CONFIRMED':[60, 60],\n",
    "'DEATHS':2*[0],\n",
    "'RECOVERED': 2*[0]}\n",
    "df1=pd.DataFrame(my_dict1)\n",
    "df2=pd.DataFrame(my_dict2)"
   ]
  },
  {
   "cell_type": "markdown",
   "id": "384073d4",
   "metadata": {
    "editable": true
   },
   "source": [
    "If we do `pd.concat([df1,df2])` we will simply add all values after each other. What we want to do is to sum the number of confirmed, recovered and deaths for the same date. This can be done in several ways, but one way is to use [`pd.DataFrame.merge()`](https://pandas.pydata.org/docs/reference/api/pandas.DataFrame.merge.html).You can specify the columns to merge on, and choose `outer` which is union (all data from both frames) or `inner` which means the intersect (only data which you merge on that exists in both frames), see [figure 4](#fig:pandas:join) for a visual image.\n",
    "\n",
    "<!-- dom:FIGURE: [fig-import/fig_join.png, width=800 frac=1.0] The result of using `how=outer, inner, left`, or `right` in `pd.DataFrame.merge()`. <div id=\"fig:pandas:join\"></div> -->\n",
    "<!-- begin figure -->\n",
    "<div id=\"fig:pandas:join\"></div>\n",
    "\n",
    "<img src=\"fig-import/fig_join.png\" width=800><p style=\"font-size: 0.9em\"><i>Figure 4: The result of using <code>how=outer, inner, left</code>, or <code>right</code> in <code>pd.DataFrame.merge()</code>.</i></p>\n",
    "<!-- end figure -->\n",
    "\n",
    "To be even more specific, after performing the commands"
   ]
  },
  {
   "cell_type": "code",
   "execution_count": 54,
   "id": "cba5200c",
   "metadata": {
    "collapsed": false,
    "editable": true
   },
   "outputs": [],
   "source": [
    "df1.merge(df2,on=['LOCATION','TIME'],how='outer')\n",
    "df1.merge(df2,on=['LOCATION','TIME'],how='inner')"
   ]
  },
  {
   "cell_type": "markdown",
   "id": "332b019f",
   "metadata": {
    "editable": true
   },
   "source": [
    "Clearly in this case we need to choose `outer`. In the merge process pandas adds an extra subscript `_x` and `_y` on columns that contains the same header name. We also need to sum those, which can be done as follows"
   ]
  },
  {
   "cell_type": "code",
   "execution_count": 55,
   "id": "455be1ec",
   "metadata": {
    "collapsed": false,
    "editable": true
   },
   "outputs": [],
   "source": [
    "df=df1.merge(df2,on=['LOCATION','TIME'],how='outer')\n",
    "cols=['CONFIRMED','DEATHS', 'RECOVERED']\n",
    "for col in cols:\n",
    "    df[col]=df[[col+'_x',col+'_y']].sum(axis=1) # sum row elements\n",
    "    df=df.drop(columns=[col+'_x',col+'_y']) # remove obsolete columns\n",
    "# final clean up\n",
    "df['ELAPSED_TIME_SINCE_OUTBREAK']=df['ELAPSED_TIME_SINCE_OUTBREAK_x']\t\t\n",
    "df=df.drop(columns=['ELAPSED_TIME_SINCE_OUTBREAK_y','ELAPSED_TIME_SINCE_OUTBREAK_x'])"
   ]
  },
  {
   "cell_type": "markdown",
   "id": "6fc13702",
   "metadata": {
    "editable": true
   },
   "source": [
    "## Working with folders and files\n",
    "When working with big data sets you might want to split data into smaller sets, and also write them to different folders (or files) to view each individually in excel. Working with files and folders in a way that will work on any kind of platform has always been a challenge, but it is greatly simplified by the [Pathlib library](https://docs.python.org/3/library/pathlib.html).\n",
    "\n",
    "# Bibliography"
   ]
  }
 ],
 "metadata": {},
 "nbformat": 4,
 "nbformat_minor": 5
}
