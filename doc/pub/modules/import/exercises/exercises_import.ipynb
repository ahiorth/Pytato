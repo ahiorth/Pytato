{
 "cells": [
  {
   "cell_type": "markdown",
   "id": "56d6f792",
   "metadata": {
    "editable": true
   },
   "source": [
    "<!-- dom:TITLE: Exercises import -->\n",
    "# Exercises import\n",
    "**Aksel Hiorth, Institute for Energy Resources,University of Stavanger**\n",
    "\n",
    "Date: **Dec 22, 2023**\n",
    "\n",
    "**Learning objectives**:\n",
    "\n",
    "1. number one\n",
    "\n",
    "2. number two\n",
    "\n",
    "# Exercise: First problem"
   ]
  }
 ],
 "metadata": {},
 "nbformat": 4,
 "nbformat_minor": 5
}
