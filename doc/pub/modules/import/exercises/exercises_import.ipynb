{
 "cells": [
  {
   "cell_type": "markdown",
   "id": "7e45e1cf",
   "metadata": {
    "editable": true
   },
   "source": [
    "<!-- File automatically generated using DocOnce (https://github.com/doconce/doconce/):\n",
    "doconce format ipynb exercises_import.do.txt  -->\n",
    "\n",
    "# Exercises import\n",
    "**Aksel Hiorth, Institute for Energy Resources,University of Stavanger**\n",
    "\n",
    "Date: **Jan 4, 2024**\n",
    "\n",
    "**Learning objectives**:\n",
    "\n",
    "1. number one\n",
    "\n",
    "2. number two"
   ]
  },
  {
   "cell_type": "markdown",
   "id": "b0cedd5b",
   "metadata": {
    "editable": true
   },
   "source": [
    "# Exercise: First problem"
   ]
  }
 ],
 "metadata": {},
 "nbformat": 4,
 "nbformat_minor": 5
}
