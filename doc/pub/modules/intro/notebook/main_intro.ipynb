{
 "cells": [
  {
   "cell_type": "markdown",
   "id": "14edefe7",
   "metadata": {
    "editable": true
   },
   "source": [
    "<!-- File automatically generated using DocOnce (https://github.com/doconce/doconce/):\n",
    "doconce format ipynb main_intro.do.txt  -->\n",
    "\n",
    "# intro\n",
    "**Aksel Hiorth**\n",
    "University of Stavanger\n",
    "\n",
    "Date: **Dec 7, 2023**\n",
    "\n",
    "<h1 id=\"table_of_contents\">Table of contents</h1>\n",
    "\n",
    "<div class='toc'>\n",
    "<p><a href=\"#Introductory-Remarks\"> Introductory Remarks </a></p>\n",
    "<p><a href=\"#Online-programming-resources\"> Online programming resources </a></p>\n",
    "<p><a href=\"#Bibliography\"> Bibliography </a></p>\n",
    "</div>\n",
    "<br>\n",
    "\n",
    "<!-- Common Mako variables and functions -->\n",
    "\n",
    "<!-- Here goes the main text. -->\n",
    "<!-- The text may be split into several files and included here -->\n",
    "<!-- via preprocess: # #include \"file1.do.txt\" etc -->"
   ]
  },
  {
   "cell_type": "markdown",
   "id": "b536b24d",
   "metadata": {
    "editable": true
   },
   "source": [
    "# Introductory Remarks\n",
    "The aim of this course is to start with practical applications and gradually move to basic operations. We choose a top-down approach, because we hope it will be more engaging. Thus, we will start with some advanced features and move to basic programming concepts. What we want to do is to get some useful applications up and running fast, and then investigate from a programming perspective what is going on.\n",
    "\n",
    "This has the consequence that we will introduce basic programming concepts such as types, lists, dictionaries *when it is needed, and only the minimal amount of information*. The challenge with this approach is that there is always more to learn about the basic programming concepts, thus if you feel that you would like to know more about the different concepts you should explore this on your own. See the next section for where to find resources."
   ]
  },
  {
   "cell_type": "markdown",
   "id": "6d951325",
   "metadata": {
    "editable": true
   },
   "source": [
    "# Online programming resources\n",
    "This course is supposed to be self contained, but there are of course plenty of online courses, youtube videos, and books that you should take advantage of to improve your understanding. These resources are extremely valuable if you know exactly what your are looking for. As a complete beginner with little or no knowledge of Python it can be confusing if you do not know what you are looking for. Great online sources that cover much of Python basics are [w3schools](https://www.w3schools.com/python/default.asp), and [A Whirlwind tour of Python](https://jakevdp.github.io/WhirlwindTourOfPython/). These resources explains quite briefly important concepts and give examples, such as\n",
    "* specific Python syntax\n",
    "\n",
    "* data types (float, int, Boolean, etc.)\n",
    "\n",
    "* data structures (lists, dictionaries, tuples, etc.)\n",
    "\n",
    "* control flow (if, else, while, for loops etc.)\n",
    "\n",
    "* functions and classes"
   ]
  },
  {
   "cell_type": "markdown",
   "id": "5243f565",
   "metadata": {
    "editable": true
   },
   "source": [
    "# Bibliography"
   ]
  }
 ],
 "metadata": {},
 "nbformat": 4,
 "nbformat_minor": 5
}
