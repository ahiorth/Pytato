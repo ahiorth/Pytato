{
 "cells": [
  {
   "cell_type": "markdown",
   "id": "da92e9f9",
   "metadata": {
    "editable": true
   },
   "source": [
    "<!-- File automatically generated using DocOnce (https://github.com/doconce/doconce/):\n",
    "doconce format ipynb main_intro.do.txt  -->\n",
    "\n",
    "# Preliminaries\n",
    "**Aksel Hiorth**\n",
    "University of Stavanger, Institute for Energy Resources, Norway\n",
    "\n",
    "Date: **Dec 21, 2023**\n",
    "\n",
    "<h1 id=\"table_of_contents\">Table of contents</h1>\n",
    "\n",
    "<div class='toc'>\n",
    "<p><span class=\"tab\"> <a href=\"#Is-it-possible-to-learn-Python-in-two-days\"> Is it possible to learn Python in two days? </a></p>\n",
    "<p><span class=\"tab\"> <a href=\"#Why-should-you-learn-coding\"> Why should you learn coding? </a></p>\n",
    "<p><a href=\"#About-this-course\"> About this course </a></p>\n",
    "<p><a href=\"#Online-programming-resources\"> Online programming resources </a></p>\n",
    "<p><span class=\"tab\"> <a href=\"#ChatGPT\"> ChatGPT </a></p>\n",
    "<p><a href=\"#Stuff-you-need-to-do\"> Stuff you need to do </a></p>\n",
    "<p><a href=\"#If-you-never-have-coded-before\"> If you never have coded before </a></p>\n",
    "<p><span class=\"tab\"> <a href=\"#Variable\"> Variable </a></p>\n",
    "<p><span class=\"tab\"> <a href=\"#Functions\"> Functions </a></p>\n",
    "<p><span class=\"tab\"> <a href=\"#Objects-and-Classes\"> Objects and Classes </a></p>\n",
    "<p><span class=\"tab\"> <a href=\"#Library\"> Library </a></p>\n",
    "<p><a href=\"#Exercise-Install-a-Python-library-in-a-separate-environment\"> Exercise: Install a Python library in a separate environment  </a></p>\n",
    "<p><a href=\"#Bibliography\"> Bibliography </a></p>\n",
    "</div>\n",
    "<br>\n",
    "\n",
    "<!-- Common Mako variables and functions -->\n",
    "\n",
    "<!-- Here goes the main text. -->\n",
    "<!-- The text may be split into several files and included here -->\n",
    "<!-- via preprocess: # #include \"file1.do.txt\" etc -->"
   ]
  },
  {
   "cell_type": "markdown",
   "id": "c6599dc7",
   "metadata": {
    "editable": true
   },
   "source": [
    "## Is it possible to learn Python in two days?\n",
    "\n",
    "You will for sure not master Python in two days, but you will be able to perform many useful tasks, and lay the foundation for further development. In particular with the release of [ChatGPT](https://chat.openai.com/auth/login), I would say it has never been so easy to get advanced applications up and running with only a basic understanding of Python. If you manage to formulate what your task precisely, then ChatGPT will translate your request into code (see e.g. [figure 1](#fig:intro:chat1)). This is clearly not foolproof, the code you get back might not work exactly as you want and you will need to modify it, or perhaps you have to break your task into several smaller pieces to get useful answers from ChatGPT (or the web) and then you are left with the task of gluing them together yourself."
   ]
  },
  {
   "cell_type": "markdown",
   "id": "93fdab2a",
   "metadata": {
    "editable": true
   },
   "source": [
    "## Why should you learn coding?\n",
    "\n",
    "A quick google search will tell you that you should learn to code because it will lead to job opportunities and boost your career. I would also highlight that it will let you test out ideas much more efficiently. When you have a lot of domain knowledge in a certain area, you will most likely have ideas that can lead to innovation or new insight. As an example, maybe you have made some observation indicating that two phenomena originally believed to be unrelated, actually are related. To prove or support you claim, you would then need to collect data from these phenomena and present them together. Since the phenomena are unrelated the data are most likely located in different places. With some basic knowledge of Python you can easily access different files, folders, web pages, scrap data from them, filter the data, and join them. Once you have collected the data you would then make some plots, and inspect the plots to discover patterns. The next steps is to quantify correlations by e.g. regression analysis or to use more advanced machine learning techniques. All this can be achieved with Python, it will take you time to master this fully, but with basic Python knowledge you can easily run through tutorials yourself and become quite advanced within weeks."
   ]
  },
  {
   "cell_type": "markdown",
   "id": "7dd364f4",
   "metadata": {
    "editable": true
   },
   "source": [
    "# About this course\n",
    "\n",
    "With the development of tools that can write code for you and also the large number of libraries in Python, it becomes less important to learn syntax. Rather, you should focus on learning the basic concepts, and to learn the logic of coding. For the examples presented in this course, try to focus on\n",
    "1. What kind of task do we want to perform?\n",
    "\n",
    "2. How can this task be broken down into smaller pieces?\n",
    "\n",
    "3. How are these smaller pieces implemented in order for the computer to understand us?\n",
    "\n",
    "It is very important to develop an understanding on how to break a big problem into smaller tasks. In the beginning you will copy what others have done, but over time you will develop your own personal style and how to do things.  \n",
    "\n",
    "In this course we start with practical applications and gradually move to basic operations, because we hope it will be more engaging. Once we have achieved our goal or the task, we will explain the logic, and  investigate line by line what is happening.\n",
    "\n",
    "This has the consequence that we will introduce basic programming concepts such as types, lists, dictionaries *when it is needed, and only the minimal amount of information*. The challenge with this approach is that there is always more to learn about the basic programming concepts, thus if you feel that you would like to know more about the different concepts you should explore this on your own. See the next section for where to find resources."
   ]
  },
  {
   "cell_type": "markdown",
   "id": "2898e608",
   "metadata": {
    "editable": true
   },
   "source": [
    "# Online programming resources\n",
    "\n",
    "This course is supposed to be self contained, but there are of course plenty of online courses, youtube videos, and books that you should take advantage of to improve your understanding. These resources are extremely valuable if you know exactly what your are looking for. As a complete beginner with little or no knowledge of Python it can be confusing if you do not know what you are looking for. Great online sources that cover much of Python basics are [w3schools](https://www.w3schools.com/python/default.asp), and [A Whirlwind tour of Python](https://jakevdp.github.io/WhirlwindTourOfPython/). These resources explains quite briefly important concepts and give examples, such as\n",
    "* specific Python syntax,\n",
    "\n",
    "* data types (float, int, Boolean, etc.),\n",
    "\n",
    "* data structures (lists, dictionaries, tuples, etc.),\n",
    "\n",
    "* control flow (if, else, while, for loops etc.),\n",
    "\n",
    "* functions and classes."
   ]
  },
  {
   "cell_type": "markdown",
   "id": "0595c2b2",
   "metadata": {
    "editable": true
   },
   "source": [
    "## ChatGPT\n",
    "[ChatGPT](https://chat.openai.com/auth/login), developed by [OpenAI](https://openai.com/) is perhaps one of the best online sources to help you write code. So far all the examples in this course can be generated from ChatGPT. Just type in ''Show me how to plot sin(x) in Python'', you will get the output in [figure 1](#fig:intro:chat1).\n",
    "\n",
    "<!-- dom:FIGURE: [fig-intro/chat1.png, width=800 frac=1.0] Output from ChatGPT and the result after running the code. <div id=\"fig:intro:chat1\"></div> -->\n",
    "<!-- begin figure -->\n",
    "<div id=\"fig:intro:chat1\"></div>\n",
    "\n",
    "<img src=\"fig-intro/chat1.png\" width=\"800\"><p style=\"font-size: 0.9em\"><i>Figure 1: Output from ChatGPT and the result after running the code.</i></p>\n",
    "<!-- end figure -->\n",
    "\n",
    "I would encourage you to use ChatGPT actively in your coding, you will be more efficient. The code generated is generally good, and if there are parts you do not understand it is possible to get additional help from ChatGPT."
   ]
  },
  {
   "cell_type": "markdown",
   "id": "8b5b1835",
   "metadata": {
    "editable": true
   },
   "source": [
    "# Stuff you need to do\n",
    "\n",
    "1. You need to install Python, even if you have installed Python before we recommend you to install the [Anaconda distribution](https://www.anaconda.com/download). It is straight forward to install, just follow the instructions and choose default options that are suggested.\n",
    "\n",
    "2. Install an integrated development environment (IDE). An IDE is simply where you write the Python code. After installing Anaconda you should already have Spyder installed, if not you can install it by opening the Anaconda Navigator. You will find the Anaconda Navigator in the start menu in the Anaconda folder, but most likely there will already be a program called Spyder in your program folder. Another IDE is [Visual Studio Code](https://code.visualstudio.com/) or VS Code for short, see [figure 2](#fig:intro:ide) for two examples. An IDE will help you to write code, because it will give information about the code you write and also help you to find errors.\n",
    "\n",
    "3. Sign up for an account for [ChatGPT](https://chat.openai.com/auth/login). This is not mandatory, but it will help you write code faster.\n",
    "\n",
    "<!-- dom:FIGURE: [fig-intro/string_ex.png, width=800 frac=1.0] Two IDEs to write Python code (left) Spyder (right) VS Code. <div id=\"fig:intro:ide\"></div> -->\n",
    "<!-- begin figure -->\n",
    "<div id=\"fig:intro:ide\"></div>\n",
    "\n",
    "<img src=\"fig-intro/string_ex.png\" width=\"800\"><p style=\"font-size: 0.9em\"><i>Figure 2: Two IDEs to write Python code (left) Spyder (right) VS Code.</i></p>\n",
    "<!-- end figure -->"
   ]
  },
  {
   "cell_type": "markdown",
   "id": "7e9e5745",
   "metadata": {
    "editable": true
   },
   "source": [
    "# If you never have coded before\n",
    "\n",
    "Here I have collected stuff that will make your life easier, and increase the speed of understanding. I have tried to explain some concepts below, if this is too little information there are plenty of online resources that you can check out. The purpose of this section is to introduce you to some concepts that are key to any programming language, but can take some time to master or to get under your skin. If you understand these concepts, coding will be easier. Do not focus on how we use these concepts in coding, that is what the course is all about, rather try to understand the meaning of the concepts."
   ]
  },
  {
   "cell_type": "markdown",
   "id": "928623a1",
   "metadata": {
    "editable": true
   },
   "source": [
    "## Variable\n",
    "Coding is very much about passing information around and do something with that information. In Python we can easily import an Excel sheet, then we typically pass the Excel sheet around in the code and do some mathematical operations on the different columns. To pass data around in our code we use *variables*, below are two variables called `x` and `y`"
   ]
  },
  {
   "cell_type": "code",
   "execution_count": 1,
   "id": "2480f557",
   "metadata": {
    "collapsed": false,
    "editable": true
   },
   "outputs": [],
   "source": [
    "x=13\n",
    "y='Dog'"
   ]
  },
  {
   "cell_type": "markdown",
   "id": "286a6959",
   "metadata": {
    "editable": true
   },
   "source": [
    "We use the equal sign, `=`, to create a binding between what is on the left and right side. Here we have assigned the value 13 and the string `Dog` to `x` and `y`, respectively. The value 13 (or the string `Dog`) is stored somewhere in the computer memory. In many ways you can consider the operation of creating a variable as to pick a box, put something in it, and labeling it, as illustrated in [figure 3](#fig:intro:var).\n",
    "\n",
    "<!-- dom:FIGURE: [fig-intro/box.png, width=800 frac=1.0] A visualization of a variable. <div id=\"fig:intro:var\"></div> -->\n",
    "<!-- begin figure -->\n",
    "<div id=\"fig:intro:var\"></div>\n",
    "\n",
    "<img src=\"fig-intro/box.png\" width=\"800\"><p style=\"font-size: 0.9em\"><i>Figure 3: A visualization of a variable.</i></p>\n",
    "<!-- end figure -->\n",
    "\n",
    "The illustration in [figure 3](#fig:intro:var) also indicate that the size of the box may vary dependent on the content. Note that `x` and `y` are labels, it does not matter what kind of label we use, it is the content of the box that is important not the label you put on it. Normally you would use a more descriptive name than `x` or `y` to simply help other humans to better understand your code."
   ]
  },
  {
   "cell_type": "markdown",
   "id": "5db8ad1a",
   "metadata": {
    "editable": true
   },
   "source": [
    "## Functions\n",
    "\n",
    "A function is several lines of code that perform a specific task. We can think of a function as a recipe, e.g. a cake recipe. To make a cake we need a certain input, eggs, flour, sugar, chocolate, then we follow a specific set of operations to produce the cake. A function in Python operates in the same way, it takes something as input (different variables), follow certain steps and returns a product (the cake).\n",
    "\n",
    "Functions are useful because it allows us to wrap several lines of code that we believe we will use many times into reusable functions. Thus, we write the function (recipe) once and every time we want to make the same cake, we invoke the function to produce the output (cake), see [figure 4](#fig:intro:batter). \n",
    "\n",
    "<!-- dom:FIGURE: [fig-intro/batter.png, width=800 frac=1.0] My favorite chocolate fondant recipe and a Python code. <div id=\"fig:intro:batter\"></div> -->\n",
    "<!-- begin figure -->\n",
    "<div id=\"fig:intro:batter\"></div>\n",
    "\n",
    "<img src=\"fig-intro/batter.png\" width=\"800\"><p style=\"font-size: 0.9em\"><i>Figure 4: My favorite chocolate fondant recipe and a Python code.</i></p>\n",
    "<!-- end figure -->"
   ]
  },
  {
   "cell_type": "markdown",
   "id": "12ddfa5c",
   "metadata": {
    "editable": true
   },
   "source": [
    "## Objects and Classes\n",
    "\n",
    "In Python everything is an object. An object is a variable (a box) that contains data and functions. That means that the boxes in [figure 3](#fig:intro:var) is more than just  pieces of memory. To continue the with the recipe example above, we can think of an object as a cookbook that also contains ingredients, in Norwegian ''matkasse'' or in English a ''meal kit''. There will be many recipes in this meal kit and many ingredients. In Python the syntax for accessing the functions (recipes) or data (ingredients) is by using the `.` syntax. In [figure 2](#fig:intro:ide), this is illustrated. When we write `x='This is a string'`, we can e.g. do `x.capitalize()`, which will (not surprisingly) transform all the small letters to capital letters, `'THIS IS A STRING'`.\n",
    "\n",
    "Thus in Python there will be a lot of ready made functions that you can use to quickly perform simple operations on your variables.\n",
    "\n",
    "<!-- dom:FIGURE: [fig-intro/food_box.png, width=800 frac=1.0] A visualization of an object, containing functions (recipes) and variables (ingredients). <div id=\"fig:intro:obj\"></div> -->\n",
    "<!-- begin figure -->\n",
    "<div id=\"fig:intro:obj\"></div>\n",
    "\n",
    "<img src=\"fig-intro/food_box.png\" width=\"800\"><p style=\"font-size: 0.9em\"><i>Figure 5: A visualization of an object, containing functions (recipes) and variables (ingredients).</i></p>\n",
    "<!-- end figure -->\n",
    "\n",
    "**Objects vs Classes.**\n",
    "\n",
    "A class is a blueprint and objects are an instance of the class. We create a class by writing lines of code, to create objects we execute the code in the class. In many ways you can say that objects are physical whereas a class is logical. For the food kit case a class can be a description of the food kit on paper, describing how many recipes, how much potatoes, meat etc. should be included in each food kit, whereas all the physical food kits delivered to the customers are the objects."
   ]
  },
  {
   "cell_type": "markdown",
   "id": "72f6dc7d",
   "metadata": {
    "editable": true
   },
   "source": [
    "## Library\n",
    "\n",
    "Python has a lot of libraries, which is one of the reasons why Python is so popular. These libraries are free and you can import them into your code. You can think of a library as a collection of cookbooks or meal kits as they also contains data. A Python library consists of a collection of objects, functions and or variables. In [figure 1](#fig:intro:chat1) two libraries are imported `numpy` and `matplotlib.pyplot`, we will return to these libraries later."
   ]
  },
  {
   "cell_type": "markdown",
   "id": "3e260ffc",
   "metadata": {
    "editable": true
   },
   "source": [
    "# Exercise: Install a Python library in a separate environment\n",
    "\n",
    "Hopefully you have managed to install Anaconda Python. Next, you want to open a terminal, if you are working on Linux or Mac, you open the terminal window. On Windows you open Anaconda Prompt from the Windows start menu. On my machine it looks something like this"
   ]
  },
  {
   "cell_type": "markdown",
   "id": "6d694078",
   "metadata": {
    "editable": true
   },
   "source": [
    "        (base) PS C:\\Users\\Aksel Hiorth>\n"
   ]
  },
  {
   "cell_type": "markdown",
   "id": "51990a5b",
   "metadata": {
    "editable": true
   },
   "source": [
    "The `(base)` to the left indicates that we are in the base environment in Anaconda, `C:\\Users\\2902412`, show me that I am at the `C` disk, in the `Aksel Hiorth` folder, which is a sub directory of the `User` folder.\n",
    "\n",
    "As a general rule we do not want to install new packages or libraries in the `base` environment, this is simply because different packages are not always internally consistent. If you are unlucky you will install two packages that requires two different version of a third package, this will then break your installation and suddenly code that used to run will no longer work.\n",
    "\n",
    "A good practice is for each new project you start on that requires some special packages or libraries that you have not used before is to create a new environment.\n",
    "\n",
    "**Step 1 (Update conda, if you did not recently installed Anaconda):**\n",
    "* Open your anaconda prompt (on Windows) and terminal (Mac or Linux)\n",
    "\n",
    "* Make sure that conda is updated (conda is the package manager of Anaconda), by enter the following command."
   ]
  },
  {
   "cell_type": "markdown",
   "id": "5d17aee0",
   "metadata": {
    "editable": true
   },
   "source": [
    "        (base) PS C:\\Users\\Aksel Hiorth>conda update -n base -c conda-forge conda\n"
   ]
  },
  {
   "cell_type": "markdown",
   "id": "070a0863",
   "metadata": {
    "editable": true
   },
   "source": [
    "This may take some time.\n",
    "\n",
    "**Step 2 (Create environment):**\n",
    "\n",
    "* Create a new environment by the following command"
   ]
  },
  {
   "cell_type": "markdown",
   "id": "7006ca66",
   "metadata": {
    "editable": true
   },
   "source": [
    "        (base) PS C:\\Users\\Aksel Hiorth>conda create -n MOD321 \n"
   ]
  },
  {
   "cell_type": "markdown",
   "id": "672a4db3",
   "metadata": {
    "editable": true
   },
   "source": [
    "Here I tell python create a new environment called MOD321, which is the course code of this course. After you have accepted everything, you will get sometime like this"
   ]
  },
  {
   "cell_type": "markdown",
   "id": "f3b5bded",
   "metadata": {
    "editable": true
   },
   "source": [
    "        #\n",
    "        # To activate this environment, use\n",
    "        #\n",
    "        #     $ conda activate MOD321\n",
    "        #\n",
    "        # To deactivate an active environment, use\n",
    "        #\n",
    "        #     $ conda deactivate\n"
   ]
  },
  {
   "cell_type": "markdown",
   "id": "4432ccf2",
   "metadata": {
    "editable": true
   },
   "source": [
    "* Execute the above command"
   ]
  },
  {
   "cell_type": "markdown",
   "id": "e0962809",
   "metadata": {
    "editable": true
   },
   "source": [
    "        (base) PS C:\\Users\\Aksel Hiorth>conda activate MOD321\n"
   ]
  },
  {
   "cell_type": "markdown",
   "id": "1b0bf4f5",
   "metadata": {
    "editable": true
   },
   "source": [
    "**Delete environments.**\n",
    "\n",
    "If something goes wrong you can always delete the environment and create it once more. You simply has to deactivate it"
   ]
  },
  {
   "cell_type": "markdown",
   "id": "13e43ca6",
   "metadata": {
    "editable": true
   },
   "source": [
    "        (MOD321) PS C:\\Users\\Aksel Hiorth>conda deactivate \n"
   ]
  },
  {
   "cell_type": "markdown",
   "id": "87742aa5",
   "metadata": {
    "editable": true
   },
   "source": [
    "Then you delete it"
   ]
  },
  {
   "cell_type": "markdown",
   "id": "0741d810",
   "metadata": {
    "editable": true
   },
   "source": [
    "        (base) PS C:\\Users\\Aksel Hiorth>conda remove --name MOD321 --all \n"
   ]
  },
  {
   "cell_type": "markdown",
   "id": "7f314356",
   "metadata": {
    "editable": true
   },
   "source": [
    "**Step 3 (Install packages):**\n",
    "There are several packages we will need and if we list all packages simultaneously conda will make sure that they are internally consistent. Enter the following command"
   ]
  },
  {
   "cell_type": "markdown",
   "id": "24641579",
   "metadata": {
    "editable": true
   },
   "source": [
    "        (base) PS C:\\Users\\Aksel Hiorth>conda activate MOD321\n",
    "        (MOD321) PS C:\\Users\\Aksel Hiorth>conda install matplotlib pandas jupyter scipy numpy ipykernel pathlib numba \n"
   ]
  },
  {
   "cell_type": "markdown",
   "id": "9deb04dc",
   "metadata": {
    "editable": true
   },
   "source": [
    "If you later find out you need additional packages, you just can just open a terminal window, activate the correct environment and then do `conda install PACKAGE_NAME`. But, as already mentioned if you install more and more very specialized packages, you might get inconsistencies. However, then you can just delete your environment and install everything once mote.\n",
    "\n",
    "**pip install vs conda install.**\n",
    "\n",
    "If you find a package you would like to install, the documentation may in many cases say run the command `pip install PACKAGE_NAME`. That may very well work, but I would always advice you to do `conda install PACKAGE_NAME` first, because I believe conda is better at checking for internal consistency. If `conda install` fails, you can do `pip install` and 99 out 100 times this will work out just fine."
   ]
  },
  {
   "cell_type": "markdown",
   "id": "5243f565",
   "metadata": {
    "editable": true
   },
   "source": [
    "# Bibliography"
   ]
  }
 ],
 "metadata": {},
 "nbformat": 4,
 "nbformat_minor": 5
}
