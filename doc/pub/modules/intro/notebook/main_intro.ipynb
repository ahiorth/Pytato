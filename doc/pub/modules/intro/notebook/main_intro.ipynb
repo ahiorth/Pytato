{
 "cells": [
  {
   "cell_type": "markdown",
   "id": "7b4c440d",
   "metadata": {
    "editable": true
   },
   "source": [
    "<!-- dom:TITLE: Preliminaries -->\n",
    "# Preliminaries\n",
    "**Aksel Hiorth**\n",
    "University of Stavanger, Institute for Energy Resources, Norway\n",
    "\n",
    "Date: **Dec 22, 2023**\n",
    "\n",
    "<!-- Common Mako variables and functions -->\n",
    "\n",
    "<!-- Here goes the main text. -->\n",
    "<!-- The text may be split into several files and included here -->\n",
    "<!-- via preprocess: # #include \"file1.do.txt\" etc -->"
   ]
  },
  {
   "cell_type": "markdown",
   "id": "fb871a4b",
   "metadata": {
    "editable": true
   },
   "source": [
    "# Is it possible to learn Python in two days?\n",
    "\n",
    "You will for sure not master Python in two days, but you will be able to perform many useful tasks, and lay the foundation for further development. In particular with the release of [ChatGPT](https://chat.openai.com/auth/login), I would say it has never been so easy to get advanced applications up and running with only a basic understanding of Python. If you manage to formulate what your task precisely, then ChatGPT will translate your request into code (see e.g. [figure 1](#fig:intro:chat1)). This is clearly not foolproof, the code you get back might not work exactly as you want and you will need to modify it, or perhaps you have to break your task into several smaller pieces to get useful answers from ChatGPT (or the web) and then you are left with the task of gluing them together yourself."
   ]
  },
  {
   "cell_type": "markdown",
   "id": "493c945e",
   "metadata": {
    "editable": true
   },
   "source": [
    "# Why should you learn coding?\n",
    "\n",
    "A quick google search will tell you that you should learn to code because it will lead to job opportunities and boost your career. I would also highlight that it will let you test out ideas much more efficiently. When you have a lot of domain knowledge in a certain area, you will most likely have ideas that can lead to innovation or new insight. As an example, maybe you have made some observation indicating that two phenomena originally believed to be unrelated, actually are related. To prove or support you claim, you would then need to collect data from these phenomena and present them together. Since the phenomena are unrelated the data are most likely located in different places. With some basic knowledge of Python you can easily access different files, folders, web pages, scrap data from them, filter the data, and join them. Once you have collected the data you would then make some plots, and inspect the plots to discover patterns. The next steps is to quantify correlations by e.g. regression analysis or to use more advanced machine learning techniques. All this can be achieved with Python, it will take you time to master this fully, but with basic Python knowledge you can easily run through tutorials yourself and become quite advanced within weeks."
   ]
  },
  {
   "cell_type": "markdown",
   "id": "46bf6cfc",
   "metadata": {
    "editable": true
   },
   "source": [
    "# About this course\n",
    "\n",
    "With the development of tools that can write code for you and also the large number of libraries in Python, it becomes less important to learn syntax. Rather, you should focus on learning the basic concepts, and to learn the logic of coding. For the examples presented in this course, try to focus on\n",
    "1. What kind of task do we want to perform?\n",
    "\n",
    "2. How can this task be broken down into smaller pieces?\n",
    "\n",
    "3. How are these smaller pieces implemented in order for the computer to understand us?\n",
    "\n",
    "It is very important to develop an understanding on how to break a big problem into smaller tasks. In the beginning you will copy what others have done, but over time you will develop your own personal style and how to do things.  \n",
    "\n",
    "In this course we start with practical applications and gradually move to basic operations, because we hope it will be more engaging. Once we have achieved our goal or the task, we will explain the logic, and  investigate line by line what is happening.\n",
    "\n",
    "This has the consequence that we will introduce basic programming concepts such as types, lists, dictionaries *when it is needed, and only the minimal amount of information*. The challenge with this approach is that there is always more to learn about the basic programming concepts, thus if you feel that you would like to know more about the different concepts you should explore this on your own. See the next section for where to find resources."
   ]
  },
  {
   "cell_type": "markdown",
   "id": "cb55cea6",
   "metadata": {
    "editable": true
   },
   "source": [
    "# Online programming resources\n",
    "\n",
    "This course is supposed to be self contained, but there are of course plenty of online courses, youtube videos, and books that you should take advantage of to improve your understanding. These resources are extremely valuable if you know exactly what your are looking for. As a complete beginner with little or no knowledge of Python it can be confusing if you do not know what you are looking for. Great online sources that cover much of Python basics are\n",
    "* [w3schools](https://www.w3schools.com/python/default.asp), brief description of different functionality in Python, has an extensive index, which makes it is easy to look up different concepts.\n",
    "\n",
    "* [A Whirlwind tour of Python](https://jakevdp.github.io/WhirlwindTourOfPython/). Basic introduction to Python, from simple to more complex concepts.\n",
    "\n",
    "These resources explains quite briefly important concepts and give examples, such as\n",
    "* specific Python syntax,\n",
    "\n",
    "* data types (float, int, Boolean, etc.),\n",
    "\n",
    "* data structures (lists, dictionaries, tuples, etc.),\n",
    "\n",
    "* control flow (if, else, while, for loops etc.),\n",
    "\n",
    "* functions and classes.\n",
    "\n",
    "I would also like to highlight [Real Python](https://realpython.com/). Real Python is comprehensive, it offers different learning paths from [python basics](https://realpython.com/learning-paths/python-basics/), to [machine learning with python](https://realpython.com/learning-paths/machine-learning-python/). Whenever I want to understand certain Python concepts in depth, I often end up at Real Python, I find it to be precise and not too lengthy.\n",
    "\n",
    "## ChatGPT\n",
    "[ChatGPT](https://chat.openai.com/auth/login), developed by [OpenAI](https://openai.com/) is perhaps one of the best online sources to help you write code. So far all the examples in this course can be generated from ChatGPT. Just type in ''Show me how to plot sin(x) in Python'', you will get the output in [figure 1](#fig:intro:chat1).\n",
    "\n",
    "<!-- dom:FIGURE: [fig-intro/chat1.png, width=800 frac=1.0] Output from ChatGPT and the result after running the code. <div id=\"fig:intro:chat1\"></div> -->\n",
    "<!-- begin figure -->\n",
    "<div id=\"fig:intro:chat1\"></div>\n",
    "\n",
    "<img src=\"fig-intro/chat1.png\" width=800><p style=\"font-size: 0.9em\"><i>Figure 1: Output from ChatGPT and the result after running the code.</i></p>\n",
    "<!-- end figure -->\n",
    "\n",
    "I would encourage you to use ChatGPT actively in your coding, you will be more efficient. The code generated is generally good, and if there are parts you do not understand it is possible to get additional help from ChatGPT."
   ]
  },
  {
   "cell_type": "markdown",
   "id": "b6d635fc",
   "metadata": {
    "editable": true
   },
   "source": [
    "# Stuff you need to do\n",
    "\n",
    "1. You need to install Python, even if you have installed Python before we recommend you to install the [Anaconda distribution](https://www.anaconda.com/download). It is straight forward to install, just follow the instructions and choose default options that are suggested.\n",
    "\n",
    "2. Install an integrated development environment (IDE). An IDE is simply where you write the Python code. After installing Anaconda you should already have Spyder installed, if not you can install it by opening the Anaconda Navigator. You will find the Anaconda Navigator in the start menu in the Anaconda folder, but most likely there will already be a program called Spyder in your program folder. Another IDE is [Visual Studio Code](https://code.visualstudio.com/) or VS Code for short, see [figure 2](#fig:intro:ide) for two examples. An IDE will help you to write code, because it will give information about the code you write and also help you to find errors.\n",
    "\n",
    "3. Sign up for an account for [ChatGPT](https://chat.openai.com/auth/login). This is not mandatory, but it will help you write code faster.\n",
    "\n",
    "<!-- dom:FIGURE: [fig-intro/string_ex.png, width=800 frac=1.0] Two IDEs to write Python code (left) Spyder (right) VS Code. <div id=\"fig:intro:ide\"></div> -->\n",
    "<!-- begin figure -->\n",
    "<div id=\"fig:intro:ide\"></div>\n",
    "\n",
    "<img src=\"fig-intro/string_ex.png\" width=800><p style=\"font-size: 0.9em\"><i>Figure 2: Two IDEs to write Python code (left) Spyder (right) VS Code.</i></p>\n",
    "<!-- end figure -->"
   ]
  },
  {
   "cell_type": "markdown",
   "id": "4218a6fd",
   "metadata": {
    "editable": true
   },
   "source": [
    "# If you never have coded before\n",
    "\n",
    "Here I have collected stuff that will make your life easier, and increase the speed of understanding. I have tried to explain some concepts below, if this is too little information there are plenty of online resources that you can check out. The purpose of this section is to introduce you to some concepts that are key to any programming language, but can take some time to master or to get under your skin. If you understand these concepts, coding will be easier. Do not focus on how we use these concepts in coding, that is what the course is all about, rather try to understand the meaning of the concepts."
   ]
  },
  {
   "cell_type": "markdown",
   "id": "63ec7cad",
   "metadata": {
    "editable": true
   },
   "source": [
    "## Variable\n",
    "Coding is very much about passing information around and do something with that information. In Python we can easily import an Excel sheet, then we typically pass the Excel sheet around in the code and do some mathematical operations on the different columns. To pass data around in our code we use *variables*, below are two variables called `x` and `y`"
   ]
  },
  {
   "cell_type": "code",
   "execution_count": 1,
   "id": "bf324721",
   "metadata": {
    "collapsed": false,
    "editable": true
   },
   "outputs": [],
   "source": [
    "x=13\n",
    "y='Dog'"
   ]
  },
  {
   "cell_type": "markdown",
   "id": "f695ba11",
   "metadata": {
    "editable": true
   },
   "source": [
    "We use the equal sign, `=`, to create a binding between what is on the left and right side. Here we have assigned the value 13 and the string `Dog` to `x` and `y`, respectively. The value 13 (or the string `Dog`) is stored somewhere in the computer memory. In many ways you can consider the operation of creating a variable as to pick a box, put something in it, and labeling it, as illustrated in [figure 3](#fig:intro:var).\n",
    "\n",
    "<!-- dom:FIGURE: [fig-intro/box.png, width=800 frac=1.0] A visualization of a variable. <div id=\"fig:intro:var\"></div> -->\n",
    "<!-- begin figure -->\n",
    "<div id=\"fig:intro:var\"></div>\n",
    "\n",
    "<img src=\"fig-intro/box.png\" width=800><p style=\"font-size: 0.9em\"><i>Figure 3: A visualization of a variable.</i></p>\n",
    "<!-- end figure -->\n",
    "\n",
    "The illustration in [figure 3](#fig:intro:var) also indicate that the size of the box may vary dependent on the content. Note that `x` and `y` are labels, it does not matter what kind of label we use, it is the content of the box that is important not the label you put on it. Normally you would use a more descriptive name than `x` or `y` to simply help other humans to better understand your code."
   ]
  },
  {
   "cell_type": "markdown",
   "id": "7eeff3b3",
   "metadata": {
    "editable": true
   },
   "source": [
    "## Functions\n",
    "\n",
    "A function is several lines of code that perform a specific task. We can think of a function as a recipe, e.g. a cake recipe. To make a cake we need a certain input, eggs, flour, sugar, chocolate, then we follow a specific set of operations to produce the cake. A function in Python operates in the same way, it takes something as input (different variables), follow certain steps and returns a product (the cake).\n",
    "\n",
    "Functions are useful because it allows us to wrap several lines of code that we believe we will use many times into reusable functions. Thus, we write the function (recipe) once and every time we want to make the same cake, we invoke the function to produce the output (cake), see [figure 4](#fig:intro:batter). \n",
    "\n",
    "<!-- dom:FIGURE: [fig-intro/batter.png, width=800 frac=1.0] My favorite chocolate fondant recipe and a Python code. <div id=\"fig:intro:batter\"></div> -->\n",
    "<!-- begin figure -->\n",
    "<div id=\"fig:intro:batter\"></div>\n",
    "\n",
    "<img src=\"fig-intro/batter.png\" width=800><p style=\"font-size: 0.9em\"><i>Figure 4: My favorite chocolate fondant recipe and a Python code.</i></p>\n",
    "<!-- end figure -->"
   ]
  },
  {
   "cell_type": "markdown",
   "id": "55cf81a3",
   "metadata": {
    "editable": true
   },
   "source": [
    "## Objects and Classes\n",
    "\n",
    "In Python everything is an object. An object is a variable (a box) that contains data and functions. That means that the boxes in [figure 3](#fig:intro:var) is more than just  pieces of memory. To continue the with the recipe example above, we can think of an object as a cookbook that also contains ingredients, in Norwegian ''matkasse'' or in English a ''meal kit''. There will be many recipes in this meal kit and many ingredients. In Python the syntax for accessing the functions (recipes) or data (ingredients) is by using the `.` syntax. In [figure 2](#fig:intro:ide), this is illustrated. When we write `x='This is a string'`, we can e.g. do `x.capitalize()`, which will (not surprisingly) transform all the small letters to capital letters, `'THIS IS A STRING'`.\n",
    "\n",
    "Thus in Python there will be a lot of ready made functions that you can use to quickly perform simple operations on your variables.\n",
    "\n",
    "<!-- dom:FIGURE: [fig-intro/food_box.png, width=800 frac=1.0] A visualization of an object, containing functions (recipes) and variables (ingredients). <div id=\"fig:intro:obj\"></div> -->\n",
    "<!-- begin figure -->\n",
    "<div id=\"fig:intro:obj\"></div>\n",
    "\n",
    "<img src=\"fig-intro/food_box.png\" width=800><p style=\"font-size: 0.9em\"><i>Figure 5: A visualization of an object, containing functions (recipes) and variables (ingredients).</i></p>\n",
    "<!-- end figure -->\n",
    "\n",
    "**Objects vs Classes.**\n",
    "\n",
    "A class is a blueprint and objects are an instance of the class. We create a class by writing lines of code, to create objects we execute the code in the class. In many ways you can say that objects are physical whereas a class is logical. For the food kit case a class can be a description of the food kit on paper, describing how many recipes, how much potatoes, meat etc. should be included in each food kit, whereas all the physical food kits delivered to the customers are the objects."
   ]
  },
  {
   "cell_type": "markdown",
   "id": "35ba9cfa",
   "metadata": {
    "editable": true
   },
   "source": [
    "## Library\n",
    "\n",
    "Python has a lot of libraries, which is one of the reasons why Python is so popular. These libraries are free and you can import them into your code. You can think of a library as a collection of cookbooks or meal kits as they also contains data. A Python library consists of a collection of objects, functions and or variables. In [figure 1](#fig:intro:chat1) two libraries are imported `numpy` and `matplotlib.pyplot`, we will return to these libraries later."
   ]
  },
  {
   "cell_type": "markdown",
   "id": "9a2947b4",
   "metadata": {
    "editable": true
   },
   "source": [
    "# Exercise: Install a Python library in a separate environment\n",
    "\n",
    "Hopefully you have managed to install Anaconda Python. Next, you want to open a terminal, if you are working on Linux or Mac, you open the terminal window. On Windows you open Anaconda Prompt from the Windows start menu. On my machine it looks something like this"
   ]
  },
  {
   "cell_type": "markdown",
   "id": "e0d777e8",
   "metadata": {
    "editable": true
   },
   "source": [
    "        (base) PS C:\\Users\\Aksel Hiorth>\n"
   ]
  },
  {
   "cell_type": "markdown",
   "id": "d99735f5",
   "metadata": {
    "editable": true
   },
   "source": [
    "The `(base)` to the left indicates that we are in the base environment in Anaconda, `C:\\Users\\2902412`, show me that I am at the `C` disk, in the `Aksel Hiorth` folder, which is a sub directory of the `User` folder.\n",
    "\n",
    "As a general rule we do not want to install new packages or libraries in the `base` environment, this is simply because different packages are not always internally consistent. If you are unlucky you will install two packages that requires two different version of a third package, this will then break your installation and suddenly code that used to run will no longer work.\n",
    "\n",
    "A good practice is for each new project you start on that requires some special packages or libraries that you have not used before is to create a new environment.\n",
    "\n",
    "**Step 1 (Update conda, if you did not recently installed Anaconda):**\n",
    "* Open your anaconda prompt (on Windows) and terminal (Mac or Linux)\n",
    "\n",
    "* Make sure that conda is updated (conda is the package manager of Anaconda), by enter the following command."
   ]
  },
  {
   "cell_type": "markdown",
   "id": "2d90b7d8",
   "metadata": {
    "editable": true
   },
   "source": [
    "        (base) PS C:\\Users\\Aksel Hiorth>conda update -n base -c conda-forge conda\n"
   ]
  },
  {
   "cell_type": "markdown",
   "id": "73a03974",
   "metadata": {
    "editable": true
   },
   "source": [
    "This may take some time.\n",
    "\n",
    "**Step 2 (Create environment):**\n",
    "\n",
    "* Create a new environment by the following command"
   ]
  },
  {
   "cell_type": "markdown",
   "id": "9bade91e",
   "metadata": {
    "editable": true
   },
   "source": [
    "        (base) PS C:\\Users\\Aksel Hiorth>conda create -n MOD321 \n"
   ]
  },
  {
   "cell_type": "markdown",
   "id": "cda4a89d",
   "metadata": {
    "editable": true
   },
   "source": [
    "Here I tell python create a new environment called MOD321, which is the course code of this course. After you have accepted everything, you will get sometime like this"
   ]
  },
  {
   "cell_type": "markdown",
   "id": "28418eb7",
   "metadata": {
    "editable": true
   },
   "source": [
    "        #\n",
    "        # To activate this environment, use\n",
    "        #\n",
    "        #     $ conda activate MOD321\n",
    "        #\n",
    "        # To deactivate an active environment, use\n",
    "        #\n",
    "        #     $ conda deactivate\n"
   ]
  },
  {
   "cell_type": "markdown",
   "id": "d46f143c",
   "metadata": {
    "editable": true
   },
   "source": [
    "* Execute the above command"
   ]
  },
  {
   "cell_type": "markdown",
   "id": "08cbf043",
   "metadata": {
    "editable": true
   },
   "source": [
    "        (base) PS C:\\Users\\Aksel Hiorth>conda activate MOD321\n"
   ]
  },
  {
   "cell_type": "markdown",
   "id": "9916697f",
   "metadata": {
    "editable": true
   },
   "source": [
    "**Delete environments.**\n",
    "\n",
    "If something goes wrong you can always delete the environment and create it once more. You simply has to deactivate it"
   ]
  },
  {
   "cell_type": "markdown",
   "id": "b23cd5a0",
   "metadata": {
    "editable": true
   },
   "source": [
    "        (MOD321) PS C:\\Users\\Aksel Hiorth>conda deactivate \n"
   ]
  },
  {
   "cell_type": "markdown",
   "id": "aae80b12",
   "metadata": {
    "editable": true
   },
   "source": [
    "Then you delete it"
   ]
  },
  {
   "cell_type": "markdown",
   "id": "c26b09de",
   "metadata": {
    "editable": true
   },
   "source": [
    "        (base) PS C:\\Users\\Aksel Hiorth>conda remove --name MOD321 --all \n"
   ]
  },
  {
   "cell_type": "markdown",
   "id": "8b987d2f",
   "metadata": {
    "editable": true
   },
   "source": [
    "**Step 3 (Install packages):**\n",
    "There are several packages we will need and if we list all packages simultaneously conda will make sure that they are internally consistent. Enter the following command"
   ]
  },
  {
   "cell_type": "markdown",
   "id": "6baaf461",
   "metadata": {
    "editable": true
   },
   "source": [
    "        (base) PS C:\\Users\\Aksel Hiorth>conda activate MOD321\n",
    "        (MOD321) PS C:\\Users\\Aksel Hiorth>conda install matplotlib pandas jupyter scipy numpy ipykernel pathlib numba \n"
   ]
  },
  {
   "cell_type": "markdown",
   "id": "ec4a090d",
   "metadata": {
    "editable": true
   },
   "source": [
    "If you later find out you need additional packages, you just can just open a terminal window, activate the correct environment and then do `conda install PACKAGE_NAME`. But, as already mentioned if you install more and more very specialized packages, you might get inconsistencies. However, then you can just delete your environment and install everything once mote.\n",
    "\n",
    "**pip install vs conda install.**\n",
    "\n",
    "If you find a package you would like to install, the documentation may in many cases say run the command `pip install PACKAGE_NAME`. That may very well work, but I would always advice you to do `conda install PACKAGE_NAME` first, because I believe conda is better at checking for internal consistency. If `conda install` fails, you can do `pip install` and 99 out 100 times this will work out just fine."
   ]
  },
  {
   "cell_type": "markdown",
   "id": "1747e21d",
   "metadata": {
    "editable": true
   },
   "source": [
    "# Exercise 2: Install Bedmap to visualize Antarctica ice data\n",
    "There is currently a great deal of concern about global warming.\n",
    "Some critical issues are whether we are more likely to observe\n",
    "extreme local temperatures, increased frequencies of natural\n",
    "disasters like forest fires and droughts, and if there are\n",
    "\"tipping points\" in the climate system that are, at least on the\n",
    "human timescale, irreversible [[IPCC2021]](#IPCC2021).\n",
    "One particular question to ask is: How much ice is likely to melt?\n",
    "And, what would be the consequence of ice melting for sea level rise (SLR)?\n",
    "\n",
    "Since most of the ice on Planet Earth is located in Antarctica, substantial\n",
    "effort has been spent in mapping the ice and the bedrock of this continent.\n",
    "Most of the data is freely available, and we can use Python to investigate\n",
    "different scenarios. Here we will only show you how to install the packages and visualize the ice thickness. \n",
    "\n",
    "**Part 1.**\n",
    "\n",
    "**Create a new environment.**\n",
    "\n",
    "The ice data are located in the *bedmap2* dataset [[fretwell2013bedmap2]](#fretwell2013bedmap2)\n",
    "The [rockhound](https://github.com/fatiando/rockhound)\n",
    "library can be used to load the data. As an aid to plotting, you might also want to use color maps from the\n",
    "[cmocean](https://pypi.org/project/cmocean/) package [[thyng2016true]](#thyng2016true). To install bedmap2 data you have to create a new conda environment (we call it ice)"
   ]
  },
  {
   "cell_type": "markdown",
   "id": "0a69aec5",
   "metadata": {
    "editable": true
   },
   "source": [
    "        conda config --add channels conda-forge\n",
    "        conda create -n ice python matplotlib numpy scipy xarray==0.19.0 pandas rockhound cmocean pip jupyter\n"
   ]
  },
  {
   "cell_type": "markdown",
   "id": "cc6ab6b1",
   "metadata": {
    "editable": true
   },
   "source": [
    "Note that we need a specific version of the `xarray` library."
   ]
  },
  {
   "cell_type": "code",
   "execution_count": 2,
   "id": "a31ccf0c",
   "metadata": {
    "collapsed": false,
    "editable": true
   },
   "outputs": [],
   "source": [
    "conda activate project1\n",
    "jupyter notebook"
   ]
  },
  {
   "cell_type": "markdown",
   "id": "589455d4",
   "metadata": {
    "editable": true
   },
   "source": [
    "**Part 2.**\n",
    "The code below is taken from the\n",
    "[rockound library documentation](https://www.fatiando.org/rockhound/latest/api/generated/rockhound.fetch_bedmap2.html):"
   ]
  },
  {
   "cell_type": "code",
   "execution_count": 3,
   "id": "a688230a",
   "metadata": {
    "collapsed": false,
    "editable": true
   },
   "outputs": [],
   "source": [
    "bedmap = rh.fetch_bedmap2(datasets=[\"thickness\",\"surface\",\"bed\"])\n",
    "plt.figure(figsize=(8, 7))\n",
    "ax = plt.subplot(111)\n",
    "bedmap.surface.plot.pcolormesh(ax=ax,cmap=cmocean.cm.ice,\n",
    "                       cbar_kwargs=dict(pad=0.01, aspect=30))\n",
    "plt.title(\"Bedmap2 Antarctica\")\n",
    "plt.tight_layout()\n",
    "plt.show()"
   ]
  },
  {
   "cell_type": "markdown",
   "id": "1e601115",
   "metadata": {
    "editable": true
   },
   "source": [
    "* Run the code and reproduce [figure 6](#fig:bedmap2_ice_thickness).\n",
    "\n",
    "<!-- dom:FIGURE: [fig-intro/bedmap2_plot.png, width=800 frac=1.0] Visualization of the ice thickness in Antarctica. <div id=\"fig:bedmap2_ice_thickness\"></div> -->\n",
    "<!-- begin figure -->\n",
    "<div id=\"fig:bedmap2_ice_thickness\"></div>\n",
    "\n",
    "<img src=\"fig-intro/bedmap2_plot.png\" width=800><p style=\"font-size: 0.9em\"><i>Figure 6: Visualization of the ice thickness in Antarctica.</i></p>\n",
    "<!-- end figure -->\n",
    "\n",
    "This may take quite some time, so it is recommended that you do not execute\n",
    "the cell generating the plot more often than you have to.\n",
    "# Bibliography\n",
    "\n",
    "1. <div id=\"IPCC2021\"></div> **V. Masson-Delmotte, P. Zhai, A. Pirani, S. L. Connors, C. Pean, S. Berger, N. Caud, Y. Chen, L. Goldfarb, M. I. Gomis, M. Huang, K. Leitzell, E. Lonnoy, J. B. R. Matthews, T. K. Maycock, T. Waterfield, O. Yelekci, R. Yu and B. Z. (eds.)**.  Climate Change 2021: the Physical Science Basis. Contribution of Working Group I to the Sixth Assessment Report of the Intergovernmental Panel on Climate Change, *Cambridge University Press. In Press.*, 2021.\n",
    "\n",
    "2. <div id=\"fretwell2013bedmap2\"></div> **P. Fretwell, H. D. Pritchard, D. G. Vaughan, J. L. Bamber, N. E. Barrand, R. Bell, C. Bianchi, R. Bingham, D. D. Blankenship and G. Casassa**.  Bedmap2: Improved Ice Bed, Surface and Thickness Datasets for Antarctica, *The Cryosphere*, 7(1), pp. 375-393, 2013.\n",
    "\n",
    "3. <div id=\"thyng2016true\"></div> **K. M. Thyng, C. A. Greene, R. D. Hetland, H. M. Zimmerle and S. F. DiMarco**.  True Colors of Oceanography: Guidelines for Effective and Accurate Colormap Selection, *Oceanography*, 29(3), pp. 9-13, 2016."
   ]
  }
 ],
 "metadata": {},
 "nbformat": 4,
 "nbformat_minor": 5
}
