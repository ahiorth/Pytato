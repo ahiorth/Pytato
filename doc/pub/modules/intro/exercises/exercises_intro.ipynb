{
 "cells": [
  {
   "cell_type": "markdown",
   "id": "9ad95813",
   "metadata": {
    "editable": true
   },
   "source": [
    "<!-- dom:TITLE: Exercises intro -->\n",
    "# Exercises intro\n",
    "**Aksel Hiorth, Institute for Energy Resources,University of Stavanger**\n",
    "\n",
    "Date: **Dec 12, 2023**\n",
    "\n",
    "**Learning objectives**:\n",
    "\n",
    "1. number one\n",
    "\n",
    "2. number two\n",
    "\n",
    "# Exercise: First problem"
   ]
  }
 ],
 "metadata": {},
 "nbformat": 4,
 "nbformat_minor": 5
}
