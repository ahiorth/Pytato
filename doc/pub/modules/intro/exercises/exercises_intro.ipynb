{
 "cells": [
  {
   "cell_type": "markdown",
   "id": "7db5a8f3",
   "metadata": {
    "editable": true
   },
   "source": [
    "<!-- dom:TITLE: Exercises intro -->\n",
    "# Exercises intro\n",
    "**Aksel Hiorth, Institute for Energy Resources,University of Stavanger**\n",
    "\n",
    "Date: **Jan 10, 2024**\n",
    "\n",
    "**Learning objectives**:\n",
    "\n",
    "1. number one\n",
    "\n",
    "2. number two\n",
    "\n",
    "# Exercise: First problem"
   ]
  }
 ],
 "metadata": {},
 "nbformat": 4,
 "nbformat_minor": 5
}
