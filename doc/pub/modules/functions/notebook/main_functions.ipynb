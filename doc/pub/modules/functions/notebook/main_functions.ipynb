{
 "cells": [
  {
   "cell_type": "markdown",
   "id": "1a37944c",
   "metadata": {
    "editable": true
   },
   "source": [
    "<!-- dom:TITLE: Create your own functions -->\n",
    "# Create your own functions\n",
    "**Aksel Hiorth**\n",
    "University of Stavanger\n",
    "\n",
    "Date: **Jan 18, 2024**"
   ]
  },
  {
   "cell_type": "markdown",
   "id": "6bbe4419",
   "metadata": {
    "editable": true
   },
   "source": [
    "<!-- Common Mako variables and functions -->\n",
    "\n",
    "<!-- Here goes the main text. -->\n",
    "<!-- The text may be split into several files and included here -->\n",
    "<!-- via preprocess: # #include \"file1.do.txt\" etc -->\n",
    "\n",
    "# What is a function?\n",
    "As explained in the introduction, a function is several lines of code that perform a specific task. We use functions to reuse code. In many ways you can think of a function as a recipe, e.g. a cake recipe. To make a cake we need a certain input, eggs, flour, sugar, chocolate, then we follow a specific set of operations to produce the cake. A function in Python operates in the same way, it takes something as input (different variables), follow certain steps and returns a product (the cake).\n",
    "\n",
    "You have already used built in functions in Python, such as `print()`, `pandas.DataFrame()`, etc."
   ]
  },
  {
   "cell_type": "markdown",
   "id": "5c4d0a21",
   "metadata": {
    "editable": true
   },
   "source": [
    "## How to create a function in Python\n",
    "\n",
    "We can define our own functions using the `def` keyword, it best illustrated with some examples"
   ]
  },
  {
   "cell_type": "code",
   "execution_count": 1,
   "id": "45255222",
   "metadata": {
    "collapsed": false,
    "editable": true
   },
   "outputs": [],
   "source": [
    "def my_func():\n",
    "    print('My first function')\n",
    "my_func() #prints:  My first function"
   ]
  },
  {
   "cell_type": "markdown",
   "id": "e4413193",
   "metadata": {
    "editable": true
   },
   "source": [
    "You can pass arguments to the function, to make them more general"
   ]
  },
  {
   "cell_type": "code",
   "execution_count": 2,
   "id": "13210323",
   "metadata": {
    "collapsed": false,
    "editable": true
   },
   "outputs": [],
   "source": [
    "def greeting(name):\n",
    "    print('My name is :', name)\n",
    "greeting('Bob') # prints:  My name is Bob\n",
    "greeting('Aksel') # prints:  My name is Aksel"
   ]
  },
  {
   "cell_type": "markdown",
   "id": "3a4f08d9",
   "metadata": {
    "editable": true
   },
   "source": [
    "It is also common practice to add a docstring to help people better understand what the function does."
   ]
  },
  {
   "cell_type": "code",
   "execution_count": 3,
   "id": "4aed3a91",
   "metadata": {
    "collapsed": false,
    "editable": true
   },
   "outputs": [],
   "source": [
    "def greeting(name):\n",
    "    '''\n",
    "    prints out a greeting  \n",
    "    '''\n",
    "    print('My name is :', name)\n",
    "greeting('Bob') # prints: My name is Bob"
   ]
  },
  {
   "cell_type": "markdown",
   "id": "7c3bc63b",
   "metadata": {
    "editable": true
   },
   "source": [
    "If we do `help(greeting)`, Python will print out our docstring. A function can also return something"
   ]
  },
  {
   "cell_type": "code",
   "execution_count": 4,
   "id": "d39a2311",
   "metadata": {
    "collapsed": false,
    "editable": true
   },
   "outputs": [],
   "source": [
    "def add(x,y):\n",
    "    '''\n",
    "    adds two numbers\n",
    "    '''\n",
    "    return x+y\n",
    "add(5,6) # 11"
   ]
  },
  {
   "cell_type": "markdown",
   "id": "61c282e0",
   "metadata": {
    "editable": true
   },
   "source": [
    "# When to define a function?\n",
    "\n",
    "When to use functions? There is no particular rule, *but whenever you\n",
    "start to copy and paste code from one place to another, you should\n",
    "consider to use a function*. Functions makes the code easier to read.\n",
    "It is not easy to identify which part of a program is a good candidate\n",
    "for a function, it requires skill and experience. Most likely you will\n",
    "end up changing the function definitions as your program develops."
   ]
  },
  {
   "cell_type": "markdown",
   "id": "cb20df66",
   "metadata": {
    "editable": true
   },
   "source": [
    "## What is a good function?\n",
    "Even if you only write code for yourself, you will quickly forget what the code does. That is why it is so important to write functions that are good, below are some suggestions\n",
    "\n",
    "A function:\n",
    "* should have a descriptive name.\n",
    "\n",
    "* should only do one thing.\n",
    "\n",
    "* should only be dependent on its input argument and give the same answer independent on how many times it is being called.\n",
    "\n",
    "* should contain a docstring (see below for examples).\n",
    "\n",
    "* should have a descriptive name, use small letters with an underscore to separate words.\n",
    "\n",
    "**DRY - Do not Repeat Yourself [[thomas2019pragmatic]](#thomas2019pragmatic).**\n",
    "\n",
    "If you need to change the code in more than one place to extend it, you may forget to change everywhere and introduce bugs. The DRY principle also applies to *knowledge sharing*, it is not only about copy and paste code, but knowledge should only be represented in one place."
   ]
  },
  {
   "cell_type": "markdown",
   "id": "89739b67",
   "metadata": {
    "editable": true
   },
   "source": [
    "# Special use of functions\n",
    "Before proceeding, and discuss how you best can build your own functions. It is worth noting that to use some libraries effectively, you sometimes need to interact with the library via functions. Let us consider a simple example, assume that you have a DataFrame that contains white spaces or some other symbols you would like to remove. Then you can define your own function that does what you want on a single element and use the `apply()` function in Pandas\n",
    "\n",
    "### Example: remove white space from rows in Pandas"
   ]
  },
  {
   "cell_type": "code",
   "execution_count": 5,
   "id": "58afe9ea",
   "metadata": {
    "collapsed": false,
    "editable": true
   },
   "outputs": [],
   "source": [
    "# first create a simple DataFrame\n",
    "dict={'col1':['aa', ' aa ', 'a b c '],'col2':[1,2,3]}\n",
    "df=pd.DataFrame(dict)\n",
    "print(df)\n",
    "def remove_space(x):# only works for single elements\n",
    "    return x.strip()\n",
    "df['col1']=df['col1'].apply(remove_space)\n",
    "print(df)"
   ]
  },
  {
   "cell_type": "markdown",
   "id": "563104a9",
   "metadata": {
    "editable": true
   },
   "source": [
    "Note: There already exists a function in Pandas for removing spaces (`df['col1'].str.strip()`), but with the above example you can easily extend the function to do other things."
   ]
  },
  {
   "cell_type": "markdown",
   "id": "64f48456",
   "metadata": {
    "editable": true
   },
   "source": [
    "# Pythons lambda function\n",
    "\n",
    "The function defined in the example above is relatively small, and Python has a special syntax, that makes it possible to define small functions in one line. The functions can only have one expression. The syntax is `lambda <arguments>: <expression>`. Below are some examples"
   ]
  },
  {
   "cell_type": "code",
   "execution_count": 6,
   "id": "662e8975",
   "metadata": {
    "collapsed": false,
    "editable": true
   },
   "outputs": [],
   "source": [
    "#remove white space\n",
    "remove_space=lambda x : x.strip()\n",
    "remove_space('  a a ')"
   ]
  },
  {
   "cell_type": "markdown",
   "id": "a72ed532",
   "metadata": {
    "editable": true
   },
   "source": [
    "The neat thing is that you can pass a lambda function directly to Pandas `apply()` function, without naming it"
   ]
  },
  {
   "cell_type": "code",
   "execution_count": 7,
   "id": "d6698945",
   "metadata": {
    "collapsed": false,
    "editable": true
   },
   "outputs": [],
   "source": [
    "df['col1'].apply(lambda x: x.strip())"
   ]
  },
  {
   "cell_type": "markdown",
   "id": "7474e0f9",
   "metadata": {
    "editable": true
   },
   "source": [
    "Another example from [here](https://www.geeksforgeeks.org/how-to-use-if-else-elif-in-python-lambda-functions/)."
   ]
  },
  {
   "cell_type": "code",
   "execution_count": 8,
   "id": "d24fdfb9",
   "metadata": {
    "collapsed": false,
    "editable": true
   },
   "outputs": [],
   "source": [
    "# check if number is even or odd\n",
    "result = lambda x : f\"{x} is even\" if x %2==0 else f\"{x} is odd\"\n",
    "print(result(12)) # even\n",
    "print(result(13)) # odd"
   ]
  },
  {
   "cell_type": "markdown",
   "id": "9092c2e1",
   "metadata": {
    "editable": true
   },
   "source": [
    "# Exercise:  Create a function from the following code\n",
    "It is a good exercise to take code you have already written and create one or several functions based on that code. \n",
    "\n",
    "**Question:** Create a function from the following code"
   ]
  },
  {
   "cell_type": "code",
   "execution_count": 9,
   "id": "ed26c265",
   "metadata": {
    "collapsed": false,
    "editable": true
   },
   "outputs": [],
   "source": [
    "# this code replace space and slash in names\n",
    "name='16/1-12 Troldhaugen'\n",
    "chars=[\" \", \"/\"]\n",
    "new_chars=[\"\",\"_\"]\n",
    "new_name=name\n",
    "for ch,nch in zip(chars,new_chars):\n",
    "    new_name = new_name.replace(ch, nch)"
   ]
  },
  {
   "cell_type": "markdown",
   "id": "b2449ca8",
   "metadata": {
    "editable": true
   },
   "source": [
    "**Solution:**"
   ]
  },
  {
   "cell_type": "code",
   "execution_count": 10,
   "id": "2b33491d",
   "metadata": {
    "collapsed": false,
    "editable": true
   },
   "outputs": [],
   "source": [
    "def replace_chars(name):\n",
    "    '''\n",
    "    name: A string \n",
    "    returns input strings where space is removed and slash is\n",
    "    replaced with underscore \n",
    "    '''\n",
    "    chars=[\" \", \"/\"]\n",
    "    new_chars=[\"\",\"_\"]\n",
    "    new_name = name\n",
    "    for ch,nch in zip(chars,new_chars):\n",
    "        new_name = new_name.replace(ch, nch)\n",
    "    return new_name\n",
    "name='16/1-12 Troldhaugen'\n",
    "replace_chars(name) #prints 16_1-12Troldhaugen"
   ]
  },
  {
   "cell_type": "markdown",
   "id": "5c5498d3",
   "metadata": {
    "editable": true
   },
   "source": [
    "**Docstring.**\n",
    "\n",
    "In the example above we added some text just after `def` statement. This is a *docstring*. A docstring is to tell people what the code does without them having to read the code. If you type `help(replace_chars)`, Python will print out the docstring."
   ]
  },
  {
   "cell_type": "markdown",
   "id": "0fa735f0",
   "metadata": {
    "editable": true
   },
   "source": [
    "# Making functions more general\n",
    "In the above example, the function is already quite useful, but if you later decide that you e.g. do not want to remove spaces from names, you would have to write a new function. However we can achieve a more general function, by using *default arguments*."
   ]
  },
  {
   "cell_type": "code",
   "execution_count": 11,
   "id": "6b5d7a7c",
   "metadata": {
    "collapsed": false,
    "editable": true
   },
   "outputs": [],
   "source": [
    "def replace_chars(name,chars=[\" \",\"/\"],new_chars=[\"\",\"_\"]):\n",
    "    '''\n",
    "    name: A string \n",
    "    returns input strings where space is removed and slash is\n",
    "    replaced with underscore \n",
    "    '''\n",
    "    new_name = name\n",
    "    for ch,nch in zip(chars,new_chars):\n",
    "        new_name = new_name.replace(ch, nch)\n",
    "    return new_name"
   ]
  },
  {
   "cell_type": "markdown",
   "id": "9c797989",
   "metadata": {
    "editable": true
   },
   "source": [
    "Now you can use the same call signature as before `replace_chars(name)`, if you want to only replace `/`, you write"
   ]
  },
  {
   "cell_type": "code",
   "execution_count": 12,
   "id": "9b273908",
   "metadata": {
    "collapsed": false,
    "editable": true
   },
   "outputs": [],
   "source": [
    "name='16/1-12 Troldhaugen'\n",
    "replace_chars(name,[\"/\"],[\"_\"]) # prints 16_1-12 Troldhaugen"
   ]
  },
  {
   "cell_type": "markdown",
   "id": "ba3fea87",
   "metadata": {
    "editable": true
   },
   "source": [
    "**Positional arguments.**\n",
    "\n",
    "The variable `name` in the function definition of `replace_chars` is called a *positional argument*. On the other hand `chars=[\" \",\"/\"]` is called a *default argument*. In Python default argument, must always come *after* positional arguments. Hence, it is not allowed to write `def replace_chars(chars=[\" \",\"/\"],new_chars=[\"\",\"_\"], name)`."
   ]
  },
  {
   "cell_type": "markdown",
   "id": "6a43ee66",
   "metadata": {
    "editable": true
   },
   "source": [
    "# Improving robustness of functions\n",
    "As time goes, you start to forget what a function does, and you can start using it wrong. A typical situation in the above example is that we could mix up the order of `new_chars` and `chars`, i.e. we do `replace_chars(name,[\"_\"],[\"/\"])` instead of `replace_chars(name,[\"/\"],[\"_\"])`, which would give the opposite effect. Python has a very neat syntax to avoid this behavior, by adding a `*` in the argument list"
   ]
  },
  {
   "cell_type": "code",
   "execution_count": 13,
   "id": "a3367e20",
   "metadata": {
    "collapsed": false,
    "editable": true
   },
   "outputs": [],
   "source": [
    "def replace_chars(name,*, chars=[\" \",\"/\"],new_chars=[\"\",\"_\"]):\n",
    "    '''\n",
    "    name: A string \n",
    "    returns input strings where space is removed and slash is\n",
    "    replaced with underscore \n",
    "    '''\n",
    "    new_name = name\n",
    "    for ch,nch in zip(chars,new_chars):\n",
    "        new_name = new_name.replace(ch, nch)\n",
    "    return new_name"
   ]
  },
  {
   "cell_type": "markdown",
   "id": "71e60b4d",
   "metadata": {
    "editable": true
   },
   "source": [
    "You can still call the function as before `replace_chars(name)`, but if you try to do"
   ]
  },
  {
   "cell_type": "code",
   "execution_count": 14,
   "id": "e67e112a",
   "metadata": {
    "collapsed": false,
    "editable": true
   },
   "outputs": [],
   "source": [
    "name='16/1-12 Troldhaugen'\n",
    "replace_chars(name,[\"/\"],[\"_\"])"
   ]
  },
  {
   "cell_type": "markdown",
   "id": "3216f1ee",
   "metadata": {
    "editable": true
   },
   "source": [
    "You will get an error\n",
    "**Warning.**\n",
    "\n",
    "`TypeError: replace_chars() takes 1 positional argument`\n",
    "\t    `but 3 were given`\n",
    "\n",
    "\n",
    "This error might be a bit hard to interpret, but basically `name` is a positional argument according to the definition and the two next arguments are default arguments. When we use the `*` in the function definition we have to explicitly enter the variable name of the default arguments"
   ]
  },
  {
   "cell_type": "code",
   "execution_count": 15,
   "id": "b1f62115",
   "metadata": {
    "collapsed": false,
    "editable": true
   },
   "outputs": [],
   "source": [
    "name='16/1-12 Troldhaugen'\n",
    "replace_chars(name,chars=[\"/\"],new_chars=[\"_\"])"
   ]
  },
  {
   "cell_type": "markdown",
   "id": "6a0203c1",
   "metadata": {
    "editable": true
   },
   "source": [
    "By forcing the user to use `chars` and `new_chars` it becomes less probable to mix them up. This is also why we should try and use variable names like `chars` and `new_chars` that are descriptive."
   ]
  },
  {
   "cell_type": "markdown",
   "id": "37c38ff4",
   "metadata": {
    "editable": true
   },
   "source": [
    "# Assert, raise and try statements\n",
    "Still there are plenty of things that can go wrong with our function. In many cases you would like to catch errors as quickly as possible, to help users to discover where the errors occurs. Lets look at an example, lets say we wrongly use our function"
   ]
  },
  {
   "cell_type": "code",
   "execution_count": 16,
   "id": "58d8f330",
   "metadata": {
    "collapsed": false,
    "editable": true
   },
   "outputs": [],
   "source": [
    "replace_chars(2)"
   ]
  },
  {
   "cell_type": "markdown",
   "id": "8eae9a95",
   "metadata": {
    "editable": true
   },
   "source": [
    "We get\n",
    "**Warning.**"
   ]
  },
  {
   "cell_type": "code",
   "execution_count": 17,
   "id": "b3489d5d",
   "metadata": {
    "collapsed": false,
    "editable": true
   },
   "outputs": [],
   "source": [
    "new_name = name\n",
    "           for ch,nch in zip(chars,new_chars):\n",
    "---->          new_name = new_name.replace(ch, nch)\n",
    "           return new_name\n",
    "\n",
    "AttributeError: 'int' object has no attribute 'replace'"
   ]
  },
  {
   "cell_type": "markdown",
   "id": "8ebdeddc",
   "metadata": {
    "editable": true
   },
   "source": [
    "Note that the errors only occurs when we call `new_name.replace`, because we used an integer as an argument. An integer does not have a function named `replace()`, but the errors happens earlier because we used the function `replace_chars` wrongly. Thus, it would be much better if we could catch the error at a very early stage and give the user an error message.\n",
    "\n",
    "## Try and Except\n",
    "Try and except, is actually as simple as it sounds. It is a way to tell Python to try a piece of code, if the piece of code fails, we move to the except statement. Following this a lazy, and crude way of improving our function is to declare our function as"
   ]
  },
  {
   "cell_type": "code",
   "execution_count": 18,
   "id": "2eb61636",
   "metadata": {
    "collapsed": false,
    "editable": true
   },
   "outputs": [],
   "source": [
    "def replace_chars(name,*,chars=[\" \", \"/\"],new_chars=[\"\",\"_\"]):\n",
    "    ''' replace Norwegian characters and space in names'''\n",
    "    try:\n",
    "        new_name = name\n",
    "        for ch,nch in zip(chars,new_chars):\n",
    "            new_name = new_name.replace(ch, nch)\n",
    "        return new_name\n",
    "    except:\n",
    "        print('Something went wrong in replace_chars')\n",
    "\n",
    "replace_chars(2)# prints Something went wrong in replace_chars"
   ]
  },
  {
   "cell_type": "markdown",
   "id": "783a94fd",
   "metadata": {
    "editable": true
   },
   "source": [
    "Now the code prints out a message if something is not working. There are several drawbacks\n",
    "1. The code is still running, even if something went wrong, the program should stop with an error message\n",
    "\n",
    "2. We do not know exactly where something went wrong, it could be that `name` is not a string, but it could also be e.g. that the user enters a different length for `chars` and `new_chars`\n",
    "\n",
    "## Raise\n",
    "We can raise errors by using the keyword `raise`. The `raise` keyword needs to be followed by a function from the [`BaseException class`](https://docs.python.org/3/library/exceptions.html#exception-hierarchy), typically you might use `raise Exception('Something went wrong in replace_chars')`"
   ]
  },
  {
   "cell_type": "code",
   "execution_count": 19,
   "id": "6937e10d",
   "metadata": {
    "collapsed": false,
    "editable": true
   },
   "outputs": [],
   "source": [
    "def replace_chars(name,*,chars=[\" \", \"/\"],new_chars=[\"\",\"_\"]):\n",
    "    ''' replace Norwegian characters and space in names'''\n",
    "    try:\n",
    "        new_name = name\n",
    "        for ch,nch in zip(chars,new_chars):\n",
    "            new_name = new_name.replace(ch, nch)\n",
    "        return new_name\n",
    "    except:\n",
    "        raise Exception('Something went wrong in replace_chars')\n",
    "\n",
    "replace_chars(2)# prints Something went wrong in replace_chars"
   ]
  },
  {
   "cell_type": "markdown",
   "id": "30083292",
   "metadata": {
    "editable": true
   },
   "source": [
    "Running the following code"
   ]
  },
  {
   "cell_type": "code",
   "execution_count": 20,
   "id": "580be1d9",
   "metadata": {
    "collapsed": false,
    "editable": true
   },
   "outputs": [],
   "source": [
    "replace_chars(2)"
   ]
  },
  {
   "cell_type": "markdown",
   "id": "3baa5ed0",
   "metadata": {
    "editable": true
   },
   "source": [
    "We get\n",
    "**Warning.**"
   ]
  },
  {
   "cell_type": "code",
   "execution_count": 21,
   "id": "186475e1",
   "metadata": {
    "collapsed": false,
    "editable": true
   },
   "outputs": [],
   "source": [
    " except:\n",
    "--->    raise Exception('Something went wrong in replace_chars')\n",
    "     replace_chars(2)\n",
    "\n",
    "Exception: Something went wrong in replace_chars"
   ]
  },
  {
   "cell_type": "markdown",
   "id": "838c1268",
   "metadata": {
    "editable": true
   },
   "source": [
    "As compared to before we raise the exception when our function is called and not when the `string.replace()` function is called.\n",
    "\n",
    "**Exceptions should be specific.**\n",
    "\n",
    "When raising errors, we should try to be as specific as possible to help the user as much as possible.\n",
    "\n",
    "\n",
    "\n",
    "Let us extend our function using more specific raises"
   ]
  },
  {
   "cell_type": "code",
   "execution_count": 22,
   "id": "599a922b",
   "metadata": {
    "collapsed": false,
    "editable": true
   },
   "outputs": [],
   "source": [
    "def replace_chars(name,*,chars=[\" \", \"/\"],new_chars=[\"\",\"_\"]):\n",
    "    ''' replace Norwegian characters and space in names'''\n",
    "    if type(name)!=str:\n",
    "        raise ValueError('replace_chars: name must be a string')\n",
    "    new_name = name\n",
    "    for ch,nch in zip(chars,new_chars):\n",
    "        new_name = new_name.replace(ch, nch)\n",
    "    return new_name\n",
    "replace_chars(2)# ValueError: replace_chars: name must be a string"
   ]
  },
  {
   "cell_type": "markdown",
   "id": "22965ce0",
   "metadata": {
    "editable": true
   },
   "source": [
    "### Exercise: Improve `replace_chars` using raise\n",
    "\n",
    "**Question:** How can we improve `replace_chars` to make sure that the length of `chars` and `new_chars` are of equal length?\n",
    "\n",
    "**Solution:**"
   ]
  },
  {
   "cell_type": "code",
   "execution_count": 23,
   "id": "17d4880e",
   "metadata": {
    "collapsed": false,
    "editable": true
   },
   "outputs": [],
   "source": [
    "def replace_chars(name,*,chars=[\" \", \"/\"],new_chars=[\"\",\"_\"]):\n",
    "    ''' replace Norwegian characters and space in names'''\n",
    "    if type(name)!=str:\n",
    "        raise ValueError('replace_chars: name must be a string')\n",
    "    if len(chars) != len(new_chars):\n",
    "        raise ValueError('replace_chars: chars and new_chars must same size')\n",
    "    new_name = name\n",
    "    for ch,nch in zip(chars,new_chars):\n",
    "        new_name = new_name.replace(ch, nch)\n",
    "    return new_name\n",
    "replace_chars('2',chars=[\"/\"])# ValueError: replace_chars: chars and new_chars must same size"
   ]
  },
  {
   "cell_type": "markdown",
   "id": "60afd190",
   "metadata": {
    "editable": true
   },
   "source": [
    "# Using assert to test our code\n",
    "When developing code it is extremely useful to design tests that checks that our code does what it is supposed to do. This is mainly done to make sure that the expected behavior of a function does not changes over time. For our small function we can use the specific keyword `assert`. The syntax is `assert <condition>,<error message>`\n",
    "\n",
    "**assert only works in debug mode.**\n",
    "\n",
    "If you for some reason compile your code or in other ways turn off the debug option in Python, assert will not work."
   ]
  },
  {
   "cell_type": "code",
   "execution_count": 24,
   "id": "7449043d",
   "metadata": {
    "collapsed": false,
    "editable": true
   },
   "outputs": [],
   "source": [
    "def test_replace_chars():\n",
    "    assert replace_chars('  ') == ''\n",
    "    assert replace_chars('//') == '__'\n",
    "    assert replace_chars('G O//O D') =='GO__OD'\n",
    "test_replace_chars()"
   ]
  },
  {
   "cell_type": "markdown",
   "id": "ddb6e84b",
   "metadata": {
    "editable": true
   },
   "source": [
    "Each time we start working and stop working on our code , we run all tests that we have defined. If nothing fails we know that no one has introduced errors before we start coding, and that we have not made any changes.\n",
    "\n",
    "# Bibliography\n",
    "\n",
    "1. <div id=\"thomas2019pragmatic\"></div> **D. Thomas and A. Hunt**.  *The Pragmatic Programmer: Your Journey to Mastery*, Addison-Wesley Professional, 2019."
   ]
  }
 ],
 "metadata": {},
 "nbformat": 4,
 "nbformat_minor": 5
}
