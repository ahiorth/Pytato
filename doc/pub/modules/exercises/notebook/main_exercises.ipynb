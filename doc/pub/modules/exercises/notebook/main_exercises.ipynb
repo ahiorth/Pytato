{
 "cells": [
  {
   "cell_type": "markdown",
   "id": "8033dd69",
   "metadata": {
    "editable": true
   },
   "source": [
    "<!-- dom:TITLE: Exercises -->\n",
    "# Exercises\n",
    "**Aksel Hiorth**\n",
    "University of Stavanger, Institute for Energy Resources, Norway\n",
    "\n",
    "Date: **Jan 10, 2024**\n",
    "\n",
    "<!-- Common Mako variables and functions -->\n",
    "\n",
    "**Learning objectives.**\n",
    "* Create an environment using conda and install required packages\n",
    "\n",
    "* Use Matplotlib for basic visualization\n",
    "\n",
    "* Loops for repetitive tasks\n",
    "\n",
    "* File handling\n",
    "\n",
    "* Use Pandas to combine and manipulate data from different input, Excel and comma separated values (CSV),  files.\n",
    "\n",
    "# Before you start\n",
    "In some of these exercises we are going to work with files and folders. It is very important to not spread files and folders everywhere on the computer. My suggestion would be to create a new folder inside the `exercise` folder called `src`, `src` is used to indicate source code, as illustrated in [figure 1](#fig:e1:str).\n",
    "\n",
    "<!-- dom:FIGURE: [fig-exercises/structure.png, width=800 frac=1.0] Folder tree structure. <div id=\"fig:e1:str\"></div> -->\n",
    "<!-- begin figure -->\n",
    "<div id=\"fig:e1:str\"></div>\n",
    "\n",
    "<img src=\"fig-exercises/structure.png\" width=800><p style=\"font-size: 0.9em\"><i>Figure 1: Folder tree structure.</i></p>\n",
    "<!-- end figure -->\n",
    "\n",
    "If you have a Python file inside the `src` folder and wants to access e.g. an Excel file in the `data` folder, we do that by using *relative paths*. A double dot `..` is to step up relative to where you are standing, a slash `/` followed by a name indicates a directory or file, e.g. the `draugen.txt` file can be accessed from the `src` directory by `../data/draugen.txt`. You can also use the Pathlib library to check if everything went ok"
   ]
  },
  {
   "cell_type": "code",
   "execution_count": 1,
   "id": "dcb35b6b",
   "metadata": {
    "collapsed": false,
    "editable": true
   },
   "outputs": [],
   "source": [
    "import pathlib as pt\n",
    "p=pt.Path('../data/draugen.txt')\n",
    "print(p.exists()) # will print True if yes"
   ]
  },
  {
   "cell_type": "markdown",
   "id": "215e874f",
   "metadata": {
    "editable": true
   },
   "source": [
    "# Exercise 1: Install Bedmap to visualize Antarctica ice data\n",
    "\n",
    "## Background\n",
    "There is currently a great deal of concern about global warming.\n",
    "Some critical issues are whether we are more likely to observe\n",
    "extreme local temperatures, increased frequencies of natural\n",
    "disasters like forest fires and droughts, and if there are\n",
    "\"tipping points\" in the climate system that are, at least on the\n",
    "human timescale, irreversible [[IPCC2021]](#IPCC2021).\n",
    "One particular question to ask is: How much ice is likely to melt?\n",
    "And, what would be the consequence of ice melting for sea level rise (SLR)?\n",
    "\n",
    "Since most of the ice on Planet Earth is located in Antarctica, substantial\n",
    "effort has been spent in mapping the ice and the bedrock of this continent.\n",
    "Most of the data is freely available, and we can use Python to investigate\n",
    "different scenarios. Here we will only show you how to install the packages and visualize the ice thickness. \n",
    "\n",
    "**Part 1.**\n",
    "\n",
    "**Create a new environment.**\n",
    "\n",
    "The ice data are located in the *bedmap2* dataset [[fretwell2013bedmap2]](#fretwell2013bedmap2)\n",
    "The [rockhound](https://github.com/fatiando/rockhound)\n",
    "library can be used to load the data. As an aid to plotting, you might also want to use color maps from the\n",
    "[cmocean](https://pypi.org/project/cmocean/) package [[thyng2016true]](#thyng2016true). To install bedmap2 data you have to create a new conda environment (we call it ice)"
   ]
  },
  {
   "cell_type": "markdown",
   "id": "0973cf63",
   "metadata": {
    "editable": true
   },
   "source": [
    "        conda config --add channels conda-forge\n",
    "        conda create -n ice python matplotlib numpy \\\n",
    "        scipy xarray==0.19.0 pandas rockhound cmocean pip jupyter\n"
   ]
  },
  {
   "cell_type": "markdown",
   "id": "2c3b3338",
   "metadata": {
    "editable": true
   },
   "source": [
    "Note that we need a specific version of the `xarray` library."
   ]
  },
  {
   "cell_type": "code",
   "execution_count": 2,
   "id": "b0512edb",
   "metadata": {
    "collapsed": false,
    "editable": true
   },
   "outputs": [],
   "source": [
    "conda activate ice\n",
    "jupyter notebook"
   ]
  },
  {
   "cell_type": "markdown",
   "id": "e3f61271",
   "metadata": {
    "editable": true
   },
   "source": [
    "**Part 2.**\n",
    "The code below is taken from the\n",
    "[rockound library documentation](https://www.fatiando.org/rockhound/latest/api/generated/rockhound.fetch_bedmap2.html):"
   ]
  },
  {
   "cell_type": "code",
   "execution_count": 3,
   "id": "d26b2fad",
   "metadata": {
    "collapsed": false,
    "editable": true
   },
   "outputs": [],
   "source": [
    "%matplotlib inline\n",
    "\n",
    "import rockhound as rh\n",
    "import matplotlib.pyplot as plt\n",
    "import cmocean\n",
    "import numpy as np\n",
    "\n",
    "bedmap = rh.fetch_bedmap2(datasets=[\"thickness\",\"surface\",\"bed\"])\n",
    "plt.figure(figsize=(8, 7))\n",
    "ax = plt.subplot(111)\n",
    "bedmap.surface.plot.pcolormesh(ax=ax,cmap=cmocean.cm.ice,\n",
    "                       cbar_kwargs=dict(pad=0.01, aspect=30))\n",
    "plt.title(\"Bedmap2 Antarctica\")\n",
    "plt.tight_layout()\n",
    "plt.show()"
   ]
  },
  {
   "cell_type": "markdown",
   "id": "e67686d8",
   "metadata": {
    "editable": true
   },
   "source": [
    "* Run the code and reproduce [figure 2](#fig:bedmap2_ice_thickness), modify the code to plot the ice surface or the bed rock.\n",
    "\n",
    "<!-- dom:FIGURE: [fig-exercises/bedmap2_plot.png, width=800 frac=1.0] Visualization of the ice thickness in Antarctica. <div id=\"fig:bedmap2_ice_thickness\"></div> -->\n",
    "<!-- begin figure -->\n",
    "<div id=\"fig:bedmap2_ice_thickness\"></div>\n",
    "\n",
    "<img src=\"fig-exercises/bedmap2_plot.png\" width=800><p style=\"font-size: 0.9em\"><i>Figure 2: Visualization of the ice thickness in Antarctica.</i></p>\n",
    "<!-- end figure -->\n",
    "\n",
    "* Check out [the gallery](https://www.fatiando.org/rockhound/latest/gallery/index.html). Choose one of the datasets, copy and paste the code and reproduce one of the figures in the gallery."
   ]
  },
  {
   "cell_type": "markdown",
   "id": "e9b58b5d",
   "metadata": {
    "editable": true
   },
   "source": [
    "# Exercise 2: Matplotlib visualization\n",
    "To access the data a bit easier I have added a file `draugen_pandas.py` in the `data` folder containing our data as lists. We can access them by importing them directly into our script. However, as we are in the `src` folder it causes a practical problem to access a Python file in a different folder and the only way to do this is to add the `data` folder to our path"
   ]
  },
  {
   "cell_type": "code",
   "execution_count": 4,
   "id": "20638e7a",
   "metadata": {
    "collapsed": false,
    "editable": true
   },
   "outputs": [],
   "source": [
    "import sys\n",
    "sys.path.append('../data/')\n",
    "from draugen_data import years,months,oil,gas,wat,cond,oe"
   ]
  },
  {
   "cell_type": "markdown",
   "id": "1b3a572a",
   "metadata": {
    "editable": true
   },
   "source": [
    "**Question1:**\n",
    "* Use matplotlib to plot oil equivalents, `oe`, vs the `years` data, compare with the [official data](https://factpages.sodir.no/en/field/PageView/All/43758).\n",
    "\n",
    "**Question2:**\n",
    "* Our plot looks a bit strange, because we do not take into account the month column. Instead of only plotting the year array, plot  `years+months/12` on the x-axis."
   ]
  },
  {
   "cell_type": "markdown",
   "id": "1d0b3cf0",
   "metadata": {
    "editable": true
   },
   "source": [
    "**Solution1:**"
   ]
  },
  {
   "cell_type": "code",
   "execution_count": 5,
   "id": "92d055b0",
   "metadata": {
    "collapsed": false,
    "editable": true
   },
   "outputs": [],
   "source": [
    "import matplotlib.pyplot as plt\n",
    "plt.plot(years,oe)"
   ]
  },
  {
   "cell_type": "markdown",
   "id": "d6af8fba",
   "metadata": {
    "editable": true
   },
   "source": [
    "**Solution2:**\n",
    "\n",
    "### Use vanilla Python (hard)\n",
    "\n",
    "Here we need to loop over all elements and for each year add the month, divided by 12 to convert the month to year. What we want is\n",
    "\n",
    "1. To start with an empty list `year_month=[]`\n",
    "\n",
    "2. Loop over all elements and add first year and first month divided by 12\n",
    "\n",
    "**How do we do loop over elements in Python?**\n",
    "\n",
    "We loop over elements using a `for` loop. The keyword `for` is always accompanied by the `in` keyword.\n",
    "\n",
    " \n",
    "\n",
    "**Method 1:**\n",
    "\n",
    "If you have coded before, this might be very familiar."
   ]
  },
  {
   "cell_type": "code",
   "execution_count": 6,
   "id": "ae9bf3a4",
   "metadata": {
    "collapsed": false,
    "editable": true
   },
   "outputs": [],
   "source": [
    "N=len(years) # N is the length of the years list\n",
    "year_month=[]\n",
    "for i in range(N):\n",
    "    year_month.append(years[i]+months[i]/12)"
   ]
  },
  {
   "cell_type": "markdown",
   "id": "3e440521",
   "metadata": {
    "editable": true
   },
   "source": [
    "**Indentation matters!**\n",
    "\n",
    "The for-loop above ends with `:`, and then Python uses indentation (a tab) to indicate a block of code. *You have to use the same amount of spaces in the same block of code.* The following code will give an *error*."
   ]
  },
  {
   "cell_type": "code",
   "execution_count": 7,
   "id": "0eb3393b",
   "metadata": {
    "collapsed": false,
    "editable": true
   },
   "outputs": [],
   "source": [
    "for i in range(N):\n",
    "year_month.append(years[i]+months[i]/12)#Error!! because no indentation"
   ]
  },
  {
   "cell_type": "markdown",
   "id": "43393e18",
   "metadata": {
    "editable": true
   },
   "source": [
    "The statement `range(N)` is a *generator* and it generates a sequence of integers with length $N$, starting from zero to $N-1$.\n",
    "\n",
    "**Method2:**\n",
    "\n",
    "This method is slightly more pythonic, than the previous. Instead of accessing the different elements in `years` by `years[i]`, we can loop directly over them"
   ]
  },
  {
   "cell_type": "code",
   "execution_count": 8,
   "id": "2fe0dfee",
   "metadata": {
    "collapsed": false,
    "editable": true
   },
   "outputs": [],
   "source": [
    "i=0\n",
    "for year in years:\n",
    "    year_month.append(year+months[i]/12)\n",
    "    i = i+1"
   ]
  },
  {
   "cell_type": "markdown",
   "id": "3573e25b",
   "metadata": {
    "editable": true
   },
   "source": [
    "**Meaningful variable names.**\n",
    "\n",
    "The specific name we give the counter, `year`, is not important for the computer. But if you choose a descriptive name it makes the code easier to read for humans.\n",
    "\n",
    "\n",
    "\n",
    "The code above is ok, but it seems unnecessary to introduce the extra counter `i`, the way that we have done it. To access the index of each element in addition to the value, we can use the `enumerate()` function"
   ]
  },
  {
   "cell_type": "code",
   "execution_count": 9,
   "id": "1264c38f",
   "metadata": {
    "collapsed": false,
    "editable": true
   },
   "outputs": [],
   "source": [
    "\n",
    "for i,year in enumerate(years):\n",
    "    year_month.append(year+months[i]/12)"
   ]
  },
  {
   "cell_type": "markdown",
   "id": "5bea0cdd",
   "metadata": {
    "editable": true
   },
   "source": [
    "**Method3:**\n",
    "\n",
    "If you have lists of the same length we can access the elements in a loop using the `zip` function"
   ]
  },
  {
   "cell_type": "code",
   "execution_count": 10,
   "id": "7ad7165b",
   "metadata": {
    "collapsed": false,
    "editable": true
   },
   "outputs": [],
   "source": [
    "\n",
    "for month,year in zip(months,years):\n",
    "    year_month.append(year+month/12)"
   ]
  },
  {
   "cell_type": "markdown",
   "id": "74df7a9d",
   "metadata": {
    "editable": true
   },
   "source": [
    "The `zip` function uses a nice feature in Python, which is called *variable unpacking*. This is a special assignment operation, where we can assign all variables in a an iterable object in one go e.g."
   ]
  },
  {
   "cell_type": "code",
   "execution_count": 11,
   "id": "6620e378",
   "metadata": {
    "collapsed": false,
    "editable": true
   },
   "outputs": [],
   "source": [
    "my_list=[2024,1,9]\n",
    "year,month,day=my_list #year=2024,month=1,day=9"
   ]
  },
  {
   "cell_type": "markdown",
   "id": "d9f219b3",
   "metadata": {
    "editable": true
   },
   "source": [
    "**Method4:**\n",
    "\n",
    "[*List comprehension*](https://www.w3schools.com/python/python_lists_comprehension.asp) is a very pythonic way of creating new lists. It allows us to write a for loop while creating a python list."
   ]
  },
  {
   "cell_type": "code",
   "execution_count": 12,
   "id": "f4a9c9b8",
   "metadata": {
    "collapsed": false,
    "editable": true
   },
   "outputs": [],
   "source": [
    "year_month = [year+month/12 for month,year in zip(months,years)]"
   ]
  },
  {
   "cell_type": "markdown",
   "id": "e5374cef",
   "metadata": {
    "editable": true
   },
   "source": [
    "* Use one of the methods above `year_month=np.array(year)+np.array(month)/12` and create a new plot, with `year_month` on the x-axis.\n",
    "\n",
    "* Try to make the plot as similar as possible to [figure 3](#fig:p1:ose) \n",
    "\n",
    "### Convert list to Numpy arrays and plot (easy)\n",
    "\n",
    "As we have seen `year_month=year+month/12` will not work for lists as Python does not understand what `month/12` is, and even if it did the `+` operation would not give the expected results. But, if we convert our list to a Numpy array, life becomes easy. To convert a list to a Numpy array, we use what programmers calls [*casting*](https://www.w3schools.com/python/python_casting.asp). Casting is when we tell the computer to convert a variable from one type to another, e.g."
   ]
  },
  {
   "cell_type": "code",
   "execution_count": 13,
   "id": "47ad53e1",
   "metadata": {
    "collapsed": false,
    "editable": true
   },
   "outputs": [],
   "source": [
    "my_list=[1,2,3]\n",
    "my_np_array=np.array(my_list) # cast to array\n",
    "# more examples\n",
    "a='1' # a is a string\n",
    "b='2' # b is a string\n",
    "a+b # gives a new string '12'\n",
    "int(a)+int(b) # gives integer 3\n",
    "float(a)+float(b) # gives float 3.0"
   ]
  },
  {
   "cell_type": "markdown",
   "id": "7c859254",
   "metadata": {
    "editable": true
   },
   "source": [
    "**Vectorized operations in Numpy.**\n",
    "\n",
    "One of the major strengths of Numpy is that it is vectorized. This means that mathematical operations you do with numbers such as `+`, `-`, `/`, `*`, you can also do with Numpy arrays with the effect that the operation is done on each element. *This only works if the arrays have the same length.* The only exception is if one of the elements is a single number, e.g."
   ]
  },
  {
   "cell_type": "code",
   "execution_count": 14,
   "id": "d95ddf16",
   "metadata": {
    "collapsed": false,
    "editable": true
   },
   "outputs": [],
   "source": [
    "# will divide all elements in month by 12\n",
    "np.array(months)/12\n",
    "# add first element in year with first element in month/12 and so on\n",
    "np.array(years)+np.array(months)/12"
   ]
  },
  {
   "cell_type": "markdown",
   "id": "dfda58cd",
   "metadata": {
    "editable": true
   },
   "source": [
    "* Use `year_month=np.array(years)+np.array(months)/12` and create a new plot, with `year_month` on the x-axis.\n",
    "\n",
    "* Try to make the plot as similar as possible to [figure 3](#fig:p1:ose) \n",
    "\n",
    "<!-- dom:FIGURE: [fig-exercises/oseberg.png, width=800 frac=1.0] Production of oil equivalents on the Draugen vs time. <div id=\"fig:p1:ose\"></div> -->\n",
    "<!-- begin figure -->\n",
    "<div id=\"fig:p1:ose\"></div>\n",
    "\n",
    "<img src=\"fig-exercises/oseberg.png\" width=800><p style=\"font-size: 0.9em\"><i>Figure 3: Production of oil equivalents on the Draugen vs time.</i></p>\n",
    "<!-- end figure -->"
   ]
  },
  {
   "cell_type": "markdown",
   "id": "217beee1",
   "metadata": {
    "editable": true
   },
   "source": [
    "# Exercise 3: Group data\n",
    "If you compare the plot in [figure 3](#fig:p1:ose) with [the official plot](https://factpages.sodir.no/en/field/PageView/All/43758), and for convenience illustrated below in [figure 4](#fig:p1:ose2), you will see that they are different. The difference is that the production in [figure 3](#fig:p1:ose) is per month, whereas in [figure 4](#fig:p1:ose2) the production is per year.     \n",
    "\n",
    "<!-- dom:FIGURE: [fig-exercises/oseberg_npd.png, width=800 frac=1.0] Production of oil equivalents on the Draugen field. <div id=\"fig:p1:ose2\"></div> -->\n",
    "<!-- begin figure -->\n",
    "<div id=\"fig:p1:ose2\"></div>\n",
    "\n",
    "<img src=\"fig-exercises/oseberg_npd.png\" width=800><p style=\"font-size: 0.9em\"><i>Figure 4: Production of oil equivalents on the Draugen field.</i></p>\n",
    "<!-- end figure -->\n",
    "\n",
    "**Question:**\n",
    "Use the imported data for Draugen, and plot the production per year vs time. That means we want to sum up all oil equivalents when the years have the same value."
   ]
  },
  {
   "cell_type": "markdown",
   "id": "4bf715ed",
   "metadata": {
    "editable": true
   },
   "source": [
    "**Solution1, Vanilla Python (hard):**\n",
    "\n",
    "There are probably many ways of solving this problem, but here we will use a dictionary. The reason we use a dictionary is that there will be an unique key (the year) for each entry. The tricky part is the initialization\n",
    "* if the key exists in the dictionary, we want to add the oil equivalents to the previous values,\n",
    "\n",
    "* if the key does not exists (we have not summed the oil equivalents for that year) we need for that key to set the first value.\n",
    "\n",
    "Thus we need to check if the key already exists"
   ]
  },
  {
   "cell_type": "code",
   "execution_count": 15,
   "id": "88667515",
   "metadata": {
    "collapsed": false,
    "editable": true
   },
   "outputs": [],
   "source": [
    "data={} #just an empty dictionary\n",
    "for year,o in zip(years,oe):\n",
    "    key=year\n",
    "    if key in data: #key exists\n",
    "       data[key] += o #add oil equivalents\n",
    "    else: # new key\n",
    "       data[key] = o  #set equal to first month"
   ]
  },
  {
   "cell_type": "markdown",
   "id": "acdb8324",
   "metadata": {
    "editable": true
   },
   "source": [
    "Next, we need to extract all oil equivalents for each year, and make the plot"
   ]
  },
  {
   "cell_type": "code",
   "execution_count": 16,
   "id": "ddf9132a",
   "metadata": {
    "collapsed": false,
    "editable": true
   },
   "outputs": [],
   "source": [
    "oe_per_year=[data[key] for key in data] #list comprehension\n",
    "year=[key for key in data]\n",
    "plt.plot(year,oe_per_year)\n",
    "plt.bar(year,oe_per_year,color='orange')"
   ]
  },
  {
   "cell_type": "markdown",
   "id": "894c6ec1",
   "metadata": {
    "editable": true
   },
   "source": [
    "**Solution2, Numpy and Boolean masking (hard):**\n",
    "\n",
    "We can also Boolean masking, if we convert the lists to Numpy arrays. If we want to pick out all data for a specific year, e.g. 2008 and sum the oil equivalents we can do as follows\n",
    "* `np.array(years) == 2008` will give `True` for all entries containing 2008 and `False` otherwise\n",
    "\n",
    "* If we pass this to our oil equivalent array, only the values corresponding to `True` will be picked out and then we can quickly sum them by `np.sum`"
   ]
  },
  {
   "cell_type": "code",
   "execution_count": 17,
   "id": "7bbd1cde",
   "metadata": {
    "collapsed": false,
    "editable": true
   },
   "outputs": [],
   "source": [
    "years=np.array(years) # cast to Numpy array\n",
    "oe=np.array(oe) # ditto\n",
    "np.sum(oe[years==2008]) # 4.265517 mill Sm^3"
   ]
  },
  {
   "cell_type": "markdown",
   "id": "26b682fa",
   "metadata": {
    "editable": true
   },
   "source": [
    "Now, we just need to loop over all the years and collect the data"
   ]
  },
  {
   "cell_type": "code",
   "execution_count": 18,
   "id": "8fda55e3",
   "metadata": {
    "collapsed": false,
    "editable": true
   },
   "outputs": [],
   "source": [
    "unique_list=np.unique(years) #remove duplicates\n",
    "oe_tot=[] # empty list\n",
    "for year in unique_list:\n",
    "    oe_tot.append(np.sum(oe[years==year]))\n",
    "#make the plot\n",
    "plt.plot(unique_list,oe_tot)\n",
    "plt.bar(unique_list,oe_tot,color='orange')"
   ]
  },
  {
   "cell_type": "markdown",
   "id": "185123d5",
   "metadata": {
    "editable": true
   },
   "source": [
    "**Solution3, Pandas (easy):**\n",
    "\n",
    "To use Pandas we need to make a DataFrame of the data and then we use the [`groupby`](https://pandas.pydata.org/docs/reference/api/pandas.DataFrame.groupby.html) function in Pandas, which is extremely powerful."
   ]
  },
  {
   "cell_type": "code",
   "execution_count": 19,
   "id": "689beea9",
   "metadata": {
    "collapsed": false,
    "editable": true
   },
   "outputs": [],
   "source": [
    "import pandas as pd\n",
    "df=pd.DataFrame() # empty DataFrame\n",
    "df['Year']=years\n",
    "df['oe']=oe\n",
    "print(df) # inspect to see what happens\n",
    "df2=df.groupby(by='Year').sum()\n",
    "print(df2) # inspect to see what happens\n",
    "df2.plot.bar() #make the plot"
   ]
  },
  {
   "cell_type": "markdown",
   "id": "48953f35",
   "metadata": {
    "editable": true
   },
   "source": [
    "Note that most of the code above was to create the DataFrame. Pandas also has built-in plotting."
   ]
  },
  {
   "cell_type": "markdown",
   "id": "a4f8e5ef",
   "metadata": {
    "editable": true
   },
   "source": [
    "# Exercise 4: Read tabulated data from file\n",
    "As part of this project we will look at some of the datasets that\n",
    "are available at the Norwegian Offshore Directorate\n",
    "[website](https://factpages.sodir.no/).\n",
    "\n",
    "**Data directory.**\n",
    "\n",
    "In the following we will assume that you have a `src` directory containing all your Python code and a `data` folder inside your course folder. Thus, if you are in your `src` folder you can access files in the `data` folder by moving one folder up an down inside your `data` folder.\n",
    "\n",
    "\n",
    "\n",
    "**Question:** In the `data` folder, there is a file `draugen.txt` containing production data from Draugen. Open it in a text editor.  Read the data from the file using Python, and store the `Year`, `Month` and `oil equivalents [mill Sm3]` in separate variables."
   ]
  },
  {
   "cell_type": "markdown",
   "id": "254f7b14",
   "metadata": {
    "editable": true
   },
   "source": [
    "**Solution**:\n",
    "\n",
    "## Solution 1 Pandas (easy):\n",
    "Pandas will most likely be your first choice, because it has so much built in functionalities\n",
    "\n",
    "* Run the following code and explain why the first `pd.read_csv` fails or does not produce the output we want"
   ]
  },
  {
   "cell_type": "code",
   "execution_count": 20,
   "id": "65bd9280",
   "metadata": {
    "collapsed": false,
    "editable": true
   },
   "outputs": [],
   "source": [
    "import pandas as pd\n",
    "df=pd.read_csv('../data/draugen.txt')\n",
    "print(df)\n",
    "df=pd.read_csv('../data/draugen.txt',sep='\\t')\n",
    "print(df)"
   ]
  },
  {
   "cell_type": "markdown",
   "id": "9c2ceea3",
   "metadata": {
    "editable": true
   },
   "source": [
    "* Print only the year column from `df` i) using the label `Year` and ii) `df.columns[0]`\n",
    "\n",
    "* Print the column with oil equivalents\n",
    "\n",
    "## Solution 2 `numpy.loadtxt` (medium):\n",
    "\n",
    "`Numpy.loadtxt` is a build in function in Numpy that reads tabulated data. It does not know how to process header lines, and we need to skip them."
   ]
  },
  {
   "cell_type": "code",
   "execution_count": 21,
   "id": "f6d3c6c6",
   "metadata": {
    "collapsed": false,
    "editable": true
   },
   "outputs": [],
   "source": [
    "import numpy as np\n",
    "data=np.loadtxt('../data/draugen.txt',skiprows=1)"
   ]
  },
  {
   "cell_type": "markdown",
   "id": "52b4c9ce",
   "metadata": {
    "editable": true
   },
   "source": [
    "* How can you print out only the year, month, etc. columns from the `data` variable?\n",
    "\n",
    "* Use `data=np.loadtxt('../data/draugen.txt',skiprows=1,unpack=True)`, what changes now? \n",
    "\n",
    "## Solution 3 Vanilla Python (hard):\n",
    "\n",
    "When accessing files, it can be easy to forget to *close* the file after opening it. This can lead to problems as an open file, in many cases, cannot be accessed by other programs. To avoid this we use the `with` statement. The following code can be used to print out all the lines of a file, and Python will open and close the file for you"
   ]
  },
  {
   "cell_type": "code",
   "execution_count": 22,
   "id": "94fd4ef2",
   "metadata": {
    "collapsed": false,
    "editable": true
   },
   "outputs": [],
   "source": [
    "with open(\"../data/draugen.txt\") as my_file:\n",
    "     for line in my_file:\n",
    "     \t print(line)"
   ]
  },
  {
   "cell_type": "markdown",
   "id": "e509f8a1",
   "metadata": {
    "editable": true
   },
   "source": [
    "After the code is run, the variable `line` will still hold the last line of the file, which should be `'2023\\t10\\t0.072419\\t0.019985\\t0\\t0.092404\\t1.005672\\n'`. The first two numbers are year (2023) and the month (10), for the rest check the header in the file. The `\\t` means tabular and `\\n` means a newline. In order to parse this line we need to pick out the numbers, the easiest way in Python is to split the line on `\\t`, if you do"
   ]
  },
  {
   "cell_type": "code",
   "execution_count": 23,
   "id": "782c79f7",
   "metadata": {
    "collapsed": false,
    "editable": true
   },
   "outputs": [],
   "source": [
    "data_list=line.split('\\t')\n",
    "print(data_list)"
   ]
  },
  {
   "cell_type": "markdown",
   "id": "dd4429d8",
   "metadata": {
    "editable": true
   },
   "source": [
    "we conveniently get all the elements separated by `\\t` into a list (of strings). To convert a string to a number we can do e.g. `float(data_list[0])`.\n",
    "\n",
    "* Modify the following code to extract year, month, and oil equivalents. Remember we need to skip the first header line, which contains only text."
   ]
  },
  {
   "cell_type": "code",
   "execution_count": 24,
   "id": "703d305d",
   "metadata": {
    "collapsed": false,
    "editable": true
   },
   "outputs": [],
   "source": [
    "years=[] # empty list\n",
    "months=[] # empty list\n",
    "oe=[] # empty list\n",
    "read_first_line=False\n",
    "with open(\"../data/draugen.txt\") as my_file:\n",
    "     for line in my_file:\n",
    "     \t if read_first_line:\n",
    "\t    data_list=line.split('\\t')\n",
    "\t    years.append(float(data_list[0]))\n",
    "\t    #same for month\n",
    "\t    #same for oil equivalents\n",
    "\t read_first_line=True"
   ]
  },
  {
   "cell_type": "markdown",
   "id": "0ccb52ab",
   "metadata": {
    "editable": true
   },
   "source": [
    "### Store the data in a dictionary (optional)\n",
    "\n",
    "Tabulated data with a header is perfect for a dictionary, here we create a dictionary based on the header in the file."
   ]
  },
  {
   "cell_type": "code",
   "execution_count": 25,
   "id": "33ea9741",
   "metadata": {
    "collapsed": false,
    "editable": true
   },
   "outputs": [],
   "source": [
    "data_dict={'year':[], 'month':[],'oil':[],'gas':[],'cond':[],'oe':[],'wat':[]}"
   ]
  },
  {
   "cell_type": "markdown",
   "id": "e8f6dc48",
   "metadata": {
    "editable": true
   },
   "source": [
    "* modify the code above to store all data in each line in the dictionary. To loop over all entries in the `data_dict`, and the list elements in `data_list`, you can use the `zip` function"
   ]
  },
  {
   "cell_type": "code",
   "execution_count": 26,
   "id": "66fd8932",
   "metadata": {
    "collapsed": false,
    "editable": true
   },
   "outputs": [],
   "source": [
    "for key,data in zip(data_dict,data_list):\n",
    "    data_dict[key].append(float(data))"
   ]
  },
  {
   "cell_type": "markdown",
   "id": "56d1e66b",
   "metadata": {
    "editable": true
   },
   "source": [
    "# Exercise 5: Splitting data into files using Pandas\n",
    "If you open the file `field_production_gross_monthly.xlsx` in the `data` folder in Excel, you will see that the field names are listed in the leftmost column.\n",
    "\n",
    "**Question:**\n",
    "Open the file `field_production_gross_monthly.xlsx` in Pandas and write a new file in the same directory containing only data for a given field."
   ]
  },
  {
   "cell_type": "markdown",
   "id": "994bfaca",
   "metadata": {
    "editable": true
   },
   "source": [
    "**Solution:**"
   ]
  },
  {
   "cell_type": "code",
   "execution_count": 27,
   "id": "a24f98f7",
   "metadata": {
    "collapsed": false,
    "editable": true
   },
   "outputs": [],
   "source": [
    "import pandas as pd \n",
    "df=pd.read_excel('../data/field_production_gross_monthly.xlsx')\n",
    "field='DRAUGEN'\n",
    "file_out='../data/'+field+'.xlsx'\n",
    "df2=df[df[df.columns[0]]==field]\n",
    "df2.to_excel(file_out,index=False)"
   ]
  },
  {
   "cell_type": "markdown",
   "id": "1b707767",
   "metadata": {
    "editable": true
   },
   "source": [
    "The tricky part is perhaps the syntax `df[df[df.columns[0]]==field]`. To understand it in more detail, start by printing the innermost statements and work from there"
   ]
  },
  {
   "cell_type": "code",
   "execution_count": 28,
   "id": "d2065092",
   "metadata": {
    "collapsed": false,
    "editable": true
   },
   "outputs": [],
   "source": [
    "print(df.columns[0]) # gives the header of the first column\n",
    "# gives True for all entries in the first column that contains\n",
    "# the specific field name (in this case DRAGUEN) \n",
    "df[df.columns[0]]==field\n",
    "# Following code is equivalent, we use iloc to specify the first column\n",
    "df.iloc[:,0]==field"
   ]
  },
  {
   "cell_type": "markdown",
   "id": "0edc988a",
   "metadata": {
    "editable": true
   },
   "source": [
    "# Exercise 6: Splitting all field data into separate files\n",
    "\n",
    "**Question:** Split all production in `field_production_gross_monthly.xlsx` into different Excel files containing only data from one specific field.\n",
    "\n",
    "To help you, here are the different steps\n",
    "\n",
    "1. First we need to find a unique list of all field names, this can be done by `fields=df[df.columns[0]].unique()`\n",
    "\n",
    "2. Then we need to loop over all these fields and perform the operations as in the previous exercise"
   ]
  },
  {
   "cell_type": "markdown",
   "id": "905feb10",
   "metadata": {
    "editable": true
   },
   "source": [
    "**Solution:**\n",
    "\n",
    "There is one problem, and that is that some of the field names contains a slash `/`. A `/` indicates a new directory which does not exists, hence we need to replace the slash  with something else"
   ]
  },
  {
   "cell_type": "code",
   "execution_count": 29,
   "id": "d940e3ee",
   "metadata": {
    "collapsed": false,
    "editable": true
   },
   "outputs": [],
   "source": [
    "df=pd.read_excel('../data/field_production_gross_monthly.xlsx')\n",
    "fields=df[df.columns[0]].unique()\n",
    "for field in fields:\n",
    "    new_name=str.replace(field,'/','')\n",
    "    file_out='../data/'+new_name+'.xlsx'\n",
    "    df2=df[df[df.columns[0]]==field]\n",
    "    df2.to_excel(file_out,index=False)"
   ]
  },
  {
   "cell_type": "markdown",
   "id": "9c089472",
   "metadata": {
    "editable": true
   },
   "source": [
    "# Exercise 7: Splitting field data into separate files and folder\n",
    "Splitting the data into different Excel files generates a lot of files in the same directory.\n",
    "\n",
    "**Question:** Use Pathlib to split the data into a different folder. All data should be stored in a folder named `tmp_data`, the `tmp_data` should contain a directory named after the field and this folder should contain a file named `production_data.xlsx` containing only data for that field."
   ]
  },
  {
   "cell_type": "markdown",
   "id": "60cf04c0",
   "metadata": {
    "editable": true
   },
   "source": [
    "**Solution:**"
   ]
  },
  {
   "cell_type": "code",
   "execution_count": 30,
   "id": "a35e6430",
   "metadata": {
    "collapsed": false,
    "editable": true
   },
   "outputs": [],
   "source": [
    "df=pd.read_excel('../data/field_production_gross_monthly.xlsx')\n",
    "fields=df[df.columns[0]].unique() #skip duplicates\n",
    "data_folder=pt.Path('../tmp_data')\n",
    "data_folder.mkdir(exist_ok=True)\n",
    "for field in fields:\n",
    "    new_name=str.replace(field,'/','')\n",
    "    new_path=data_folder / new_name\n",
    "    new_path.mkdir(exist_ok=True)\n",
    "    df2.to_excel(new_path/'production_data.xlsx',index=False)"
   ]
  },
  {
   "cell_type": "markdown",
   "id": "caec64ee",
   "metadata": {
    "editable": true
   },
   "source": [
    "# Bibliography\n",
    "\n",
    "1. <div id=\"IPCC2021\"></div> **V. Masson-Delmotte, P. Zhai, A. Pirani, S. L. Connors, C. Pean, S. Berger, N. Caud, Y. Chen, L. Goldfarb, M. I. Gomis, M. Huang, K. Leitzell, E. Lonnoy, J. B. R. Matthews, T. K. Maycock, T. Waterfield, O. Yelekci, R. Yu and B. Z. (eds.)**.  Climate Change 2021: the Physical Science Basis. Contribution of Working Group I to the Sixth Assessment Report of the Intergovernmental Panel on Climate Change, *Cambridge University Press. In Press.*, 2021.\n",
    "\n",
    "2. <div id=\"fretwell2013bedmap2\"></div> **P. Fretwell, H. D. Pritchard, D. G. Vaughan, J. L. Bamber, N. E. Barrand, R. Bell, C. Bianchi, R. Bingham, D. D. Blankenship and G. Casassa**.  Bedmap2: Improved Ice Bed, Surface and Thickness Datasets for Antarctica, *The Cryosphere*, 7(1), pp. 375-393, 2013.\n",
    "\n",
    "3. <div id=\"thyng2016true\"></div> **K. M. Thyng, C. A. Greene, R. D. Hetland, H. M. Zimmerle and S. F. DiMarco**.  True Colors of Oceanography: Guidelines for Effective and Accurate Colormap Selection, *Oceanography*, 29(3), pp. 9-13, 2016."
   ]
  }
 ],
 "metadata": {},
 "nbformat": 4,
 "nbformat_minor": 5
}
