{
 "cells": [
  {
   "cell_type": "markdown",
   "id": "4aff3059",
   "metadata": {
    "editable": true
   },
   "source": [
    "<!-- dom:TITLE: Some advanced topics -->\n",
    "# Some advanced topics\n",
    "**Aksel Hiorth**\n",
    "University of Stavanger\n",
    "\n",
    "Date: **Jan 18, 2024**"
   ]
  },
  {
   "cell_type": "markdown",
   "id": "0e27bd6c",
   "metadata": {
    "editable": true
   },
   "source": [
    "<!-- Common Mako variables and functions -->\n",
    "\n",
    "<!-- Here goes the main text. -->\n",
    "<!-- The text may be split into several files and included here -->\n",
    "<!-- via preprocess: # #include \"file1.do.txt\" etc -->\n",
    "In this chapter we have collected some topics that are slightly more advanced.\n",
    "\n",
    "# Running Python files from command line\n",
    "So far we have used notebooks to write Python code. Jupyter notebooks ends with an extension `.ipynb`, and if you open them in a text editor like notepad or emacs it does not look like it does in your web browser. On the other hand you can also write Python code in files that have an extension `.py`, then you would typically use an IDE such as Visual Studio Code. In the `.py` files you cannot write markdown text. Sometimes it can be advantageous to use Python files and not Jupyter notebooks, the notebooks can take time to open and then you have to manually execute the cells you want to run.\n",
    "\n",
    "It can be very convenient to have some small programs that could do some simple tasks for you, e.g.\n",
    "1. search for files of a specific type\n",
    "\n",
    "2. remove files of a specific type\n",
    "\n",
    "3. remove or print out files that are large\n",
    "\n",
    "4. download data from the web or a server\n",
    "\n",
    "The only thing you have to do is to write your code in a suitable editor and save it, if you use Visual Studio Code or Spyder you can of course run the Python file in the editor. Next, you open the anaconda power shell, use `cd` to move where your Python file is located and write"
   ]
  },
  {
   "cell_type": "markdown",
   "id": "ca755d03",
   "metadata": {
    "editable": true
   },
   "source": [
    "        (base) PS C:\\Users\\Aksel Hiorth> python <name_of_file>\n"
   ]
  },
  {
   "cell_type": "markdown",
   "id": "7b4cb0ed",
   "metadata": {
    "editable": true
   },
   "source": [
    "remember to include the `.py` extension. Below are an example\n",
    "## Search for files of a specific type\n",
    "Put the following content in a file called `find_files.py`"
   ]
  },
  {
   "cell_type": "code",
   "execution_count": 1,
   "id": "ca666b2a",
   "metadata": {
    "collapsed": false,
    "editable": true
   },
   "outputs": [],
   "source": [
    "#%%\n",
    "#content of find_files1.py\n",
    "import pathlib as pt \n",
    "def find_files_of_type(dir='.',extensions=['.xlsx','.txt','.INC']):\n",
    "    \"\"\"\n",
    "    return a list files of type defined in extensions\n",
    "    \"\"\"\n",
    "    p=pt.Path(dir)\n",
    "    files=[]\n",
    "    for ext in extensions:\n",
    "        for x in p.rglob(\"*\"+ext):\n",
    "            if x.is_file():\n",
    "                files.append(x.absolute())\n",
    "    return files\n",
    "if __name__ == '__main__':\n",
    "    files=find_files_of_type()\n",
    "    for f in files:\n",
    "        print(f)\n",
    "# %%"
   ]
  },
  {
   "cell_type": "markdown",
   "id": "9baaf667",
   "metadata": {
    "editable": true
   },
   "source": [
    "Then open the anaconda power shell where this file is and run"
   ]
  },
  {
   "cell_type": "markdown",
   "id": "900f272b",
   "metadata": {
    "editable": true
   },
   "source": [
    "        (base) PS C:\\Users\\Aksel Hiorth> python find_files.py\n"
   ]
  },
  {
   "cell_type": "markdown",
   "id": "9042dfcd",
   "metadata": {
    "editable": true
   },
   "source": [
    "The reason we use the statement `if __name__ == '__main__':` is to only run the code if this is the main file. This means that we can import the file `find_files.py` in another program without running the last part, because then `find_files.py` is not the main program.\n",
    "\n",
    "When running files from command line it would be useful to give some command line arguments. The `sys` module and the `sys.argv` can be used to access command line argument, the `sys.argv` command returns a list of strings, where the first element is always the name of the program. In the code below we have made it possible to also to give in the directory name of where to start the search."
   ]
  },
  {
   "cell_type": "code",
   "execution_count": 2,
   "id": "69f1f475",
   "metadata": {
    "collapsed": false,
    "editable": true
   },
   "outputs": [],
   "source": [
    "#%%\n",
    "#content of find_files1.py\n",
    "import pathlib as pt \n",
    "def find_files_of_type(dir='.',extensions=['.xlsx','.txt','.INC']):\n",
    "    \"\"\"\n",
    "    return a list files of type defined in extensions\n",
    "    \"\"\"\n",
    "    p=pt.Path(dir)\n",
    "    files=[]\n",
    "    for ext in extensions:\n",
    "        for x in p.rglob(\"*\"+ext):\n",
    "            if x.is_file():\n",
    "                files.append(x.absolute())\n",
    "    return files\n",
    "if __name__ == '__main__':\n",
    "    files=find_files_of_type()\n",
    "    for f in files:\n",
    "        print(f)\n",
    "# %%"
   ]
  },
  {
   "cell_type": "markdown",
   "id": "ec8c00fb",
   "metadata": {
    "editable": true
   },
   "source": [
    "To start the search two directories above"
   ]
  },
  {
   "cell_type": "markdown",
   "id": "2198286a",
   "metadata": {
    "editable": true
   },
   "source": [
    "        (base) PS C:\\Users\\Aksel Hiorth> python find_files2.py ../../\n"
   ]
  },
  {
   "cell_type": "markdown",
   "id": "9652218e",
   "metadata": {
    "editable": true
   },
   "source": [
    "# Creating executable programs from Python file\n",
    "Even if someone has not Python installed on their computer, they could still be interested in your programs. It is actually possible to create executable files from your Python scripts, where all libraries are included in the executable file. Here we show the bare minimum and only the `pyinstaller` library, for more information check out this [blog](https://www.blog.pythonlibrary.org/2021/05/27/pyinstaller-how-to-turn-your-python-code-into-an-exe-on-windows/).\n",
    "\n",
    "**Install packages:**\n",
    "Open anaconda power shell, activate your environment and install `pyinstaler`"
   ]
  },
  {
   "cell_type": "markdown",
   "id": "e64862a3",
   "metadata": {
    "editable": true
   },
   "source": [
    "        (mod322) PS C:\\Users\\Aksel Hiorth> conda install pyinstaller\n"
   ]
  },
  {
   "cell_type": "markdown",
   "id": "aeed18e7",
   "metadata": {
    "editable": true
   },
   "source": [
    "**Create executable:**\n",
    "Next, we must create an executable, run the following command (where your python file is located)"
   ]
  },
  {
   "cell_type": "markdown",
   "id": "f5003633",
   "metadata": {
    "editable": true
   },
   "source": [
    "        (mod322) PS C:\\Users\\Aksel Hiorth> pyinstaller find_files2.py --onefile\n"
   ]
  },
  {
   "cell_type": "markdown",
   "id": "0edb0c7f",
   "metadata": {
    "editable": true
   },
   "source": [
    "`pyinstaller` now have created two folder, a `build` folder and a `dist` folder. Inside the `dist` folder there should be a single file called `find_files2.exe`. This file can be shared with other people. You can run this file from command line as before, and it should behave as your python script.\n",
    "\n",
    "# Passing functions to functions\n",
    "\n",
    "In many cases it can be very beneficial to pass a function to another function to make your code smaller and reusable. To illustrate this we will make our own version of Pandas `apply()` function. In the chapter about functions we made a function that replaced characters in a string, for completeness we repeat it here"
   ]
  },
  {
   "cell_type": "code",
   "execution_count": 3,
   "id": "7283f8df",
   "metadata": {
    "collapsed": false,
    "editable": true
   },
   "outputs": [],
   "source": [
    "def replace_chars(name,*,chars=[\" \", \"/\"],new_chars=[\"\",\"_\"]):\n",
    "    '''\n",
    "    returns a string where chars with new_chars are replaced in name\n",
    "    '''\n",
    "    if type(name)!=str:\n",
    "        raise ValueError('replace_chars: name must be a string')\n",
    "    if len(chars) != len(new_chars):\n",
    "        raise ValueError('replace_chars: chars and new_chars must same size')\n",
    "    new_name = name\n",
    "    for ch,nch in zip(chars,new_chars):\n",
    "        new_name = new_name.replace(ch, nch)\n",
    "    return new_name"
   ]
  },
  {
   "cell_type": "markdown",
   "id": "2c0d796a",
   "metadata": {
    "editable": true
   },
   "source": [
    "`replace_chars` does not work on lists or arrays. However if we make the following function"
   ]
  },
  {
   "cell_type": "code",
   "execution_count": 4,
   "id": "61ef7324",
   "metadata": {
    "collapsed": false,
    "editable": true
   },
   "outputs": [],
   "source": [
    "def apply(f,list):\n",
    "    '''\n",
    "    apply f on each element in the list\n",
    "    '''\n",
    "    new_list=[]\n",
    "    for l in list:\n",
    "        new_list.append(f(l))\n",
    "    return new_list"
   ]
  },
  {
   "cell_type": "markdown",
   "id": "e906bdb7",
   "metadata": {
    "editable": true
   },
   "source": [
    "We can now run the following code"
   ]
  },
  {
   "cell_type": "code",
   "execution_count": 5,
   "id": "fa57e2da",
   "metadata": {
    "collapsed": false,
    "editable": true
   },
   "outputs": [],
   "source": [
    "my_list=[' / /', 'a/b/c']\n",
    "apply(replace_chars,my_list) # ['__','a_b_c']"
   ]
  },
  {
   "cell_type": "markdown",
   "id": "e98ad907",
   "metadata": {
    "editable": true
   },
   "source": [
    "The `apply()` function is extremely useful. But, it is not perfect. If we instead wanted to replace a white space with `X`, it is not possible to achieve this with the `apply()` function as it is defined now. The reason is that the `apply()` function assumes that the first argument in `apply()`, `f`, has a call signature `f(l)`, it is not possible to send arguments to `f(l)`. What we really want to do is to use `replace_chars(x,chars=[' '], new_chars=['X'])` on each element in the list.\n",
    "\n",
    "Python has a certain syntax to achieve this, it is possible to use `*args` for positional arguments and `**kwargs` for default arguments. By simply adding these two variables to the definition of our `apply()` function it becomes completely general"
   ]
  },
  {
   "cell_type": "code",
   "execution_count": 6,
   "id": "5f28b7c7",
   "metadata": {
    "collapsed": false,
    "editable": true
   },
   "outputs": [],
   "source": [
    "def apply(f,list, *args,**kwargs):\n",
    "    '''\n",
    "    apply f on each element in the list\n",
    "    '''\n",
    "    new_list=[]\n",
    "    for l in list:\n",
    "        new_list.append(f(l,*args,**kwargs))\n",
    "    return new_list"
   ]
  },
  {
   "cell_type": "markdown",
   "id": "6a4f4597",
   "metadata": {
    "editable": true
   },
   "source": [
    "The effect is that variables we would like to send to `f`, we have to add at the end of the `apply()` function."
   ]
  },
  {
   "cell_type": "code",
   "execution_count": 7,
   "id": "16cb51b8",
   "metadata": {
    "collapsed": false,
    "editable": true
   },
   "outputs": [],
   "source": [
    "my_list=[' / /', 'a/b/c']\n",
    "apply(replace_chars,my_list,chars=[' '],new_chars=['X']) # ['X/X/','a/b/c']"
   ]
  },
  {
   "cell_type": "markdown",
   "id": "8d315686",
   "metadata": {
    "editable": true
   },
   "source": [
    "# Scope of variables\n",
    "\n",
    "In small programs you would not care about scope, but once you have several functions, you will easily get into trouble if you do not consider the scope of a variable. By scope of a variable we mean where the variable is available, first some simple examples\n",
    "\n",
    "**A variable created inside a function is only available within the function:**\n",
    "``"
   ]
  },
  {
   "cell_type": "code",
   "execution_count": 8,
   "id": "bbee4333",
   "metadata": {
    "collapsed": false,
    "editable": true
   },
   "outputs": [],
   "source": [
    "def f(x):\n",
    "    a=10\n",
    "    b=20\n",
    "    return a*x+b"
   ]
  },
  {
   "cell_type": "markdown",
   "id": "3896f18f",
   "metadata": {
    "editable": true
   },
   "source": [
    "Doing `print(a)` outside the function will throw an error: `name 'a' is not defined`. What happens if we define variable `a` outside the function?"
   ]
  },
  {
   "cell_type": "code",
   "execution_count": 9,
   "id": "b9938488",
   "metadata": {
    "collapsed": false,
    "editable": true
   },
   "outputs": [],
   "source": [
    "a=2\n",
    "def f(x):\n",
    "    a=10\n",
    "    b=20\n",
    "    return a*x+b"
   ]
  },
  {
   "cell_type": "markdown",
   "id": "1ce8f64e",
   "metadata": {
    "editable": true
   },
   "source": [
    "If we first call the function `f(0)`, and then do `print(a)` Python would give the answer `2`, *not* `10`. A *local* variable `a` is created inside `f(x)`, that does not interfere with the variable `a` defined outside the function.\n",
    "\n",
    "**The `global` keyword can be used to pass and access variables in functions:**\n",
    "\n",
    "\""
   ]
  },
  {
   "cell_type": "code",
   "execution_count": 10,
   "id": "c40685f8",
   "metadata": {
    "collapsed": false,
    "editable": true
   },
   "outputs": [],
   "source": [
    "global a\n",
    "a=2\n",
    "def f(x):\n",
    "    global a\n",
    "    a=10\n",
    "    b=20\n",
    "    return a*x+b"
   ]
  },
  {
   "cell_type": "markdown",
   "id": "07802294",
   "metadata": {
    "editable": true
   },
   "source": [
    "In this case `print(a)` *before* calling `f(x)` will give the answer `2` and *after* calling `f(x)` will give `10`.\n",
    "\n",
    "**Use of global variables.**\n",
    "\n",
    "Sometimes global variables can be very useful, and help you to make the code simpler. But make sure to use a *naming convention*  for them, e.g. end all the global variables with an underscore. In the example above we would write `global a_`. A person reading the code would then know that all variables ending with an underscore are global, and can potentially be modified by several functions.\n",
    "\n",
    "\n",
    "\n",
    "# Passing arrays and lists to functions\n",
    "\n",
    "In the previous section, we looked at some simple examples regarding the scope of variables, and what happened with that variable inside and outside a function. The examples used integer or floats. However in most applications you will pass an array or a list to a function, and then you need to be aware that the behavior is not always would you might expect.\n",
    "**Unexpected behavior.**\n",
    "\n",
    "Sometimes functions do not do what you expect, this might be because the function does not treat  the arguments as you might think. The best advice is to make a very simple version of your function and test it for yourself. Is the behavior what you expect? Try to understand why or why not.\n",
    "\n",
    "\n",
    "Let us look at some examples, and try to understand what is going on and why."
   ]
  },
  {
   "cell_type": "code",
   "execution_count": 11,
   "id": "1cd585f9",
   "metadata": {
    "collapsed": false,
    "editable": true
   },
   "outputs": [],
   "source": [
    "x=3\n",
    "def f(x):\n",
    "    x = x*2\n",
    "    return x\n",
    "print('x =',x)\n",
    "print('f(x) returns ', f(x))\n",
    "print('x is now ', x)"
   ]
  },
  {
   "cell_type": "markdown",
   "id": "bb52df66",
   "metadata": {
    "editable": true
   },
   "source": [
    "In the example above we can use `x=3`, `x=[3]`, `x=np.array([3])`, and after execution `x` is unchanged (i.e. same value as before `f(x)`) was called. Based on what we have discussed before, this is maybe what you would expect, but if we now do"
   ]
  },
  {
   "cell_type": "code",
   "execution_count": 12,
   "id": "f4ec56d8",
   "metadata": {
    "collapsed": false,
    "editable": true
   },
   "outputs": [],
   "source": [
    "x=[3]\n",
    "def append_to_list(x):\n",
    "    return x.append(1)\n",
    "print('x = ',x)\n",
    "print('append_to_list(x) returns ', append_to_list(x))\n",
    "print('x is now ', x)"
   ]
  },
  {
   "cell_type": "markdown",
   "id": "69fa299d",
   "metadata": {
    "editable": true
   },
   "source": [
    "(Clearly this function will only work for lists, due to the append command.) After execution, we get the result"
   ]
  },
  {
   "cell_type": "code",
   "execution_count": 13,
   "id": "1a5c41ef",
   "metadata": {
    "collapsed": false,
    "editable": true
   },
   "outputs": [],
   "source": [
    "x = [3]\n",
    "append_to_list(x) #returns  [3 1], x is now  [3, 1]"
   ]
  },
  {
   "cell_type": "markdown",
   "id": "2f9b7907",
   "metadata": {
    "editable": true
   },
   "source": [
    "Even if this might be exactly what you wanted your function to do, why does `x` change here when it is a list and not in the previous case when it is a float? Before we explain this behavior let us rewrite the function to work with Numpy arrays"
   ]
  },
  {
   "cell_type": "code",
   "execution_count": 14,
   "id": "38a7516c",
   "metadata": {
    "collapsed": false,
    "editable": true
   },
   "outputs": [],
   "source": [
    "x=np.array([3])\n",
    "def append_to_np(x):\n",
    "    return np.append(x,1)\n",
    "print('x = ',x)\n",
    "print('append_to_np(x) returns ', append_to_np(x))\n",
    "print('x is now ', x)"
   ]
  },
  {
   "cell_type": "markdown",
   "id": "5c74eb2b",
   "metadata": {
    "editable": true
   },
   "source": [
    "The output of this code is"
   ]
  },
  {
   "cell_type": "code",
   "execution_count": 15,
   "id": "ec0e7872",
   "metadata": {
    "collapsed": false,
    "editable": true
   },
   "outputs": [],
   "source": [
    "x =  np.array([3])\n",
    "append_to_np(x) #returns  [3 1], x is now  [3]"
   ]
  },
  {
   "cell_type": "markdown",
   "id": "41d68a8a",
   "metadata": {
    "editable": true
   },
   "source": [
    "This time `x` was not changed, what is happening here? It is important to understand what is going on because it deals with how Python handles variables in the memory. If `x` contains million of values, it can slow down your program, if we do"
   ]
  },
  {
   "cell_type": "code",
   "execution_count": 16,
   "id": "a218e689",
   "metadata": {
    "collapsed": false,
    "editable": true
   },
   "outputs": [],
   "source": [
    "N=1000000\n",
    "x=[3]*N\n",
    "%timeit append_to_list(x)\n",
    "x=np.array([3]*N)\n",
    "%timeit append_to_np(x)"
   ]
  },
  {
   "cell_type": "markdown",
   "id": "928e5ca3",
   "metadata": {
    "editable": true
   },
   "source": [
    "On my computer I found that `append_to_list` used 76 nano seconds, and `append_to_np`\n",
    "used 512 micro seconds, the Numpy function was about 6000 times slower! To add to the confusion consider the following functions"
   ]
  },
  {
   "cell_type": "code",
   "execution_count": 17,
   "id": "32a5fae2",
   "metadata": {
    "collapsed": false,
    "editable": true
   },
   "outputs": [],
   "source": [
    "x=np.array([3])\n",
    "def add_to_np(x):\n",
    "    x=x+3\n",
    "    return x\n",
    "\n",
    "def add_to_np2(x):\n",
    "    x+=3\n",
    "    return x\n",
    "print('x = ',x)\n",
    "print('add_to_np(x) returns ', add_to_np(x))\n",
    "print('x is now ', x)\n",
    "\n",
    "print('x = ',x)\n",
    "print('add_to_np2(x) returns ', add_to_np2(x))\n",
    "print('x is now ', x)"
   ]
  },
  {
   "cell_type": "markdown",
   "id": "0b0f0d55",
   "metadata": {
    "editable": true
   },
   "source": [
    "The output is"
   ]
  },
  {
   "cell_type": "code",
   "execution_count": 18,
   "id": "fd65244f",
   "metadata": {
    "collapsed": false,
    "editable": true
   },
   "outputs": [],
   "source": [
    "x =  np.array([3])\n",
    "add_to_np(x) #returns [6], x is now [3] \n",
    "x =  np.array([3])\n",
    "add_to_np2(x) #returns  [6], x is now  [6]"
   ]
  },
  {
   "cell_type": "markdown",
   "id": "640dd4b3",
   "metadata": {
    "editable": true
   },
   "source": [
    "In both cases the function returns what you expect, but it has an unexpected (or at least a different) behavior regarding the variable `x`. What about speed?"
   ]
  },
  {
   "cell_type": "code",
   "execution_count": 19,
   "id": "f70d30e4",
   "metadata": {
    "collapsed": false,
    "editable": true
   },
   "outputs": [],
   "source": [
    "N=10000000\n",
    "x=np.array([3]*N)\n",
    "%timeit add_to_np(x)\n",
    "x=np.array([3]*N)\n",
    "%timeit add_to_np2(x)"
   ]
  },
  {
   "cell_type": "markdown",
   "id": "5b3d7a0f",
   "metadata": {
    "editable": true
   },
   "source": [
    "`add_to_np` is about twice as slow as `add_to_np2`. In the next section we will try to explain the difference in behavior.\n",
    "\n",
    "**Avoiding unwanted behavior of functions.**\n",
    "\n",
    "The examples in this section are meant to show you that if you pass an array to a function, the array can be altered outside the scope of the function. If this is not what you want, it could lead to bugs that are hard to detect. Thus, if you experience unwanted behavior pick out the part of function involving list or array operations and test one by one in the editor.\n",
    "\n",
    "\n",
    "\n",
    "# Call by value or call by reference\n",
    "\n",
    "For anyone that has programmed in C or C++ call by reference or value is something one need to think about constantly. When we pass a variable to a function there are two choices, should we pass a copy of the variable or should we pass information about where the variable is stored in memory?\n",
    "**Value and reference.**\n",
    "\n",
    "In C and C++ pass by value means that we are making a copy in the memory of the variable we are sending to the function, and pass by reference means that we are sending the actual parameter or more specific the address to the memory location of the parameter. In Python all variables are passed by object reference.\n",
    "\n",
    "\n",
    "In C and C++ you always tell in the function definition if the variables are passed by value or reference. Thus if you would like a change in a variable outside the function definition, you pass the variable by reference, otherwise by value. In Python we always pass by (object) reference.\n",
    "\n",
    "## Floats and integers\n",
    "To gain a deeper understanding, we can use the `id` function, the `id` function gives the unique id to a variable. In C this would be the actual memory address, lets look at a couple of examples"
   ]
  },
  {
   "cell_type": "code",
   "execution_count": 20,
   "id": "0bd7a242",
   "metadata": {
    "collapsed": false,
    "editable": true
   },
   "outputs": [],
   "source": [
    "a=10.0\n",
    "print(id(a)) #gives on my computer 140587667748656\n",
    "a += 1\n",
    "print(id(a)) #gives on my computer 140587667748400"
   ]
  },
  {
   "cell_type": "markdown",
   "id": "b50cf06a",
   "metadata": {
    "editable": true
   },
   "source": [
    "Thus, after adding 1 to `a`, `a` is assigned *a new place in memory*. This is very different from C or C++, in C or C++ the variable, once it is created, *always has the same memory address*. In Python this is not the case, it works in the opposite way. The statement `a=10.0`, is executed so that *first* 10.0 is created in memory, secondly `x` is assigned the reference to 10.0. The assignment operator `=` indicates that `a` should point to whatever is on the right hand side. Another example is"
   ]
  },
  {
   "cell_type": "code",
   "execution_count": 21,
   "id": "6f73ee87",
   "metadata": {
    "collapsed": false,
    "editable": true
   },
   "outputs": [],
   "source": [
    "a=10.0\n",
    "b=10.0\n",
    "print(a is b) # prints False\n",
    "b=a\n",
    "print(a is b ) # prints True"
   ]
  },
  {
   "cell_type": "markdown",
   "id": "a9f82ac6",
   "metadata": {
    "editable": true
   },
   "source": [
    "In this case 10.0 is created in two different places in the memory and a different reference is assigned to `a` and `b`. However if we put `b=a`, `b` points to the same object as `a` is pointing on. More examples"
   ]
  },
  {
   "cell_type": "code",
   "execution_count": 22,
   "id": "e8ccf148",
   "metadata": {
    "collapsed": false,
    "editable": true
   },
   "outputs": [],
   "source": [
    "a=10\n",
    "b=a\n",
    "print(a is b) # True\n",
    "a+=2\n",
    "print(a is b) # False"
   ]
  },
  {
   "cell_type": "markdown",
   "id": "1398a675",
   "metadata": {
    "editable": true
   },
   "source": [
    "When we add 2 to `a`, we actually add 2 to the value of 10, the number 12 is assigned a new place in memory and `a` will be assigned that object, whereas `b` would still points the old object 10.\n",
    "\n",
    "## Lists and arrays\n",
    "Yous should think of lists and arrays as containers (or a box). If we do"
   ]
  },
  {
   "cell_type": "code",
   "execution_count": 23,
   "id": "abe577e6",
   "metadata": {
    "collapsed": false,
    "editable": true
   },
   "outputs": [],
   "source": [
    "x=[0,1,2,3,4]\n",
    "print(id(x))\n",
    "x[0]=10\n",
    "print(id(x)) # same id value as before and x=[10,1,2,3,4]"
   ]
  },
  {
   "cell_type": "markdown",
   "id": "5771ac3e",
   "metadata": {
    "editable": true
   },
   "source": [
    "First, we create a list, which is basically a box with the numbers 0, 1, 2, 3, 4. The variable `x` points to *the box*, and `x[0]` points to 0, and `x[1]` to 1 etc. Thus if we do `x[0]=10`, that would be the same as picking 0 out of the box and replacing it with 10, but *the box stays the same*. Thus when we do `print(x)`, we print the content of the box. If we do"
   ]
  },
  {
   "cell_type": "code",
   "execution_count": 24,
   "id": "6c0fa31a",
   "metadata": {
    "collapsed": false,
    "editable": true
   },
   "outputs": [],
   "source": [
    "x=[0,1,2,3,4]\n",
    "y=x\n",
    "print(x is y) # True\n",
    "x.append(10)  # x is now [0,1,2,3,4,10]\n",
    "print(y)      # y=[0,1,2,3,4,10]\n",
    "print(x is y) # True"
   ]
  },
  {
   "cell_type": "markdown",
   "id": "afa656de",
   "metadata": {
    "editable": true
   },
   "source": [
    "What happens here is that we create a box with the numbers 0, 1, 2, 3, 4, `x` is referenced that box. Next, we do `y=x` so that `y` is referenced the *same box* as `x`. Then, we add the number 10 to that box, and `x` and `y` still points to the same box.\n",
    "\n",
    "Numpy arrays behave differently, and that is basically because if we want to add a number to a Numpy array we have to do `x=np.array(x,10)`. Because of the assignment operator `=` , we take the content of the original box add 10 and put it into a *new* box"
   ]
  },
  {
   "cell_type": "code",
   "execution_count": 25,
   "id": "c51d5f09",
   "metadata": {
    "collapsed": false,
    "editable": true
   },
   "outputs": [],
   "source": [
    "x=np.array([0,1,2,3,4])\n",
    "y=x\n",
    "print(x is y)     # True\n",
    "x=np.append(x,10) # x is now [0,1,2,3,4,10]\n",
    "print(y)          # y=[0,1,2,3,4]\n",
    "print(x is y)     # False"
   ]
  },
  {
   "cell_type": "markdown",
   "id": "0bf9988b",
   "metadata": {
    "editable": true
   },
   "source": [
    "The reason for this behavior is that the elements in Numpy arrays (contrary to lists) have to be continuous in the memory, and the only way to achieve this is to create a new box that is large enough to also contain the new number. This also explains that if you use the `np.append(x,some_value)` inside a function where `x` is large it could slow down your code, because the program has to delete `x` and create a new very large box each time it would want to add a new element. A better way to do it is to create `x` *large enough* in the beginning, and then just assign values `x[i]=a`. \n",
    "\n",
    "# Mutable and immutable objects\n",
    "What we have explained in the previous section is related to what is known as mutable and immutable objects. These terms are used to describe objects that have an internal state that can be changed (mutable), and objects that have an internal state that cannot be changed after they have been created. Example of mutable objects are lists, dictionaries, and arrays. Examples of immutable objects are floats, ints, tuples, and strings. Thus if we create the number 10 its value cannot be changed (and why would we do that?). Note that this is *not the same as saying that*  `x=10` and that the internal state of `x` cannot change, this is *not* true. We are allowed to make `x` reference another object. If we do `x=10`, then `x is 10` will give true and they will have the same value if we use the `id` operator on `x` and `10`. If we later say that `a=11` then `a is 10` will give false and `id(a)` and `id(10)` give different values, but * `id(10)` will have the same value as before*.\n",
    "\n",
    "Lists are mutable objects, and once a list is created, we can change the content without changing the reference to that object. That is why the operations `x=[]` and `x.append(1)`, does not change the id of x, and also explain that if we put `y=x`, `y` would change if `x` is changed. Contrary to immutable objects if `x=[]`, and `y=[]` then `x is y` will give false. Thus, whenever you create a list it will be an unique object.    \n",
    "\n",
    "**A final tip.**\n",
    "\n",
    "You are bound to get into strange, unwanted behavior when working with lists, arrays and dictionaries (mutable) objects in Python. Whenever, you are unsure, just make a simple version of your lists and perform some of the operations on them to investigate if the behavior is what you want.\n",
    "\n",
    "\n",
    "Finally, we show some ``unexpected\" behavior, just to demonstrate that it is easy to do mistakes and one should always test code on simple examples."
   ]
  },
  {
   "cell_type": "code",
   "execution_count": 26,
   "id": "09fb3b2c",
   "metadata": {
    "collapsed": false,
    "editable": true
   },
   "outputs": [],
   "source": [
    "x_old=[]\n",
    "x  = [1, 2, 3]\n",
    "x_old[:] = x[:] # x_old = [1, 2, 3]\n",
    "x[0] = 10\n",
    "print(x_old) # \"expected\" x_old = [10, 2, 3], actual [1, 2, 3]"
   ]
  },
  {
   "cell_type": "markdown",
   "id": "9a0a91c0",
   "metadata": {
    "editable": true
   },
   "source": [
    "Comment: We put the *content* of the `x` container into `x_old`, but `x` and `x_old` reference different containers."
   ]
  },
  {
   "cell_type": "code",
   "execution_count": 27,
   "id": "4fa04c2f",
   "metadata": {
    "collapsed": false,
    "editable": true
   },
   "outputs": [],
   "source": [
    "def add_to_list(x,add_to=[])\n",
    "    add_to.append(x)\n",
    "    return add_to\n",
    "\n",
    "print(add_to_list(1)) # \"expected\" [1] actual [1]\n",
    "print(add_to_list(2)) # \"expected\" [2] actual [1, 2]\n",
    "print(add_to_list(3)) # \"expected\" [3] actual [1, 2, 3]"
   ]
  },
  {
   "cell_type": "markdown",
   "id": "96aa665c",
   "metadata": {
    "editable": true
   },
   "source": [
    "Comment: `add_to=[]` is a default argument and it is created once when the program starts and not each time the function is called."
   ]
  },
  {
   "cell_type": "code",
   "execution_count": 28,
   "id": "5c027ee5",
   "metadata": {
    "collapsed": false,
    "editable": true
   },
   "outputs": [],
   "source": [
    "x = [10]\n",
    "y = x\n",
    "y = y + [1]\n",
    "print(x, y) # prints [10] [10, 1]\n",
    "\n",
    "x = [10]\n",
    "y = x\n",
    "y += [1] \n",
    "print(x, y) # prints [10, 1] [10, 1]"
   ]
  },
  {
   "cell_type": "markdown",
   "id": "5f218ae7",
   "metadata": {
    "editable": true
   },
   "source": [
    "Comment: In the first case `y + [1]` creates a new object and the assignment operator `=` assign `y` to that object, thus `x` stays the same. In the second case the `+=` adds `[1]` to the `y` container without changing the container, and thus `x` also changes.\n",
    "# Bibliography"
   ]
  }
 ],
 "metadata": {},
 "nbformat": 4,
 "nbformat_minor": 5
}
