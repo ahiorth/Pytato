{
 "cells": [
  {
   "cell_type": "markdown",
   "id": "6d9bdd6e",
   "metadata": {
    "editable": true
   },
   "source": [
    "<!-- dom:TITLE: Classes and objects in Python -->\n",
    "# Classes and objects in Python\n",
    "**Aksel Hiorth**\n",
    "University of Stavanger\n",
    "\n",
    "Date: **Jan 12, 2024**\n",
    "\n",
    "<!-- Common Mako variables and functions -->\n",
    "\n",
    "<!-- Here goes the main text. -->\n",
    "<!-- The text may be split into several files and included here -->\n",
    "<!-- via preprocess: # #include \"file1.do.txt\" etc -->\n",
    "\n",
    "# Why classes?\n",
    "A class can be a way for you to create a clean interface to your code. You have already used a lot of classes. The `DataFrame()` in Pandas is a class, and we access functions inside this class by using a dot (`.`). Classes also provides encapsulation: \n",
    "By wrapping parts of your code into classes, and particular realizations of\n",
    "classes (objects), you facilitate code re-use, and it can make your code\n",
    "easier to understand and work with, thus reducing the probability of\n",
    "introducing bugs which may be hard to track down.\n",
    "\n",
    "To get started, there are really only a couple of things you need to know.\n",
    "First, all of your classes should include a special function called `__init__`,\n",
    "in which you declare the variables (attributes) you wish an instance / object\n",
    "of the class to keep track of.\n",
    "\n",
    "Second, when setting, updating, or fetching attributes stored within the class,\n",
    "you should always use the prefix `self`, followed by a dot.\n",
    "Furthermore, the functions you define inside the class should have `self` as\n",
    "the first function argument ([there are exceptions](https://realpython.com/python3-object-oriented-programming/)),\n",
    "but we will not consider those here.\n",
    "\n",
    "# Example: A class for production data\n",
    "Earlier in this course we have made functions to read data from an Excel file, and plot the data. This can also be done within a class, below is an example"
   ]
  },
  {
   "cell_type": "code",
   "execution_count": 1,
   "id": "74541ea7",
   "metadata": {
    "collapsed": false,
    "editable": true
   },
   "outputs": [],
   "source": [
    "%matplotlib inline\n",
    "\n",
    "import numpy as np \n",
    "import pandas as pd\n",
    "import matplotlib.pyplot as plt\n",
    "\n",
    "class ProdData:\n",
    "    \"\"\"\n",
    "    A class to extract production data from FactPages\n",
    "    \"\"\"\n",
    "    def __init__(self):\n",
    "        self.df_prod=pd.read_excel('../data/field_production_gross_monthly.xlsx')\n",
    "    \n",
    "    def get_data(self,field):\n",
    "        \"\"\"\n",
    "        Extracts data for a specific field\n",
    "        \"\"\"\n",
    "        df= self.df_prod[(self.df_prod['Field (Discovery)'] == field)]\n",
    "        return df\n",
    "    \n",
    "    def plot(self,field,cols=[3,4,5,6,7]):\n",
    "        \"\"\"\n",
    "        Plots the different columns in the DataFrame\n",
    "        \"\"\"\n",
    "        df=self.get_data(field)\n",
    "        xcol=df['Year']+df['Month']/12\n",
    "        for col in cols:\n",
    "            plt.plot(xcol,df.iloc[:,col],label=df.columns[col])\n",
    "        plt.legend(loc='center', bbox_to_anchor=(0.5,-.3),\n",
    "          ncol=3, fancybox=True, shadow=True)\n",
    "        plt.title(field)\n",
    "        plt.xlabel('Years')\n",
    "        plt.ylabel('mill Sm$^3$')\n",
    "        plt.grid()\n",
    "       \n",
    "ff=ProdData()\n",
    "ff.plot('DRAUGEN')"
   ]
  },
  {
   "cell_type": "markdown",
   "id": "87a060d8",
   "metadata": {
    "editable": true
   },
   "source": [
    "The nice thing about the class is that it has a very nice interface, if the user wants to plot data from another field, it is just give the name of that field"
   ]
  },
  {
   "cell_type": "code",
   "execution_count": 2,
   "id": "3b57db5d",
   "metadata": {
    "collapsed": false,
    "editable": true
   },
   "outputs": [],
   "source": [
    "ff.plot('EKOFISK')"
   ]
  },
  {
   "cell_type": "markdown",
   "id": "c9d60852",
   "metadata": {
    "editable": true
   },
   "source": [
    "# Example: A class for a mathematical function\n",
    "<div id=\"exer:crash_course\"></div>\n",
    "\n",
    "A mathematical function should be the perfect example of *when to use a function*, but it turns out that it can be quite convenient to use a class. Here we will consider the mathematical function in the equation below"
   ]
  },
  {
   "cell_type": "markdown",
   "id": "d09b884d",
   "metadata": {
    "editable": true
   },
   "source": [
    "<!-- Equation labels as ordinary links -->\n",
    "<div id=\"eq:p1:f\"></div>\n",
    "\n",
    "$$\n",
    "\\begin{equation}\n",
    "f(x) = \\sin(bx)\\cdot e^{-ax^2}.\n",
    "\\label{eq:p1:f} \\tag{1}\n",
    "\\end{equation}\n",
    "$$"
   ]
  },
  {
   "cell_type": "markdown",
   "id": "23df777b",
   "metadata": {
    "editable": true
   },
   "source": [
    "If we implement this function in a class, we can also add other functionalities to our function such as an ability to plot itself"
   ]
  },
  {
   "cell_type": "code",
   "execution_count": 3,
   "id": "32c58848",
   "metadata": {
    "collapsed": false,
    "editable": true
   },
   "outputs": [],
   "source": [
    "class WavePacket:\n",
    "    \"\"\"\n",
    "    A class representation of a wave packet-function.\n",
    "    \"\"\"\n",
    "    def __init__(self, a, b):\n",
    "        self.a = a\n",
    "        self.b = b\n",
    "\n",
    "    def f(self, x):\n",
    "        return np.sin(self.b*x)*np.exp(-self.a*x*x)\n",
    "\n",
    "    def plot(self, x_min=-10, x_max=10, dx=0.01):\n",
    "        \"\"\"\n",
    "        A simple plotting routine for plotting f(x) in some range.\n",
    "        \"\"\"\n",
    "        x = np.arange(x_min, x_max, dx)\n",
    "        y = self.f(x)\n",
    "        fig = plt.figure()\n",
    "        plt.plot(x, y)\n",
    "        plt.grid()"
   ]
  },
  {
   "cell_type": "markdown",
   "id": "905a4f50",
   "metadata": {
    "editable": true
   },
   "source": [
    "Besides the initialization method and a function that calculates $f(x)$ from\n",
    "equation ([1](#eq:p1:f)), the class includes a simple plotting routine.\n",
    "A major difference from before is the following: when our function $f(x)$\n",
    "is defined inside a class, we do not have to pass around $a$ and $b$ as\n",
    "arguments to the function `f`. Instead, we simply access $a$ and $b$ from\n",
    "inside the class itself (using the `self`-prefix).\n",
    "<!--  -->\n",
    "<!-- both when referring to the variables / attributes, and as the first input -->\n",
    "<!-- argument to the function. -->\n",
    "\n",
    "Below is an example of how to use the class:"
   ]
  },
  {
   "cell_type": "code",
   "execution_count": 4,
   "id": "11d48a7e",
   "metadata": {
    "collapsed": false,
    "editable": true
   },
   "outputs": [],
   "source": [
    "# Create two WavePacket objects, having their own parameter values\n",
    "WP1 = WavePacket(0.1, 2)  # a=0.1, b=2\n",
    "WP2 = WavePacket(0.1, 10)  # a = 0.1, b=10\n",
    "\n",
    "# Evaluate the two functions at a specific point\n",
    "x = 1\n",
    "print(WP1.f(x))\n",
    "print(WP2.f(x))\n",
    "\n",
    "# Plot the two functions\n",
    "WP1.plot()\n",
    "WP2.plot()"
   ]
  },
  {
   "cell_type": "markdown",
   "id": "5b894787",
   "metadata": {
    "editable": true
   },
   "source": [
    "Although we had to write slightly more code, we hope you appreciate\n",
    "how easy this makes running parallel simulations with different parameters.\n",
    "Actually, Python provides a way for us to simplify even further, by\n",
    "defining the special [`__call__`](https://www.realpythonproject.com/python-magic-oop-dunder/)  method for the class:"
   ]
  },
  {
   "cell_type": "code",
   "execution_count": 5,
   "id": "1c11571d",
   "metadata": {
    "collapsed": false,
    "editable": true
   },
   "outputs": [],
   "source": [
    "class FancyWavePacket:\n",
    "    \"\"\"\n",
    "    A slightly more fancy class representation of a wave packet-function.\n",
    "\n",
    "    In this version, we define the dunder (double-underscore) method __call__,\n",
    "    which lets us treat objects of the class as if they were real functions!\n",
    "    \"\"\"\n",
    "    def __init__(self, a, b):\n",
    "        self.a = a\n",
    "        self.b = b\n",
    "\n",
    "    def __call__(self, x):\n",
    "        return np.sin(self.b*x)*np.exp(-self.a*x*x)"
   ]
  },
  {
   "cell_type": "markdown",
   "id": "c43fc4b1",
   "metadata": {
    "editable": true
   },
   "source": [
    "Compared to the first example of the class, observe that we have replaced the\n",
    "function `f` by `__call__` (with two underscores on both sides of \"call\").\n",
    "This way, we we can write our code as if `FancyWavePacket` was a function:"
   ]
  },
  {
   "cell_type": "code",
   "execution_count": 6,
   "id": "90d837be",
   "metadata": {
    "collapsed": false,
    "editable": true
   },
   "outputs": [],
   "source": [
    "WP1 = FancyWavePacket(0.1, 2)  # a=0.1, b=2\n",
    "WP2 = FancyWavePacket(0.1, 10)  # a = 0.1, b=10\n",
    "\n",
    "# Evaluate the two functions at a specific point\n",
    "x = 1\n",
    "print(WP1(x))  # If WP1 had been a function, the syntax would be the same here!\n",
    "print(WP2(x))  # Again, we no longer have to type \"WP2.f(x)\", we can do \"WP2(x)\"."
   ]
  },
  {
   "cell_type": "markdown",
   "id": "abdfd017",
   "metadata": {
    "editable": true
   },
   "source": [
    "# Bibliography"
   ]
  }
 ],
 "metadata": {},
 "nbformat": 4,
 "nbformat_minor": 5
}
