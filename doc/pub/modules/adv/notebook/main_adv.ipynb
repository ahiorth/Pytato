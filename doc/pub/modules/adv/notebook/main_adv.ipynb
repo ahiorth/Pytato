{
 "cells": [
  {
   "cell_type": "markdown",
   "id": "07484bf8",
   "metadata": {
    "editable": true
   },
   "source": [
    "<!-- File automatically generated using DocOnce (https://github.com/doconce/doconce/):\n",
    "doconce format ipynb main_adv.do.txt  -->\n",
    "\n",
    "# Some advanced topics\n",
    "**Aksel Hiorth**\n",
    "University of Stavanger\n",
    "\n",
    "Date: **Jan 15, 2024**\n",
    "\n",
    "<h1 id=\"table_of_contents\">Table of contents</h1>\n",
    "\n",
    "<div class='toc'>\n",
    "<p><a href=\"#Running-Python-files-from-command-line\"> Running Python files from command line </a></p>\n",
    "<p><span class=\"tab\"> <a href=\"#Search-for-files-of-a-specific-type\"> Search for files of a specific type </a></p>\n",
    "<p><a href=\"#Creating-executable-programs-from-Python-file\"> Creating executable programs from Python file </a></p>\n",
    "<p><a href=\"#Passing-functions-to-functions\"> Passing functions to functions  </a></p>\n",
    "<p><a href=\"#Scope-of-variables\"> Scope of variables </a></p>\n",
    "<p><a href=\"#Passing-arrays-and-lists-to-functions\"> Passing arrays and lists to functions </a></p>\n",
    "<p><a href=\"#Call-by-value-or-call-by-reference\"> Call by value or call by reference  </a></p>\n",
    "<p><span class=\"tab\"> <a href=\"#Floats-and-integers\"> Floats and integers </a></p>\n",
    "<p><span class=\"tab\"> <a href=\"#Lists-and-arrays\"> Lists and arrays </a></p>\n",
    "<p><a href=\"#Mutable-and-immutable-objects\"> Mutable and immutable objects </a></p>\n",
    "<p><a href=\"#Bibliography\"> Bibliography </a></p>\n",
    "</div>\n",
    "<br>\n",
    "\n",
    "<!-- Common Mako variables and functions -->\n",
    "\n",
    "<!-- Here goes the main text. -->\n",
    "<!-- The text may be split into several files and included here -->\n",
    "<!-- via preprocess: # #include \"file1.do.txt\" etc -->\n",
    "In this chapter we have collected some topics that are slightly more advanced."
   ]
  },
  {
   "cell_type": "markdown",
   "id": "4acd17c1",
   "metadata": {
    "editable": true
   },
   "source": [
    "# Running Python files from command line\n",
    "So far we have used notebooks to write Python code. Jupyter notebooks ends with an extension `.ipynb`, and if you open them in a text editor like notepad or emacs it does not look like it does in your web browser. On the other hand you can also write Python code in files that have an extension `.py`, then you would typically use an IDE such as Visual Studio Code. In the `.py` files you cannot write markdown text. Sometimes it can be advantageous to use Python files and not Jupyter notebooks, the notebooks can take time to open and then you have to manually execute the cells you want to run.\n",
    "\n",
    "It can be very convenient to have some small programs that could do some simple tasks for you, e.g.\n",
    "1. search for files of a specific type\n",
    "\n",
    "2. remove files of a specific type\n",
    "\n",
    "3. remove or print out files that are large\n",
    "\n",
    "4. download data from the web or a server\n",
    "\n",
    "The only thing you have to do is to write your code in a suitable editor and save it, if you use Visual Studio Code or Spyder you can of course run the Python file in the editor. Next, you open the anaconda power shell, use `cd` to move where your Python file is located and write"
   ]
  },
  {
   "cell_type": "markdown",
   "id": "dc5d0b89",
   "metadata": {
    "editable": true
   },
   "source": [
    "        (base) PS C:\\Users\\Aksel Hiorth> python <name_of_file>\n"
   ]
  },
  {
   "cell_type": "markdown",
   "id": "9432617f",
   "metadata": {
    "editable": true
   },
   "source": [
    "remember to include the `.py` extension. Below are an example"
   ]
  },
  {
   "cell_type": "markdown",
   "id": "e6cf778d",
   "metadata": {
    "editable": true
   },
   "source": [
    "## Search for files of a specific type\n",
    "Put the following content in a file called `find_files.py`"
   ]
  },
  {
   "cell_type": "code",
   "execution_count": 1,
   "id": "8bbac6f4",
   "metadata": {
    "collapsed": false,
    "editable": true
   },
   "outputs": [],
   "source": [
    "#%%\n",
    "#content of find_files1.py\n",
    "import pathlib as pt \n",
    "def find_files_of_type(dir='.',extensions=['.xlsx','.txt','.INC']):\n",
    "    \"\"\"\n",
    "    return a list files of type defined in extensions\n",
    "    \"\"\"\n",
    "    p=pt.Path(dir)\n",
    "    files=[]\n",
    "    for ext in extensions:\n",
    "        for x in p.rglob(\"*\"+ext):\n",
    "            if x.is_file():\n",
    "                files.append(x.absolute())\n",
    "    return files\n",
    "if __name__ == '__main__':\n",
    "    files=find_files_of_type()\n",
    "    for f in files:\n",
    "        print(f)\n",
    "# %%"
   ]
  },
  {
   "cell_type": "markdown",
   "id": "c252eea7",
   "metadata": {
    "editable": true
   },
   "source": [
    "Then open the anaconda power shell where this file is and run"
   ]
  },
  {
   "cell_type": "markdown",
   "id": "75dd7df8",
   "metadata": {
    "editable": true
   },
   "source": [
    "        (base) PS C:\\Users\\Aksel Hiorth> python find_files.py\n"
   ]
  },
  {
   "cell_type": "markdown",
   "id": "987661c8",
   "metadata": {
    "editable": true
   },
   "source": [
    "The reason we use the statement `if __name__ == '__main__':` is to only run the code if this is the main file. This means that we can import the file `find_files.py` in another program without running the last part, because then `find_files.py` is not the main program.\n",
    "\n",
    "When running files from command line it would be useful to give some command line arguments. The `sys` module and the `sys.argv` can be used to access command line argument, the `sys.argv` command returns a list of strings, where the first element is always the name of the program. In the code below we have made it possible to also to give in the directory name of where to start the search."
   ]
  },
  {
   "cell_type": "code",
   "execution_count": 2,
   "id": "8bbac6f4_1",
   "metadata": {
    "collapsed": false,
    "editable": true
   },
   "outputs": [],
   "source": [
    "#%%\n",
    "#content of find_files1.py\n",
    "import pathlib as pt \n",
    "def find_files_of_type(dir='.',extensions=['.xlsx','.txt','.INC']):\n",
    "    \"\"\"\n",
    "    return a list files of type defined in extensions\n",
    "    \"\"\"\n",
    "    p=pt.Path(dir)\n",
    "    files=[]\n",
    "    for ext in extensions:\n",
    "        for x in p.rglob(\"*\"+ext):\n",
    "            if x.is_file():\n",
    "                files.append(x.absolute())\n",
    "    return files\n",
    "if __name__ == '__main__':\n",
    "    files=find_files_of_type()\n",
    "    for f in files:\n",
    "        print(f)\n",
    "# %%"
   ]
  },
  {
   "cell_type": "markdown",
   "id": "f43faef1",
   "metadata": {
    "editable": true
   },
   "source": [
    "To start the search two directories above"
   ]
  },
  {
   "cell_type": "markdown",
   "id": "cdf93a87",
   "metadata": {
    "editable": true
   },
   "source": [
    "        (base) PS C:\\Users\\Aksel Hiorth> python find_files2.py ../../\n"
   ]
  },
  {
   "cell_type": "markdown",
   "id": "1103b29d",
   "metadata": {
    "editable": true
   },
   "source": [
    "# Creating executable programs from Python file\n",
    "Even if someone has not Python installed on their computer, they could still be interested in your programs. It is actually possible to create executable files from your Python scripts, where all libraries are included in the executable file. Here we show the bare minimum and only the `pyinstaller` library, for more information check out this [blog](https://www.blog.pythonlibrary.org/2021/05/27/pyinstaller-how-to-turn-your-python-code-into-an-exe-on-windows/).\n",
    "\n",
    "**Install packages:**\n",
    "Open anaconda power shell, activate your environment and install `pyinstaler`"
   ]
  },
  {
   "cell_type": "markdown",
   "id": "6faefb11",
   "metadata": {
    "editable": true
   },
   "source": [
    "        (mod322) PS C:\\Users\\Aksel Hiorth> conda install pyinstaller\n"
   ]
  },
  {
   "cell_type": "markdown",
   "id": "00e372ac",
   "metadata": {
    "editable": true
   },
   "source": [
    "**Create executable:**\n",
    "Next, we must create an executable, run the following command (where your python file is located)"
   ]
  },
  {
   "cell_type": "markdown",
   "id": "73455813",
   "metadata": {
    "editable": true
   },
   "source": [
    "        (mod322) PS C:\\Users\\Aksel Hiorth> pyinstaller find_files2.py --onefile\n"
   ]
  },
  {
   "cell_type": "markdown",
   "id": "2a137249",
   "metadata": {
    "editable": true
   },
   "source": [
    "`pyinstaller` now have created two folder, a `build` folder and a `dist` folder. Inside the `dist` folder there should be a single file called `find_files2.exe`. This file can be shared with other people. You can run this file from command line as before, and it should behave as your python script."
   ]
  },
  {
   "cell_type": "markdown",
   "id": "3c69c41e",
   "metadata": {
    "editable": true
   },
   "source": [
    "# Passing functions to functions\n",
    "\n",
    "In many cases, you would also pass a function to another function to make your code more modular. Lets say we want to calculate the derivative of $\\sin x$, using the most basic definition of a derivative $f^\\prime(x) = f(x+\\Delta x)-f(x)/\\Delta x$, we could do it as"
   ]
  },
  {
   "cell_type": "code",
   "execution_count": 3,
   "id": "594d1f5e",
   "metadata": {
    "collapsed": false,
    "editable": true
   },
   "outputs": [],
   "source": [
    "def derivative_of_sine(x,delta_x):\n",
    "    ''' returns the derivative of sin x '''\n",
    "    return (np.sin(x+delta_x)-np.sin(x))/delta_x\n",
    "\n",
    "print('The derivative of sinx at x=0 is :', derivative_of_sine(0,1e-3))"
   ]
  },
  {
   "cell_type": "markdown",
   "id": "d7e22889",
   "metadata": {
    "editable": true
   },
   "source": [
    "If we would like to calculate the derivative at multiple points, that is straightforward since we have used the Numpy version of $\\sin x$."
   ]
  },
  {
   "cell_type": "code",
   "execution_count": 4,
   "id": "7cecd75b",
   "metadata": {
    "collapsed": false,
    "editable": true
   },
   "outputs": [],
   "source": [
    "x=np.array([0,.5,1])\n",
    "print('Derivative of sinx at x=0,0.5,1 is :', derivative_of_sine(x,1e-3))"
   ]
  },
  {
   "cell_type": "markdown",
   "id": "965844c7",
   "metadata": {
    "editable": true
   },
   "source": [
    "The challenge with our implementation is that if we want to calculate the derivative of another function we have to implement the derivative rule again for that function. It is better to have a separate function that calculates the derivative"
   ]
  },
  {
   "cell_type": "code",
   "execution_count": 5,
   "id": "3cf9f812",
   "metadata": {
    "collapsed": false,
    "editable": true
   },
   "outputs": [],
   "source": [
    "def f(x):\n",
    "    return np.sin(x)\n",
    "\n",
    "def df(x,f,delta_x=1e-3):\n",
    "    ''' returns the derivative of f '''\n",
    "    return (f(x+delta_x)-f(x))/delta_x\n",
    "print('Derivative of sinx at x=0 is :', df(0,f))"
   ]
  },
  {
   "cell_type": "markdown",
   "id": "1a63585e",
   "metadata": {
    "editable": true
   },
   "source": [
    "Note also that we have put `delta_x=1e-3` as a *default argument*. Default arguments have to come at the end of the argument lists, `df(x,delta_x=1e-3,f)` is not allowed. All of this looks well, but what you would experience is that your functions would not be as simple as $\\sin x$. In many cases your functions need additional arguments to be evaluated e.g.:"
   ]
  },
  {
   "cell_type": "code",
   "execution_count": 6,
   "id": "391eb1ce",
   "metadata": {
    "collapsed": false,
    "editable": true
   },
   "outputs": [],
   "source": [
    "def s(t,s0,v0,a):\n",
    "    '''\n",
    "    t  : time\n",
    "    s0 : initial starting point\n",
    "    v0 : initial velocity\n",
    "    a  : acceleration\n",
    "    returns the distance traveled\n",
    "    '''\n",
    "    return s0+v0*t+a*t*t*0.5 #multiplication (0.5)is general faster\n",
    "    \t   \t\t     #than division (2)"
   ]
  },
  {
   "cell_type": "markdown",
   "id": "e23467ef",
   "metadata": {
    "editable": true
   },
   "source": [
    "How can we calculate the derivative of this function? If we try to do `df(1,s)` we will get the following message"
   ]
  },
  {
   "cell_type": "code",
   "execution_count": 7,
   "id": "92f4e97d",
   "metadata": {
    "collapsed": false,
    "editable": true
   },
   "outputs": [],
   "source": [
    "TypeError: s() missing 3 required positional\n",
    "\t   arguments: 's0', 'v0', and 'a'"
   ]
  },
  {
   "cell_type": "markdown",
   "id": "d984c3be",
   "metadata": {
    "editable": true
   },
   "source": [
    "This happens because the `df` function expect that the function we send into the argument list has a call signature `f(x)`. What many people do to avoid this error is to use global variable, that is to define `s0, v0`, and `a` at the top of the code. This is not always the best solution. Python has a special variable `*args` which can be used to pass multiple arguments to your function, thus if we rewrite `df` like this"
   ]
  },
  {
   "cell_type": "code",
   "execution_count": 8,
   "id": "45bb4c50",
   "metadata": {
    "collapsed": false,
    "editable": true
   },
   "outputs": [],
   "source": [
    "def df(x,f,*args,delta_x=1e-3):\n",
    "    ''' returns the derivative of f '''\n",
    "    return (f(x+delta_x,*args)-f(x,*args))/delta_x"
   ]
  },
  {
   "cell_type": "markdown",
   "id": "c54ef0f5",
   "metadata": {
    "editable": true
   },
   "source": [
    "we can do (assuming `s0=0`, `v0=1`, and `a=9.8`)"
   ]
  },
  {
   "cell_type": "code",
   "execution_count": 9,
   "id": "efb2c899",
   "metadata": {
    "collapsed": false,
    "editable": true
   },
   "outputs": [],
   "source": [
    "print('The derivative of sinx at x=0 is :', df(0,f))\n",
    "print('The derivative of s(t) at t=1 is :', df(0,s,0,1,9.8))"
   ]
  },
  {
   "cell_type": "markdown",
   "id": "e5d7eed8",
   "metadata": {
    "editable": true
   },
   "source": [
    "# Scope of variables\n",
    "\n",
    "In small programs you would not care about scope, but once you have several functions, you will easily get into trouble if you do not consider the scope of a variable. By scope of a variable we mean where the variable is available, first some simple examples\n",
    "\n",
    "**A variable created inside a function is only available within the function:**\n",
    "``"
   ]
  },
  {
   "cell_type": "code",
   "execution_count": 10,
   "id": "197cedf3",
   "metadata": {
    "collapsed": false,
    "editable": true
   },
   "outputs": [],
   "source": [
    "def f(x):\n",
    "    a=10\n",
    "    b=20\n",
    "    return a*x+b"
   ]
  },
  {
   "cell_type": "markdown",
   "id": "18b8d1f0",
   "metadata": {
    "editable": true
   },
   "source": [
    "Doing `print(a)` outside the function will throw an error: `name 'a' is not defined`. What happens if we define variable `a` outside the function?"
   ]
  },
  {
   "cell_type": "code",
   "execution_count": 11,
   "id": "7ab2ee8d",
   "metadata": {
    "collapsed": false,
    "editable": true
   },
   "outputs": [],
   "source": [
    "a=2\n",
    "def f(x):\n",
    "    a=10\n",
    "    b=20\n",
    "    return a*x+b"
   ]
  },
  {
   "cell_type": "markdown",
   "id": "2710cfff",
   "metadata": {
    "editable": true
   },
   "source": [
    "If we first call the function `f(0)`, and then do `print(a)` Python would give the answer `2`, *not* `10`. A *local* variable `a` is created inside `f(x)`, that does not interfere with the variable `a` defined outside the function.\n",
    "\n",
    "**The `global` keyword can be used to pass and access variables in functions:**\n",
    "\n",
    "\""
   ]
  },
  {
   "cell_type": "code",
   "execution_count": 12,
   "id": "0192be18",
   "metadata": {
    "collapsed": false,
    "editable": true
   },
   "outputs": [],
   "source": [
    "global a\n",
    "a=2\n",
    "def f(x):\n",
    "    global a\n",
    "    a=10\n",
    "    b=20\n",
    "    return a*x+b"
   ]
  },
  {
   "cell_type": "markdown",
   "id": "c256bc61",
   "metadata": {
    "editable": true
   },
   "source": [
    "In this case `print(a)` *before* calling `f(x)` will give the answer `2` and *after* calling `f(x)` will give `10`.\n",
    "\n",
    "**Use of global variables.**\n",
    "\n",
    "Sometimes global variables can be very useful, and help you to make the code simpler. But make sure to use a *naming convention*  for them, e.g. end all the global variables with an underscore. In the example above we would write `global a_`. A person reading the code would then know that all variables ending with an underscore are global, and can potentially be modified by several functions."
   ]
  },
  {
   "cell_type": "markdown",
   "id": "383e382d",
   "metadata": {
    "editable": true
   },
   "source": [
    "# Passing arrays and lists to functions\n",
    "\n",
    "In the previous section, we looked at some simple examples regarding the scope of variables, and what happened with that variable inside and outside a function. The examples used integer or floats. However in most applications you will pass an array or a list to a function, and then you need to be aware that the behavior is not always would you might expect.\n",
    "**Unexpected behavior.**\n",
    "\n",
    "Sometimes functions do not do what you expect, this might be because the function does not treat  the arguments as you might think. The best advice is to make a very simple version of your function and test it for yourself. Is the behavior what you expect? Try to understand why or why not.\n",
    "\n",
    "Let us look at some examples, and try to understand what is going on and why."
   ]
  },
  {
   "cell_type": "code",
   "execution_count": 13,
   "id": "ff2be865",
   "metadata": {
    "collapsed": false,
    "editable": true
   },
   "outputs": [],
   "source": [
    "x=3\n",
    "def f(x):\n",
    "    x = x*2\n",
    "    return x\n",
    "print('x =',x)\n",
    "print('f(x) returns ', f(x))\n",
    "print('x is now ', x)"
   ]
  },
  {
   "cell_type": "markdown",
   "id": "1e645e92",
   "metadata": {
    "editable": true
   },
   "source": [
    "In the example above we can use `x=3`, `x=[3]`, `x=np.array([3])`, and after execution `x` is unchanged (i.e. same value as before `f(x)`) was called. Based on what we have discussed before, this is maybe what you would expect, but if we now do"
   ]
  },
  {
   "cell_type": "code",
   "execution_count": 14,
   "id": "af068a52",
   "metadata": {
    "collapsed": false,
    "editable": true
   },
   "outputs": [],
   "source": [
    "x=[3]\n",
    "def append_to_list(x):\n",
    "    return x.append(1)\n",
    "print('x = ',x)\n",
    "print('append_to_list(x) returns ', append_to_list(x))\n",
    "print('x is now ', x)"
   ]
  },
  {
   "cell_type": "markdown",
   "id": "388c74df",
   "metadata": {
    "editable": true
   },
   "source": [
    "(Clearly this function will only work for lists, due to the append command.) After execution, we get the result"
   ]
  },
  {
   "cell_type": "code",
   "execution_count": 15,
   "id": "1cbd5d35",
   "metadata": {
    "collapsed": false,
    "editable": true
   },
   "outputs": [],
   "source": [
    "x = [3]\n",
    "append_to_list(x) #returns  [3 1], x is now  [3, 1]"
   ]
  },
  {
   "cell_type": "markdown",
   "id": "df09e957",
   "metadata": {
    "editable": true
   },
   "source": [
    "Even if this might be exactly what you wanted your function to do, why does `x` change here when it is a list and not in the previous case when it is a float? Before we explain this behavior let us rewrite the function to work with Numpy arrays"
   ]
  },
  {
   "cell_type": "code",
   "execution_count": 16,
   "id": "05385b9d",
   "metadata": {
    "collapsed": false,
    "editable": true
   },
   "outputs": [],
   "source": [
    "x=np.array([3])\n",
    "def append_to_np(x):\n",
    "    return np.append(x,1)\n",
    "print('x = ',x)\n",
    "print('append_to_np(x) returns ', append_to_np(x))\n",
    "print('x is now ', x)"
   ]
  },
  {
   "cell_type": "markdown",
   "id": "99645a41",
   "metadata": {
    "editable": true
   },
   "source": [
    "The output of this code is"
   ]
  },
  {
   "cell_type": "code",
   "execution_count": 17,
   "id": "6a72f369",
   "metadata": {
    "collapsed": false,
    "editable": true
   },
   "outputs": [],
   "source": [
    "x =  np.array([3])\n",
    "append_to_np(x) #returns  [3 1], x is now  [3]"
   ]
  },
  {
   "cell_type": "markdown",
   "id": "f924d1ba",
   "metadata": {
    "editable": true
   },
   "source": [
    "This time `x` was not changed, what is happening here? It is important to understand what is going on because it deals with how Python handles variables in the memory. If `x` contains million of values, it can slow down your program, if we do"
   ]
  },
  {
   "cell_type": "code",
   "execution_count": 18,
   "id": "0a45941a",
   "metadata": {
    "collapsed": false,
    "editable": true
   },
   "outputs": [],
   "source": [
    "N=1000000\n",
    "x=[3]*N\n",
    "%timeit append_to_list(x)\n",
    "x=np.array([3]*N)\n",
    "%timeit append_to_np(x)"
   ]
  },
  {
   "cell_type": "markdown",
   "id": "d8925008",
   "metadata": {
    "editable": true
   },
   "source": [
    "On my computer I found that `append_to_list` used 76 nano seconds, and `append_to_np`\n",
    "used 512 micro seconds, the Numpy function was about 6000 times slower! To add to the confusion consider the following functions"
   ]
  },
  {
   "cell_type": "code",
   "execution_count": 19,
   "id": "5fc5728b",
   "metadata": {
    "collapsed": false,
    "editable": true
   },
   "outputs": [],
   "source": [
    "x=np.array([3])\n",
    "def add_to_np(x):\n",
    "    x=x+3\n",
    "    return x\n",
    "\n",
    "def add_to_np2(x):\n",
    "    x+=3\n",
    "    return x\n",
    "print('x = ',x)\n",
    "print('add_to_np(x) returns ', add_to_np(x))\n",
    "print('x is now ', x)\n",
    "\n",
    "print('x = ',x)\n",
    "print('add_to_np2(x) returns ', add_to_np2(x))\n",
    "print('x is now ', x)"
   ]
  },
  {
   "cell_type": "markdown",
   "id": "92733cd2",
   "metadata": {
    "editable": true
   },
   "source": [
    "The output is"
   ]
  },
  {
   "cell_type": "code",
   "execution_count": 20,
   "id": "a67261fc",
   "metadata": {
    "collapsed": false,
    "editable": true
   },
   "outputs": [],
   "source": [
    "x =  np.array([3])\n",
    "add_to_np(x) #returns [6], x is now [3] \n",
    "x =  np.array([3])\n",
    "add_to_np2(x) #returns  [6], x is now  [6]"
   ]
  },
  {
   "cell_type": "markdown",
   "id": "cd92341c",
   "metadata": {
    "editable": true
   },
   "source": [
    "In both cases the function returns what you expect, but it has an unexpected (or at least a different) behavior regarding the variable `x`. What about speed?"
   ]
  },
  {
   "cell_type": "code",
   "execution_count": 21,
   "id": "eedf018d",
   "metadata": {
    "collapsed": false,
    "editable": true
   },
   "outputs": [],
   "source": [
    "N=10000000\n",
    "x=np.array([3]*N)\n",
    "%timeit add_to_np(x)\n",
    "x=np.array([3]*N)\n",
    "%timeit add_to_np2(x)"
   ]
  },
  {
   "cell_type": "markdown",
   "id": "80ed7215",
   "metadata": {
    "editable": true
   },
   "source": [
    "`add_to_np` is about twice as slow as `add_to_np2`. In the next section we will try to explain the difference in behavior.\n",
    "\n",
    "**Avoiding unwanted behavior of functions.**\n",
    "\n",
    "The examples in this section are meant to show you that if you pass an array to a function, the array can be altered outside the scope of the function. If this is not what you want, it could lead to bugs that are hard to detect. Thus, if you experience unwanted behavior pick out the part of function involving list or array operations and test one by one in the editor."
   ]
  },
  {
   "cell_type": "markdown",
   "id": "d0f86ecb",
   "metadata": {
    "editable": true
   },
   "source": [
    "# Call by value or call by reference\n",
    "\n",
    "For anyone that has programmed in C or C++ call by reference or value is something one need to think about constantly. When we pass a variable to a function there are two choices, should we pass a copy of the variable or should we pass information about where the variable is stored in memory?\n",
    "**Value and reference.**\n",
    "\n",
    "In C and C++ pass by value means that we are making a copy in the memory of the variable we are sending to the function, and pass by reference means that we are sending the actual parameter or more specific the address to the memory location of the parameter. In Python all variables are passed by object reference.\n",
    "\n",
    "In C and C++ you always tell in the function definition if the variables are passed by value or reference. Thus if you would like a change in a variable outside the function definition, you pass the variable by reference, otherwise by value. In Python we always pass by (object) reference."
   ]
  },
  {
   "cell_type": "markdown",
   "id": "82b90677",
   "metadata": {
    "editable": true
   },
   "source": [
    "## Floats and integers\n",
    "To gain a deeper understanding, we can use the `id` function, the `id` function gives the unique id to a variable. In C this would be the actual memory address, lets look at a couple of examples"
   ]
  },
  {
   "cell_type": "code",
   "execution_count": 22,
   "id": "ded9f508",
   "metadata": {
    "collapsed": false,
    "editable": true
   },
   "outputs": [],
   "source": [
    "a=10.0\n",
    "print(id(a)) #gives on my computer 140587667748656\n",
    "a += 1\n",
    "print(id(a)) #gives on my computer 140587667748400"
   ]
  },
  {
   "cell_type": "markdown",
   "id": "36d272d3",
   "metadata": {
    "editable": true
   },
   "source": [
    "Thus, after adding 1 to `a`, `a` is assigned *a new place in memory*. This is very different from C or C++, in C or C++ the variable, once it is created, *always has the same memory address*. In Python this is not the case, it works in the opposite way. The statement `a=10.0`, is executed so that *first* 10.0 is created in memory, secondly `x` is assigned the reference to 10.0. The assignment operator `=` indicates that `a` should point to whatever is on the right hand side. Another example is"
   ]
  },
  {
   "cell_type": "code",
   "execution_count": 23,
   "id": "e9163662",
   "metadata": {
    "collapsed": false,
    "editable": true
   },
   "outputs": [],
   "source": [
    "a=10.0\n",
    "b=10.0\n",
    "print(a is b) # prints False\n",
    "b=a\n",
    "print(a is b ) # prints True"
   ]
  },
  {
   "cell_type": "markdown",
   "id": "65123a78",
   "metadata": {
    "editable": true
   },
   "source": [
    "In this case 10.0 is created in two different places in the memory and a different reference is assigned to `a` and `b`. However if we put `b=a`, `b` points to the same object as `a` is pointing on. More examples"
   ]
  },
  {
   "cell_type": "code",
   "execution_count": 24,
   "id": "88dd0b22",
   "metadata": {
    "collapsed": false,
    "editable": true
   },
   "outputs": [],
   "source": [
    "a=10\n",
    "b=a\n",
    "print(a is b) # True\n",
    "a+=2\n",
    "print(a is b) # False"
   ]
  },
  {
   "cell_type": "markdown",
   "id": "4fc9cadd",
   "metadata": {
    "editable": true
   },
   "source": [
    "When we add 2 to `a`, we actually add 2 to the value of 10, the number 12 is assigned a new place in memory and `a` will be assigned that object, whereas `b` would still points the old object 10."
   ]
  },
  {
   "cell_type": "markdown",
   "id": "37d10165",
   "metadata": {
    "editable": true
   },
   "source": [
    "## Lists and arrays\n",
    "Yous should think of lists and arrays as containers (or a box). If we do"
   ]
  },
  {
   "cell_type": "code",
   "execution_count": 25,
   "id": "9cef7c61",
   "metadata": {
    "collapsed": false,
    "editable": true
   },
   "outputs": [],
   "source": [
    "x=[0,1,2,3,4]\n",
    "print(id(x))\n",
    "x[0]=10\n",
    "print(id(x)) # same id value as before and x=[10,1,2,3,4]"
   ]
  },
  {
   "cell_type": "markdown",
   "id": "9610a5f7",
   "metadata": {
    "editable": true
   },
   "source": [
    "First, we create a list, which is basically a box with the numbers 0, 1, 2, 3, 4. The variable `x` points to *the box*, and `x[0]` points to 0, and `x[1]` to 1 etc. Thus if we do `x[0]=10`, that would be the same as picking 0 out of the box and replacing it with 10, but *the box stays the same*. Thus when we do `print(x)`, we print the content of the box. If we do"
   ]
  },
  {
   "cell_type": "code",
   "execution_count": 26,
   "id": "da9d0a0a",
   "metadata": {
    "collapsed": false,
    "editable": true
   },
   "outputs": [],
   "source": [
    "x=[0,1,2,3,4]\n",
    "y=x\n",
    "print(x is y) # True\n",
    "x.append(10)  # x is now [0,1,2,3,4,10]\n",
    "print(y)      # y=[0,1,2,3,4,10]\n",
    "print(x is y) # True"
   ]
  },
  {
   "cell_type": "markdown",
   "id": "aae37636",
   "metadata": {
    "editable": true
   },
   "source": [
    "What happens here is that we create a box with the numbers 0, 1, 2, 3, 4, `x` is referenced that box. Next, we do `y=x` so that `y` is referenced the *same box* as `x`. Then, we add the number 10 to that box, and `x` and `y` still points to the same box.\n",
    "\n",
    "Numpy arrays behave differently, and that is basically because if we want to add a number to a Numpy array we have to do `x=np.array(x,10)`. Because of the assignment operator `=` , we take the content of the original box add 10 and put it into a *new* box"
   ]
  },
  {
   "cell_type": "code",
   "execution_count": 27,
   "id": "1acc03bc",
   "metadata": {
    "collapsed": false,
    "editable": true
   },
   "outputs": [],
   "source": [
    "x=np.array([0,1,2,3,4])\n",
    "y=x\n",
    "print(x is y)     # True\n",
    "x=np.append(x,10) # x is now [0,1,2,3,4,10]\n",
    "print(y)          # y=[0,1,2,3,4]\n",
    "print(x is y)     # False"
   ]
  },
  {
   "cell_type": "markdown",
   "id": "d401c9ce",
   "metadata": {
    "editable": true
   },
   "source": [
    "The reason for this behavior is that the elements in Numpy arrays (contrary to lists) have to be continuous in the memory, and the only way to achieve this is to create a new box that is large enough to also contain the new number. This also explains that if you use the `np.append(x,some_value)` inside a function where `x` is large it could slow down your code, because the program has to delete `x` and create a new very large box each time it would want to add a new element. A better way to do it is to create `x` *large enough* in the beginning, and then just assign values `x[i]=a`."
   ]
  },
  {
   "cell_type": "markdown",
   "id": "245ad8da",
   "metadata": {
    "editable": true
   },
   "source": [
    "# Mutable and immutable objects\n",
    "What we have explained in the previous section is related to what is known as mutable and immutable objects. These terms are used to describe objects that have an internal state that can be changed (mutable), and objects that have an internal state that cannot be changed after they have been created. Example of mutable objects are lists, dictionaries, and arrays. Examples of immutable objects are floats, ints, tuples, and strings. Thus if we create the number 10 its value cannot be changed (and why would we do that?). Note that this is *not the same as saying that*  `x=10` and that the internal state of `x` cannot change, this is *not* true. We are allowed to make `x` reference another object. If we do `x=10`, then `x is 10` will give true and they will have the same value if we use the `id` operator on `x` and `10`. If we later say that `a=11` then `a is 10` will give false and `id(a)` and `id(10)` give different values, but * `id(10)` will have the same value as before*.\n",
    "\n",
    "Lists are mutable objects, and once a list is created, we can change the content without changing the reference to that object. That is why the operations `x=[]` and `x.append(1)`, does not change the id of x, and also explain that if we put `y=x`, `y` would change if `x` is changed. Contrary to immutable objects if `x=[]`, and `y=[]` then `x is y` will give false. Thus, whenever you create a list it will be an unique object.    \n",
    "\n",
    "**A final tip.**\n",
    "\n",
    "You are bound to get into strange, unwanted behavior when working with lists, arrays and dictionaries (mutable) objects in Python. Whenever, you are unsure, just make a simple version of your lists and perform some of the operations on them to investigate if the behavior is what you want.\n",
    "\n",
    "Finally, we show some ``unexpected\" behavior, just to demonstrate that it is easy to do mistakes and one should always test code on simple examples."
   ]
  },
  {
   "cell_type": "code",
   "execution_count": 28,
   "id": "7074b069",
   "metadata": {
    "collapsed": false,
    "editable": true
   },
   "outputs": [],
   "source": [
    "x_old=[]\n",
    "x  = [1, 2, 3]\n",
    "x_old[:] = x[:] # x_old = [1, 2, 3]\n",
    "x[0] = 10\n",
    "print(x_old) # \"expected\" x_old = [10, 2, 3], actual [1, 2, 3]"
   ]
  },
  {
   "cell_type": "markdown",
   "id": "2ef2870f",
   "metadata": {
    "editable": true
   },
   "source": [
    "Comment: We put the *content* of the `x` container into `x_old`, but `x` and `x_old` reference different containers."
   ]
  },
  {
   "cell_type": "code",
   "execution_count": 29,
   "id": "9b2ea3bd",
   "metadata": {
    "collapsed": false,
    "editable": true
   },
   "outputs": [],
   "source": [
    "def add_to_list(x,add_to=[])\n",
    "    add_to.append(x)\n",
    "    return add_to\n",
    "\n",
    "print(add_to_list(1)) # \"expected\" [1] actual [1]\n",
    "print(add_to_list(2)) # \"expected\" [2] actual [1, 2]\n",
    "print(add_to_list(3)) # \"expected\" [3] actual [1, 2, 3]"
   ]
  },
  {
   "cell_type": "markdown",
   "id": "99973895",
   "metadata": {
    "editable": true
   },
   "source": [
    "Comment: `add_to=[]` is a default argument and it is created once when the program starts and not each time the function is called."
   ]
  },
  {
   "cell_type": "code",
   "execution_count": 30,
   "id": "08439456",
   "metadata": {
    "collapsed": false,
    "editable": true
   },
   "outputs": [],
   "source": [
    "x = [10]\n",
    "y = x\n",
    "y = y + [1]\n",
    "print(x, y) # prints [10] [10, 1]\n",
    "\n",
    "x = [10]\n",
    "y = x\n",
    "y += [1] \n",
    "print(x, y) # prints [10, 1] [10, 1]"
   ]
  },
  {
   "cell_type": "markdown",
   "id": "4993eedc",
   "metadata": {
    "editable": true
   },
   "source": [
    "Comment: In the first case `y + [1]` creates a new object and the assignment operator `=` assign `y` to that object, thus `x` stays the same. In the second case the `+=` adds `[1]` to the `y` container without changing the container, and thus `x` also changes."
   ]
  },
  {
   "cell_type": "markdown",
   "id": "5243f565",
   "metadata": {
    "editable": true
   },
   "source": [
    "# Bibliography"
   ]
  }
 ],
 "metadata": {},
 "nbformat": 4,
 "nbformat_minor": 5
}
